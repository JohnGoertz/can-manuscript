{
 "cells": [
  {
   "cell_type": "code",
   "execution_count": 1,
   "id": "737c6169",
   "metadata": {},
   "outputs": [],
   "source": [
    "from operator import and_, or_\n",
    "from functools import reduce\n",
    "\n",
    "import pathlib as pl\n",
    "import pandas as pd\n",
    "import numpy as np\n",
    "\n",
    "from tinydb import TinyDB\n",
    "\n",
    "from candas.test import QuantStudio\n",
    "from candas.lims import Librarian, library\n",
    "from candas.lims.schema import Fragment, Amplicon, Core, Primer, ProbeOligo, ProbeSeq"
   ]
  },
  {
   "cell_type": "code",
   "execution_count": 2,
   "id": "ad8b3c90",
   "metadata": {},
   "outputs": [],
   "source": [
    "lib = Librarian().load(library).open()\n",
    "# lib.get_by_name(Experiment, 'JG073A').wells[0].reaction"
   ]
  },
  {
   "cell_type": "code",
   "execution_count": 3,
   "id": "6d21f863",
   "metadata": {},
   "outputs": [],
   "source": [
    "here = pl.Path.cwd()\n",
    "data_pth = here / 'raw_data'"
   ]
  },
  {
   "cell_type": "code",
   "execution_count": null,
   "id": "2f4d58b2",
   "metadata": {},
   "outputs": [],
   "source": [
    "\n",
    "data = pd.DataFrame()\n",
    "meta = pd.DataFrame()\n",
    "figs = pd.DataFrame()\n",
    "smix = pd.DataFrame()\n",
    "\n",
    "fragment_sequences = {}\n",
    "primer_sequences = {}"
   ]
  },
  {
   "cell_type": "code",
   "execution_count": 5,
   "id": "8983dafa",
   "metadata": {},
   "outputs": [],
   "source": [
    "seq_aliases = {\n",
    "    'ISO': 'S044.12',\n",
    "    'GC15': 'S044.9',\n",
    "    'GC25': 'S044.10',\n",
    "    'GC35': 'S044.11',\n",
    "    'GC45': 'S044.12',\n",
    "    'GC55': 'S044.14',\n",
    "    'GC65': 'S044.15',\n",
    "    'GC75': 'S044.16',\n",
    "    'GC80': 'S044.17',\n",
    "    'GC85': 'S044.18',\n",
    "    'BP240': 'S044.25',\n",
    "    'BP200': 'S044.24',\n",
    "    'BP160': 'S044.21',\n",
    "    'BP55': 'S044.8',\n",
    "    'BP40': 'S044.4',\n",
    "    'BP30': 'S044.2',\n",
    "    'BP15': 'S044.0',\n",
    "}"
   ]
  },
  {
   "cell_type": "code",
   "execution_count": 6,
   "id": "3c7e9d52",
   "metadata": {},
   "outputs": [],
   "source": [
    "def name_reactions(df):\n",
    "    return df.assign(\n",
    "        Reaction=lambda df: df.apply(\n",
    "            lambda row: f\"{row.Experiment}_{row.Well:03d}\", axis=1\n",
    "        )\n",
    "    )\n",
    "\n",
    "\n",
    "def process_experiment(experiment, filename, cmax=50):\n",
    "    qs = (\n",
    "        QuantStudio(data_pth / filename, experiment)\n",
    "        .import_data()\n",
    "        .format_reactions()\n",
    "        .index_reactions()\n",
    "        .subtract_background()\n",
    "        .normalize_reactions(cmax=cmax)\n",
    "        .extract_endpoints(cmax=cmax, name=\"FAM-HEX\")\n",
    "    )\n",
    "    wide = name_reactions(qs.reactions.wide)\n",
    "    wide[\"Endpoint\"] = wide.apply(lambda row: row.Fluorescence[cmax - 1], axis=1)\n",
    "    return wide[\n",
    "        [\n",
    "            \"Reaction\",\n",
    "            \"Experiment\",\n",
    "            \"Well\",\n",
    "            \"Target\",\n",
    "            \"Copies\",\n",
    "            \"Reporter\",\n",
    "            \"Sample\",\n",
    "            \"CT\",\n",
    "            \"Endpoint\",\n",
    "            \"Cycle\",\n",
    "            \"Fluorescence\",\n",
    "            \"Corr_Fluorescence\",\n",
    "        ]\n",
    "    ]\n",
    "\n",
    "\n",
    "def parse_rxn_specs(filename, id_column=\"Sample\"):\n",
    "    db_file = data_pth / filename\n",
    "    rxn_db = TinyDB(db_file)\n",
    "    rxns = pd.DataFrame(\n",
    "        [rxn[\"oligos\"] | {id_column: rxn[\"name\"]} for rxn in rxn_db.all()]\n",
    "    )\n",
    "    rxns = rxns.melt(\n",
    "        id_vars=[id_column], var_name=\"component\", value_name=\"concentration\"\n",
    "    ).assign(units=\"copies\")\n",
    "    return rxns\n",
    "\n",
    "def extract_meta(data):\n",
    "    meta = data[['Reaction','Target','Copies']].rename(\n",
    "        columns={\"Target\": \"component\", \"Copies\": \"concentration\"}\n",
    "    ).assign(units=\"copies\", component=lambda df: df.component.replace(seq_aliases))\n",
    "    return neaten_meta(meta)\n",
    "\n",
    "def neaten_meta(meta):\n",
    "    return meta.drop_duplicates().reset_index(drop=True)[\n",
    "        [\"Reaction\", \"component\", \"concentration\", \"units\"]\n",
    "    ]\n",
    "\n",
    "\n",
    "def append_data(new_data):\n",
    "    assert new_data.shape[0] > 0\n",
    "    new = (\n",
    "        pd.concat(\n",
    "            [\n",
    "                data,\n",
    "                new_data[\n",
    "                    [\n",
    "                        \"Reaction\",\n",
    "                        \"Experiment\",\n",
    "                        \"Well\",\n",
    "                        \"Reporter\",\n",
    "                        \"CT\",\n",
    "                        \"Endpoint\",\n",
    "                        \"Cycle\",\n",
    "                        \"Fluorescence\",\n",
    "                        \"Corr_Fluorescence\",\n",
    "                    ]\n",
    "                ],\n",
    "            ],\n",
    "            axis=0,\n",
    "            ignore_index=True,\n",
    "        )\n",
    "        .drop_duplicates(subset=[\"Reaction\", \"Experiment\", \"Well\", \"Reporter\"])\n",
    "        .reset_index(drop=True)\n",
    "    )\n",
    "\n",
    "    print(f\"The shape of `data` is now {new.shape[0]} x {new.shape[1]}\")\n",
    "    return new\n",
    "\n",
    "\n",
    "def append_meta(new_meta, supermix=None):\n",
    "    assert new_meta.shape[0] > 0\n",
    "\n",
    "    if supermix is not None:\n",
    "        assert isinstance(supermix, str)\n",
    "        if not supermix.endswith(\"_supermix\"):\n",
    "            supermix = f\"{supermix}_supermix\"\n",
    "            \n",
    "        new_meta = pd.concat(\n",
    "            [\n",
    "                new_meta,\n",
    "                pd.DataFrame(new_meta.Reaction.unique(), columns=[\"Reaction\"]).assign(\n",
    "                    component=supermix,\n",
    "                    concentration=1,\n",
    "                    units=\"X\",\n",
    "                ),\n",
    "            ]\n",
    "        )\n",
    "\n",
    "    new = (\n",
    "        pd.concat(\n",
    "            [\n",
    "                meta,\n",
    "                new_meta[[\"Reaction\", \"component\", \"concentration\", \"units\"]],\n",
    "            ],\n",
    "            axis=0,\n",
    "            ignore_index=True,\n",
    "        )\n",
    "        .drop_duplicates()\n",
    "        .replace({\"component\": seq_aliases})\n",
    "        .reset_index(drop=True)\n",
    "    )\n",
    "\n",
    "    print(f\"The shape of `meta` is now {new.shape[0]} x {new.shape[1]}\")\n",
    "    return new\n",
    "\n",
    "\n",
    "def append_smix(new_smix, name):\n",
    "    assert new_smix.shape[0] > 0\n",
    "    if not new_smix.component.str.contains(\"Master Mix\").any():\n",
    "        new_smix.loc[-1] = [\"TaqMan Fast Advanced Master Mix\", 1, \"X\"]\n",
    "    new_smix.reset_index(drop=True, inplace=True)\n",
    "\n",
    "    assert isinstance(name, str)\n",
    "    if not name.endswith(\"_supermix\"):\n",
    "        name = f\"{name}_supermix\"\n",
    "        \n",
    "    new = (\n",
    "        pd.concat(\n",
    "            [\n",
    "                smix,\n",
    "                new_smix.assign(SuperMix=name)[\n",
    "                    [\"SuperMix\", \"component\", \"concentration\", \"units\"]\n",
    "                ],\n",
    "            ],\n",
    "            axis=0,\n",
    "            ignore_index=True,\n",
    "        )\n",
    "        .drop_duplicates()\n",
    "        .reset_index(drop=True)\n",
    "    )\n",
    "\n",
    "    print(f\"The shape of `smix` is now {new.shape[0]} x {new.shape[1]}\")\n",
    "    return new\n",
    "\n",
    "\n",
    "def append_figs(reactions, alias):\n",
    "    new_figs = pd.DataFrame(reactions, columns=[\"Reaction\"]).assign(figure_alias=alias)\n",
    "    new = (\n",
    "        pd.concat([figs, new_figs], axis=0, ignore_index=True)\n",
    "        .drop_duplicates()\n",
    "        .reset_index(drop=True)\n",
    "    )\n",
    "\n",
    "    print(f\"The shape of `figs` is now {new.shape[0]} x {new.shape[1]}\")\n",
    "    return new\n",
    "\n",
    "\n",
    "def filter_reactions(this, this_filter):\n",
    "\n",
    "    these_rxns = this.groupby(\"Reaction\").filter(this_filter).Reaction.unique()\n",
    "\n",
    "    n_rxns = len(these_rxns)\n",
    "    assert n_rxns > 0\n",
    "    print(n_rxns, \"matching reactions\")\n",
    "\n",
    "    return these_rxns"
   ]
  },
  {
   "cell_type": "markdown",
   "id": "afb57001",
   "metadata": {},
   "source": [
    "# Fig 3 wool_wren"
   ]
  },
  {
   "cell_type": "markdown",
   "id": "672c2347",
   "metadata": {},
   "source": [
    "## JG034: Bipartite"
   ]
  },
  {
   "cell_type": "code",
   "execution_count": 7,
   "id": "542b9354",
   "metadata": {},
   "outputs": [
    {
     "name": "stdout",
     "output_type": "stream",
     "text": [
      "The shape of `smix` is now 6 x 4\n"
     ]
    }
   ],
   "source": [
    "primers_034 = [\n",
    "    ['FP004', 125, 'nM'],\n",
    "    ['RP004', 125, 'nM'],\n",
    "]\n",
    "\n",
    "probes_034 = [\n",
    "    ['Pr002', 250, 'nM'],\n",
    "    ['Pr003', 250, 'nM'],]\n",
    "\n",
    "plastic_yak_smix = pd.DataFrame(\n",
    "    [[seq_aliases['GC55'], 10**5, 'copies']] + probes_034 + primers_034,\n",
    "    columns=[\"component\", \"concentration\", \"units\"],\n",
    ")\n",
    "smix = append_smix(plastic_yak_smix, \"plastic_yak\")"
   ]
  },
  {
   "cell_type": "code",
   "execution_count": 8,
   "id": "04408caa",
   "metadata": {},
   "outputs": [
    {
     "name": "stdout",
     "output_type": "stream",
     "text": [
      "The shape of `data` is now 28 x 9\n",
      "The shape of `meta` is now 28 x 4\n",
      "The shape of `figs` is now 14 x 2\n",
      "The shape of `figs` is now 28 x 2\n"
     ]
    }
   ],
   "source": [
    "JG034_data = process_experiment('JG034', 'JG034 TMCC1 Gen2 Competitors - 59C v3.xlsx')\n",
    "\n",
    "JG034_data = JG034_data[JG034_data.Target.str.contains(\"GC55\")].assign(Target='S044.13')\n",
    "\n",
    "JG034_meta = pd.DataFrame()\n",
    "JG034_meta['Reaction'] = JG034_data.Reaction\n",
    "JG034_meta['component'] = JG034_data.Target.str.split(\" - \", expand=True)[0]\n",
    "JG034_meta['concentration'] = JG034_data.Copies\n",
    "JG034_meta['units'] = 'copies'\n",
    "JG034_meta = neaten_meta(JG034_meta)\n",
    "JG034_rxns = JG034_meta.Reaction.unique()\n",
    "\n",
    "data = append_data(JG034_data)\n",
    "meta = append_meta(JG034_meta, supermix='plastic_yak')\n",
    "figs = append_figs(JG034_rxns, 'plastic_yak')\n",
    "figs = append_figs(JG034_rxns, 'ceramic_zebu')"
   ]
  },
  {
   "cell_type": "markdown",
   "id": "a281ca82",
   "metadata": {},
   "source": [
    "## JG071B: Tripartite"
   ]
  },
  {
   "cell_type": "code",
   "execution_count": 9,
   "id": "cdcc4780",
   "metadata": {},
   "outputs": [
    {
     "name": "stdout",
     "output_type": "stream",
     "text": [
      "The shape of `smix` is now 15 x 4\n"
     ]
    }
   ],
   "source": [
    "primers_071b = [\n",
    "    [\"FP001\", 100, \"nM\"],\n",
    "    [\"RP001\", 100, \"nM\"],\n",
    "    [\"FP005\", 100, \"nM\"],\n",
    "    [\"RP005\", 100, \"nM\"],\n",
    "]\n",
    "\n",
    "probes_071b = [\n",
    "    [\"Pr002\", 200, \"nM\"],\n",
    "    [\"Pr003\", 200, \"nM\"],\n",
    "]\n",
    "\n",
    "metal_anchovy_smix = pd.DataFrame(\n",
    "    [[\"S057.3.2\", 10**6, \"copies\"], [\"S057.4.2\", 10**4, \"copies\"]]\n",
    "    + probes_071b\n",
    "    + primers_071b,\n",
    "    columns=[\"component\", \"concentration\", \"units\"],\n",
    ")\n",
    "smix = append_smix(metal_anchovy_smix, \"metal_anchovy\")"
   ]
  },
  {
   "cell_type": "code",
   "execution_count": 10,
   "id": "3022205b",
   "metadata": {},
   "outputs": [
    {
     "name": "stdout",
     "output_type": "stream",
     "text": [
      "13 matching reactions\n",
      "The shape of `data` is now 54 x 9\n",
      "The shape of `meta` is now 54 x 4\n",
      "The shape of `figs` is now 41 x 2\n",
      "The shape of `figs` is now 54 x 2\n"
     ]
    }
   ],
   "source": [
    "JG071B_data = process_experiment('JG071B', \"JG071B Tripartite sweep GBP6.xlsx\")\n",
    "\n",
    "JG071B_meta = parse_rxn_specs(\"JG071B Reaction Specifications.json\")\n",
    "JG071B_meta = neaten_meta(JG071B_meta.merge(JG071B_data[['Reaction','Sample']]))\n",
    "\n",
    "def this_filter(grp):\n",
    "    conditions = [\n",
    "        (grp.component == \"S036.5\") & (grp.concentration > 10),\n",
    "        (grp.component == \"S057.3.2\") & (grp.concentration == 10**6),\n",
    "        (grp.component == \"S057.4.2\") & (grp.concentration == 10**4)\n",
    "    ]\n",
    "\n",
    "    return reduce(and_, [cond.any() for cond in conditions])\n",
    "\n",
    "JG071B_rxns = filter_reactions(JG071B_meta, this_filter)\n",
    "JG071B_data = JG071B_data[JG071B_data.Reaction.isin(JG071B_rxns)]\n",
    "JG071B_meta = JG071B_meta[JG071B_meta.Reaction.isin(JG071B_rxns)]\n",
    "JG071B_meta = JG071B_meta[JG071B_meta.component == 'S036.5']\n",
    "\n",
    "data = append_data(JG071B_data)\n",
    "meta = append_meta(JG071B_meta, supermix='metal_anchovy')\n",
    "figs = append_figs(JG071B_rxns, \"metal_anchovy\")\n",
    "figs = append_figs(JG071B_rxns, \"digital_bear\")"
   ]
  },
  {
   "cell_type": "markdown",
   "id": "5f7c0103",
   "metadata": {},
   "source": [
    "## JG074C: Antiparallel Redundant Module"
   ]
  },
  {
   "cell_type": "code",
   "execution_count": 11,
   "id": "1a38993c",
   "metadata": {},
   "outputs": [
    {
     "name": "stdout",
     "output_type": "stream",
     "text": [
      "The shape of `smix` is now 26 x 4\n"
     ]
    }
   ],
   "source": [
    "primers_074C = [\n",
    "    [\"FP001\", 100, \"nM\"],\n",
    "    [\"RP001\", 100, \"nM\"],\n",
    "    [\"FP002\", 100, \"nM\"],\n",
    "    [\"RP002\", 100, \"nM\"],\n",
    "]\n",
    "\n",
    "probes_074C = [\n",
    "    [\"Pr001\", 200, \"nM\"],\n",
    "    [\"Pr004\", 200, \"nM\"],\n",
    "    [\"Pr007\", 200, \"nM\"],\n",
    "    [\"Pr008\", 200, \"nM\"],\n",
    "]\n",
    "\n",
    "electric_chinchilla_smix = pd.DataFrame(\n",
    "    [[\"S037.01.01b\", 10**6, \"copies\"], [\"S036.1b\", 10**4, \"copies\"]]\n",
    "    + probes_074C\n",
    "    + primers_074C,\n",
    "    columns=[\"component\", \"concentration\", \"units\"],\n",
    ")\n",
    "smix = append_smix(electric_chinchilla_smix, \"electric_chinchilla\")"
   ]
  },
  {
   "cell_type": "code",
   "execution_count": 12,
   "id": "e3b8c428",
   "metadata": {},
   "outputs": [
    {
     "name": "stdout",
     "output_type": "stream",
     "text": [
      "16 matching reactions\n",
      "The shape of `data` is now 86 x 9\n",
      "The shape of `meta` is now 86 x 4\n",
      "The shape of `figs` is now 70 x 2\n",
      "The shape of `figs` is now 86 x 2\n"
     ]
    }
   ],
   "source": [
    "JG074C_data = process_experiment('JG074C', \"JG074C_L2_500_competitor_sweep.xlsx\")\n",
    "\n",
    "JG074C_meta = parse_rxn_specs(\"JG074C Reaction Specifications.json\")\n",
    "JG074C_meta = neaten_meta(JG074C_meta.merge(JG074C_data[['Reaction','Sample']]))\n",
    "\n",
    "def this_filter(grp):\n",
    "    conditions = [\n",
    "        (grp.component == \"S037.01.01b\") & (grp.concentration == 10**6),\n",
    "        (grp.component == \"S036.1b\") & (grp.concentration == 10**2)\n",
    "    ]\n",
    "\n",
    "    return reduce(and_, [cond.any() for cond in conditions])\n",
    "\n",
    "JG074C_rxns = filter_reactions(JG074C_meta, this_filter)\n",
    "JG074C_data = JG074C_data[JG074C_data.Reaction.isin(JG074C_rxns)]\n",
    "JG074C_meta = JG074C_meta[JG074C_meta.Reaction.isin(JG074C_rxns)]\n",
    "JG074C_meta = JG074C_meta[JG074C_meta.component == 'L2_500']\n",
    "\n",
    "data = append_data(JG074C_data)\n",
    "meta = append_meta(JG074C_meta, supermix='electric_chinchilla')\n",
    "figs = append_figs(JG074C_rxns, \"electric_chinchilla\")\n",
    "figs = append_figs(JG074C_rxns, \"solar_dog\")"
   ]
  },
  {
   "cell_type": "markdown",
   "id": "83a04613",
   "metadata": {},
   "source": [
    "## JG074D: Parallel Redundant Module"
   ]
  },
  {
   "cell_type": "code",
   "execution_count": 13,
   "id": "09d92c2c",
   "metadata": {},
   "outputs": [
    {
     "name": "stdout",
     "output_type": "stream",
     "text": [
      "The shape of `smix` is now 37 x 4\n"
     ]
    }
   ],
   "source": [
    "primers_074D = [\n",
    "    [\"FP001\", 100, \"nM\"],\n",
    "    [\"RP001\", 100, \"nM\"],\n",
    "    [\"FP002\", 100, \"nM\"],\n",
    "    [\"RP002\", 100, \"nM\"],\n",
    "]\n",
    "\n",
    "probes_074D = [\n",
    "    [\"Pr001\", 200, \"nM\"],\n",
    "    [\"Pr004\", 200, \"nM\"],\n",
    "    [\"Pr007\", 200, \"nM\"],\n",
    "    [\"Pr008\", 200, \"nM\"],\n",
    "]\n",
    "\n",
    "lunar_earwig_smix = pd.DataFrame(\n",
    "    [[\"S037.01.01b\", 10**8, \"copies\"], [\"S036.0\", 10**2, \"copies\"]]\n",
    "    + probes_074D\n",
    "    + primers_074D,\n",
    "    columns=[\"component\", \"concentration\", \"units\"],\n",
    ")\n",
    "smix = append_smix(lunar_earwig_smix, \"lunar_earwig\")"
   ]
  },
  {
   "cell_type": "code",
   "execution_count": 14,
   "id": "779929e3",
   "metadata": {},
   "outputs": [
    {
     "name": "stdout",
     "output_type": "stream",
     "text": [
      "15 matching reactions\n",
      "The shape of `data` is now 116 x 9\n",
      "The shape of `meta` is now 116 x 4\n",
      "The shape of `figs` is now 101 x 2\n",
      "The shape of `figs` is now 116 x 2\n"
     ]
    }
   ],
   "source": [
    "JG074D_data = process_experiment('JG074D', \"JG074D_L2_500_like_competitor_sweep.xlsx\")\n",
    "\n",
    "JG074D_meta = parse_rxn_specs(\"JG074D Reaction Specifications.json\")\n",
    "JG074D_meta = neaten_meta(JG074D_meta.merge(JG074D_data[['Reaction','Sample']]))\n",
    "\n",
    "def this_filter(grp):\n",
    "    conditions = [\n",
    "        (grp.component == \"S037.01.01b\") & (grp.concentration == 10**8),\n",
    "        (grp.component == \"S036.0\") & (grp.concentration == 10**2)\n",
    "    ]\n",
    "\n",
    "    return reduce(and_, [cond.any() for cond in conditions])\n",
    "\n",
    "JG074D_rxns = filter_reactions(JG074D_meta, this_filter)\n",
    "JG074D_data = JG074D_data[JG074D_data.Reaction.isin(JG074D_rxns)]\n",
    "JG074D_meta = JG074D_meta[JG074D_meta.Reaction.isin(JG074D_rxns)]\n",
    "JG074D_meta = JG074D_meta[JG074D_meta.component == 'L2_500_like']\n",
    "\n",
    "data = append_data(JG074D_data)\n",
    "meta = append_meta(JG074D_meta, supermix=\"lunar_earwig\")\n",
    "figs = append_figs(JG074D_rxns, \"lunar_earwig\")\n",
    "figs = append_figs(JG074D_rxns, \"cosmic_falcon\")"
   ]
  },
  {
   "cell_type": "markdown",
   "id": "e723fd6b",
   "metadata": {},
   "source": [
    "# Fig 4 galactic_gorilla"
   ]
  },
  {
   "cell_type": "code",
   "execution_count": 15,
   "id": "68f9de8f",
   "metadata": {},
   "outputs": [],
   "source": [
    "ARG1_wildtype = 'S036.0'\n",
    "GBP6_wildtype = 'S036.5'\n",
    "TMCC1_wildtype = 'S044.13'\n",
    "PRDM1_wildtype = 'S_PRDM1_WTb'\n",
    "\n",
    "ARG1_competitor = 'S036.1b'\n",
    "GBP6_competitor = 'S044.6'\n",
    "TMCC1_competitor = 'S037.01.01b'\n",
    "PRDM1_competitor = 'S057.5.7'\n",
    "\n",
    "ARG1_comp_lg10_copies = 1.4\n",
    "GBP6_comp_lg10_copies = 1.0\n",
    "TMCC1_comp_lg10_copies = 1.8\n",
    "PRDM1_comp_lg10_copies = 3.8\n",
    "\n",
    "ARG1_p1 = 'FP002'\n",
    "ARG1_p2 = 'FP002'\n",
    "GBP6_p1 = 'FP001'\n",
    "GBP6_p2 = 'RP001'\n",
    "TMCC1_p1 = 'FP004'\n",
    "TMCC1_p2 = 'RP004'\n",
    "PRDM1_p1 = 'FP003'\n",
    "PRDM1_p2 = 'RP008'\n",
    "\n",
    "ARG1_pnM = 100\n",
    "GBP6_pnM = 80\n",
    "TMCC1_pnM = 80\n",
    "PRDM1_pnM = 40\n",
    "\n",
    "galactic_gorilla_probes = ['Pr001','Pr002','Pr003','Pr004','Pr005','Pr007','Pr008','Pr009']\n",
    "\n"
   ]
  },
  {
   "cell_type": "code",
   "execution_count": 16,
   "id": "b972a344",
   "metadata": {},
   "outputs": [
    {
     "name": "stdout",
     "output_type": "stream",
     "text": [
      "Fragment: S036.0 (ARG1_wildtype)\n",
      "Probes: Pr004\n",
      "\n",
      "Fragment: S036.5 (GBP6_wildtype)\n",
      "Probes: Pr001\n",
      "\n",
      "Fragment: S044.13 (TMCC1_wildtype)\n",
      "Probes: Pr002\n",
      "\n",
      "Fragment: S_PRDM1_WTb (PRDM1_wildtype)\n",
      "Probes: Pr005\n",
      "\n",
      "Fragment: S036.1b (ARG1_competitor)\n",
      "Probes: Pr008\n",
      "\n",
      "Fragment: S044.6 (GBP6_competitor)\n",
      "Probes: Pr003\n",
      "\n",
      "Fragment: S037.01.01b (TMCC1_competitor)\n",
      "Probes: Pr007\n",
      "\n",
      "Fragment: S057.5.7 (PRDM1_competitor)\n",
      "Fragment S057.5.7 not found in LIMS\n"
     ]
    }
   ],
   "source": [
    "for frag, name in zip([\n",
    "    ARG1_wildtype,\n",
    "    GBP6_wildtype,\n",
    "    TMCC1_wildtype,\n",
    "    PRDM1_wildtype,\n",
    "    ARG1_competitor,\n",
    "    GBP6_competitor,\n",
    "    TMCC1_competitor,\n",
    "    PRDM1_competitor,\n",
    "],[\n",
    "    'ARG1_wildtype',\n",
    "    'GBP6_wildtype',\n",
    "    'TMCC1_wildtype',\n",
    "    'PRDM1_wildtype',\n",
    "    'ARG1_competitor',\n",
    "    'GBP6_competitor',\n",
    "    'TMCC1_competitor',\n",
    "    'PRDM1_competitor'\n",
    "]):\n",
    "    print(f\"Fragment: {frag} ({name})\")\n",
    "    try:\n",
    "        f = lib.get_by_name(Fragment, frag)\n",
    "    except Exception as e:\n",
    "        print(f\"Fragment {frag} not found in LIMS\")\n",
    "        continue\n",
    "    \n",
    "    print(f'Probes: {f.amplicon.core.probe.name}')\n",
    "    print()"
   ]
  },
  {
   "cell_type": "code",
   "execution_count": 17,
   "id": "50674b00",
   "metadata": {},
   "outputs": [
    {
     "name": "stdout",
     "output_type": "stream",
     "text": [
      "The shape of `smix` is now 57 x 4\n"
     ]
    }
   ],
   "source": [
    "galactic_gorilla_smix = pd.DataFrame(\n",
    "    data=[\n",
    "        [ARG1_competitor, int(10**ARG1_comp_lg10_copies), \"copies\"],\n",
    "        [GBP6_competitor, int(10**GBP6_comp_lg10_copies), \"copies\"],\n",
    "        [TMCC1_competitor, int(10**TMCC1_comp_lg10_copies), \"copies\"],\n",
    "        [PRDM1_competitor, int(10**PRDM1_comp_lg10_copies), \"copies\"],\n",
    "        [ARG1_p1, ARG1_pnM, \"nM\"],\n",
    "        [ARG1_p2, ARG1_pnM, \"nM\"],\n",
    "        [GBP6_p1, GBP6_pnM, \"nM\"],\n",
    "        [GBP6_p2, GBP6_pnM, \"nM\"],\n",
    "        [TMCC1_p1, TMCC1_pnM, \"nM\"],\n",
    "        [TMCC1_p2, TMCC1_pnM, \"nM\"],\n",
    "        [PRDM1_p1, PRDM1_pnM, \"nM\"],\n",
    "        [PRDM1_p2, PRDM1_pnM, \"nM\"],\n",
    "    ]\n",
    "    + [[p, 200, \"nM\"] for p in galactic_gorilla_probes],\n",
    "    columns=[\"component\", \"concentration\", \"units\"],\n",
    ")\n",
    "\n",
    "smix = append_smix(galactic_gorilla_smix, \"galactic_gorilla\")"
   ]
  },
  {
   "cell_type": "code",
   "execution_count": 18,
   "id": "686f6f05",
   "metadata": {},
   "outputs": [
    {
     "name": "stdout",
     "output_type": "stream",
     "text": [
      "The shape of `meta` is now 1916 x 4\n",
      "The shape of `data` is now 820 x 9\n",
      "The shape of `figs` is now 468 x 2\n"
     ]
    }
   ],
   "source": [
    "JG069J_data = process_experiment(\"JG069J\", \"JG069J Final TB Experiment.xlsx\").drop(\n",
    "    columns=[\"Target\", \"Copies\", \"Sample\"]\n",
    ")\n",
    "\n",
    "JG069J_meta = (\n",
    "    pd.read_csv(data_pth / \"JG069J Plate Map.csv\")[\n",
    "        [\"PRDM1\", \"TMCC1\", \"GBP6\", \"ARG1\", \"Well\"]\n",
    "    ]\n",
    "    .melt(id_vars=[\"Well\"], var_name=\"component\", value_name=\"log10_copies\")\n",
    "    .replace(\n",
    "        {\n",
    "            \"component\": {\n",
    "                \"PRDM1\": PRDM1_wildtype,\n",
    "                \"TMCC1\": TMCC1_wildtype,\n",
    "                \"GBP6\": GBP6_wildtype,\n",
    "                \"ARG1\": ARG1_wildtype,\n",
    "            }\n",
    "        }\n",
    "    )\n",
    "    .assign(\n",
    "        concentration=lambda df: 10 ** df.log10_copies.astype(int),\n",
    "        units=\"copies\",\n",
    "        Reaction=lambda df: df.apply(lambda row: f\"JG069J_{row.Well:03d}\", axis=1),\n",
    "    )\n",
    "    .drop(columns=[\"log10_copies\", \"Well\"])\n",
    ")\n",
    "\n",
    "\n",
    "JG069J_rxns = pd.DataFrame(JG069J_data.Reaction.unique(), columns=[\"Reaction\"])\n",
    "JG069J_meta = pd.concat(\n",
    "    [\n",
    "        JG069J_meta,\n",
    "        pd.DataFrame(JG069J_data.Reaction.unique(), columns=[\"Reaction\"]).assign(\n",
    "            component=\"galactic_gorilla_supermix\",\n",
    "            concentration=1,\n",
    "            units=\"X\",\n",
    "        ),\n",
    "    ]\n",
    ")\n",
    "\n",
    "meta = append_meta(JG069J_meta, supermix=\"galactic_gorilla\")\n",
    "data = append_data(JG069J_data)\n",
    "figs = append_figs(JG069J_data.Reaction.unique(), \"galactic_gorilla\")"
   ]
  },
  {
   "cell_type": "code",
   "execution_count": 19,
   "id": "ff24fea8",
   "metadata": {},
   "outputs": [],
   "source": [
    "S057_5_7_seq = 'GCATCAACCTGTACTCATCTTACGTCACCCTATTCCTTTCATTGTTTCTAGCACCGTCTTAATCTACACCGCACTGCCCAGGAAGAACTATCGAGAAAGCGCCGTAGTGTTGTGATTTGTTGGGTGGAGAAAAGCCACATGAATGCAAAATAAATACTAAACAAAACTAACAACACAAAAATGGAACACGGCCTTTGACAGTGATAAACTGGAGAGAAACCATACCAATGGGTCGTGGGCTATAACTTTCCTACTTACATTACGGATTGAAACGGGATGGGTCTGTTGGTGCTCGAATACAGATA'\n",
    "L2_500_seq = 'TTTGGTTTGGCTTATGTGGGTTCGGGCAAGAACCAAGACCCTCAGGGAGGGAATCACAGTCACTGGGAATCGTCTGGGAACTCTGGCAGTGACTTATGTAGAGGCCATCAACAGTGGAGCAGTGCCTTGTCTGGAGAATGTATTGAGGGCATACGCAGCACGACCATGCACGTAATCCTAATTAACACCCGCAGATATTTGGGATAGCGGCGTTGTCTGTTTTACGGACGTAAGCATGACACAATTCGACCGGCAACGTGGCTGAACCAATGTGAGAGAATAAATGTGCGTGTGCAAATTACTAATCAAGAAAAGTAGCAGGGAGAGGTATACGGCTCACTTCTATAGCCCATCGCGGACTTATCCGACGCTATATAGGGGAACGCACTACCAGCTTCCAGGTACGTACTATCTTCTATGGACAACCGCCTAGTTCTTAACACTCCAGGAGGCAACTTCAGTACATAGTGGTACGCGCTACGGCGGATGCTTATTTCGATGAGCCTGACAATTAACGGGCAATCAAAGTCGCTTGTTGAAGTAATACATGCGGTGGAGTCTGTCCTGCCAGATCGAGGTCAACAAGAGTTTATATGGCCATTGAATGCCTTGAATGTTCACGCTTAAAGACGCTCCCAACGCCAAGTCCAGAACCATAGGGATTATTGGAGCTCCTTTCTCAAAGGGACAGCCACGAGGAGGGGTGGAAGAAGGCCCTACAGTATTGAGAAAGGCTGGTCTGCTTGAGAAACTTAAAGAACAAGAGTGTGATGTGAAGGATTATGGGGATAGTTTGAGTTCGATCCAGACAGCC'\n",
    "L2_500_like_seq = 'TTTGGTTTGGCTTATGTGGGTTCGGGCAAGAACCAAGACCCTCAGGGAGGGAATCACAGTCACTGGGAATCGTCTGGGAACTCTGGCAGTGACTTATGTAGAGGCCATCAACAGTGGAGCAGTGCCTTGTCTGGAGAATGTATTGAGGGCATACGCAGCACGACCATGCACGTAATCCTAATTAACACCCGCAGATATTTGGGATAGCGGCGTTGTCTGTTTTACGGACGTAAGCATGACACAATTCGACCGGCAACGTGGCTGAACCAATGTGAGAGAATAAATGTGCGTGTGCAAATTACTAATCAAGAAAAGTAGCAGGGAGAGGTATACGGCTCACTTCTATAGCCCATCGCGGACTTATCCGACGCTATATAGGGGAACGCACTACCAGCTTCCAGGTACGTACTATCTTCTATGGACAACCGCCTAGTTCTTAACACTCCAGGAGGCAACTTCAGTACATAGTGGTACGCGCTACGGCGGATGCTTATTTCGATGAGCCTGACAATTAACGGGCAATCAAAGTCGCTTGTTGAAGTAATACATGCGGTGGAGTCTGTCCTGCCAGATCGAGGTCAACAAGAGTTTATATGGCCATTGAATGCCTTGAATGTTCACGCTTAAAGACGCTCCCAACGCCAAGTCCAGAACCATAGGGATTATTGGAGCTCCTTTCTCAAAGGGACAGCCACGAGGAGGGGTGGAAGAAGGCCCTACAGTATTTACAGGCTGGGCCAAATGTCAGAAAATTAAAGAACAAGAGTGTGATGTGAAGGATTATGGGGATAGTTTGAGTTCGATCCAGACAGCC'\n",
    "\n",
    "fragment_sequences['S057.5.7'] = S057_5_7_seq\n",
    "fragment_sequences['L2_500'] = L2_500_seq\n",
    "fragment_sequences['L2_500_like'] = L2_500_like_seq\n"
   ]
  },
  {
   "cell_type": "code",
   "execution_count": 20,
   "id": "e9696d2a",
   "metadata": {},
   "outputs": [
    {
     "name": "stderr",
     "output_type": "stream",
     "text": [
      "/home/john/projects/can-manuscript/env/candas/candas/lims/schema.py:907: UserWarning: No flanks specified; this is unusual.\n",
      "  warn(\"No flanks specified; this is unusual.\")\n"
     ]
    }
   ],
   "source": [
    "FP003 = lib.get_by_name(Primer, 'FP003')\n",
    "RP008 = lib.get_by_name(Primer, 'RP008')\n",
    "Pr009 = lib.get_by_name(ProbeSeq, 'Pr009')\n",
    "\n",
    "A057_5_7_start = S057_5_7_seq.find(FP003.sequence)\n",
    "C057_5_7_start = A057_5_7_start+len(FP003.sequence)\n",
    "C057_5_7_end = S057_5_7_seq.find(RP008.reverse_complement)\n",
    "A057_5_7_end = C057_5_7_end+len(RP008.reverse_complement)\n",
    "\n",
    "C057_5_7_seq = S057_5_7_seq[C057_5_7_start:C057_5_7_end]\n",
    "A057_5_7_seq = S057_5_7_seq[A057_5_7_start:A057_5_7_end]\n",
    "\n",
    "C057_5_7 = Core(\n",
    "    name=\"C057.5.7\",\n",
    "    sequence=C057_5_7_seq,\n",
    "    probe = Pr009,\n",
    ")\n",
    "A057_5_7 = Amplicon(\n",
    "    name=\"A057.5.7\",\n",
    "    sequence=A057_5_7_seq,\n",
    "    core=C057_5_7,\n",
    "    primers = [FP003, RP008],\n",
    ")\n",
    "S057_5_7 = Fragment(\n",
    "    name=\"S057.5.7\",\n",
    "    amplicons=[A057_5_7],\n",
    "    sequence=S057_5_7_seq,\n",
    ")"
   ]
  },
  {
   "cell_type": "code",
   "execution_count": 21,
   "id": "c36d9d2e",
   "metadata": {},
   "outputs": [
    {
     "name": "stdout",
     "output_type": "stream",
     "text": [
      "Pr001 found in L2_500 (reverse complement)\n",
      "Pr001 found in L2_500_like (reverse complement)\n",
      "Pr004 found in L2_500 (reverse complement)\n",
      "Pr008 found in L2_500_like (reverse complement)\n"
     ]
    }
   ],
   "source": [
    "for probe in ['Pr001','Pr002','Pr003','Pr004','Pr005','Pr006','Pr007','Pr008','Pr009']:\n",
    "    p = lib.get_by_name(ProbeSeq, probe)\n",
    "    for seq, name in zip([L2_500_seq, L2_500_like_seq], ['L2_500','L2_500_like']):\n",
    "        if p.sequence in seq:\n",
    "            print(f\"{p.name} found in {name}\")\n",
    "        elif p.reverse_complement in seq:\n",
    "            print(f\"{p.name} found in {name} (reverse complement)\")"
   ]
  },
  {
   "cell_type": "code",
   "execution_count": 22,
   "id": "db8c1050",
   "metadata": {},
   "outputs": [
    {
     "data": {
      "text/plain": [
       "False"
      ]
     },
     "execution_count": 22,
     "metadata": {},
     "output_type": "execute_result"
    }
   ],
   "source": [
    "Pr001 = lib.get_by_name(ProbeSeq, 'Pr001')\n",
    "Pr002 = lib.get_by_name(ProbeSeq, 'Pr002')\n",
    "Pr003 = lib.get_by_name(ProbeSeq, 'Pr003')\n",
    "Pr004 = lib.get_by_name(ProbeSeq, 'Pr004')\n",
    "Pr005 = lib.get_by_name(ProbeSeq, 'Pr005')\n",
    "Pr006 = lib.get_by_name(ProbeSeq, 'Pr006')\n",
    "Pr007 = lib.get_by_name(ProbeSeq, 'Pr007')\n",
    "Pr008 = lib.get_by_name(ProbeSeq, 'Pr008')\n",
    "Pr009 = lib.get_by_name(ProbeSeq, 'Pr009')\n",
    "Pr005.sequence in S057_5_7_seq"
   ]
  },
  {
   "cell_type": "code",
   "execution_count": 23,
   "id": "8a534c19",
   "metadata": {},
   "outputs": [
    {
     "name": "stdout",
     "output_type": "stream",
     "text": [
      "Failed to find L2_500 in LIMS\n",
      "Failed to find L2_500_like in LIMS\n"
     ]
    }
   ],
   "source": [
    "for f in [c for c in meta.component.unique() if 'supermix' not in c and 'P0' not in c]:\n",
    "    try:\n",
    "        lib.get_by_name(Fragment, f)\n",
    "    except Exception as e:\n",
    "        print(f\"Failed to find {f} in LIMS\")\n",
    "        continue"
   ]
  },
  {
   "cell_type": "code",
   "execution_count": 24,
   "id": "7391415b",
   "metadata": {},
   "outputs": [
    {
     "data": {
      "text/plain": [
       "[<Core(id=181, name=C_IFI44L_WT_alt, BP=92, GC=0.489)>,\n",
       " <Core(id=182, name=C_IFI44L_WT, BP=58, GC=0.500)>,\n",
       " <Core(id=183, name=C036.1b, BP=108, GC=0.472)>]"
      ]
     },
     "execution_count": 24,
     "metadata": {},
     "output_type": "execute_result"
    }
   ],
   "source": [
    "from candas.lims.schema import ProbeSeq\n",
    "\n",
    "lib.get_by_name(ProbeSeq, 'Pr008').cores"
   ]
  },
  {
   "cell_type": "markdown",
   "id": "2aa484ef",
   "metadata": {},
   "source": [
    "# Fig S2 sharp_jellyfish"
   ]
  },
  {
   "cell_type": "code",
   "execution_count": 25,
   "id": "5ce65e8b",
   "metadata": {},
   "outputs": [],
   "source": [
    "JG063A_data = process_experiment(\n",
    "    \"JG063A\", \"JG063A Competitor Concentration Sweep.xlsx\"\n",
    ").assign(Target=lambda df: df.Target.str.split(\"_\").str[0])\n",
    "JG063B_data = process_experiment(\n",
    "    \"JG063B\", \"JG063B Competitor concentration sweep 2.xlsx\"\n",
    ").assign(Target=lambda df: df.Target.str.split(\"_\").str[0])\n",
    "JG063I_data = process_experiment(\"JG063I\", \"JG063I Primer Probe Sweep 5 logs.xlsx\")\n",
    "JG034_data = process_experiment(\n",
    "    \"JG034\", \"JG034 TMCC1 Gen2 Competitors - 59C v3.xlsx\"\n",
    ").assign(Target=lambda df: df.Target.str.split(\" - \").str[0])\n",
    "\n",
    "for qs in [\n",
    "    JG063A_data,\n",
    "    JG063B_data,\n",
    "    JG063I_data,\n",
    "    JG034_data,\n",
    "]:\n",
    "    qs.drop(qs.index[qs.Well == 281], inplace=True)\n",
    "    \n",
    "JG063I_primerprobe = (\n",
    "    JG063I_data.Sample.str.removesuffix(\" primer+probe\")\n",
    "    .str.split(\"+\", expand=True)\n",
    "    .rename(columns={0: \"Primer nM\", 1: \"Probe nM\"})\n",
    "    .astype(int)\n",
    ")\n",
    "\n",
    "JG063I_data = JG063I_data.merge(JG063I_primerprobe, left_index=True, right_index=True)\n",
    "JG063I_data = JG063I_data[JG063I_data[\"Probe nM\"] == 200]"
   ]
  },
  {
   "cell_type": "code",
   "execution_count": 26,
   "id": "d502cdf1",
   "metadata": {},
   "outputs": [
    {
     "name": "stdout",
     "output_type": "stream",
     "text": [
      "The shape of `smix` is now 62 x 4\n",
      "The shape of `smix` is now 68 x 4\n",
      "The shape of `smix` is now 74 x 4\n",
      "The shape of `smix` is now 80 x 4\n",
      "The shape of `smix` is now 86 x 4\n",
      "The shape of `smix` is now 92 x 4\n"
     ]
    }
   ],
   "source": [
    "primers_063 = [\n",
    "    ['FP004', 100, 'nM'],\n",
    "    ['RP004x', 100, 'nM'],\n",
    "]\n",
    "\n",
    "probes_063 = [\n",
    "    ['Pr002', 200, 'nM'],\n",
    "    ['Pr003', 200, 'nM'],]\n",
    "\n",
    "primers_034 = [\n",
    "    ['FP004', 125, 'nM'],\n",
    "    ['RP004', 125, 'nM'],\n",
    "]\n",
    "\n",
    "probes_034 = [\n",
    "    ['Pr002', 250, 'nM'],\n",
    "    ['Pr003', 250, 'nM'],]\n",
    "\n",
    "dull_koala_smix = pd.DataFrame(\n",
    "    probes_063 + primers_063,\n",
    "    columns=[\"component\", \"concentration\", \"units\"],\n",
    ")\n",
    "smix = append_smix(dull_koala_smix, \"dull_koala\")\n",
    "\n",
    "bright_lizard_i_smix = pd.DataFrame(\n",
    "    [['S056.4.3', 10**6, 'copies']] + probes_063 + primers_063,\n",
    "    columns=[\"component\", \"concentration\", \"units\"],\n",
    ")\n",
    "smix = append_smix(bright_lizard_i_smix, \"bright_lizard_i\")\n",
    "\n",
    "bright_lizard_ii_smix = pd.DataFrame(\n",
    "    [['S056.4.1', 10**4, 'copies']] + probes_063 + primers_063,\n",
    "    columns=[\"component\", \"concentration\", \"units\"],\n",
    ")\n",
    "smix = append_smix(bright_lizard_ii_smix, \"bright_lizard_ii\")\n",
    "\n",
    "bright_lizard_iii_smix = pd.DataFrame(\n",
    "    [[seq_aliases['GC55'], 10**5, 'copies']] + probes_034 + primers_034,\n",
    "    columns=[\"component\", \"concentration\", \"units\"],\n",
    ")\n",
    "smix = append_smix(bright_lizard_iii_smix, \"bright_lizard_iii\")\n",
    "\n",
    "bright_lizard_iv_smix = pd.DataFrame(\n",
    "    [['S056.4.4', 10**5, 'copies']] + probes_063 + primers_063,\n",
    "    columns=[\"component\", \"concentration\", \"units\"],\n",
    ")  # wt 'S056.4.12'\n",
    "smix = append_smix(bright_lizard_iv_smix, \"bright_lizard_iv\")\n",
    "\n",
    "bright_lizard_v_smix = pd.DataFrame(\n",
    "    [[seq_aliases['GC15'], 10**5, 'copies']] + probes_034 + primers_034,\n",
    "    columns=[\"component\", \"concentration\", \"units\"],\n",
    ")\n",
    "smix = append_smix(bright_lizard_v_smix, \"bright_lizard_v\")"
   ]
  },
  {
   "cell_type": "code",
   "execution_count": 27,
   "id": "d0aaab16",
   "metadata": {},
   "outputs": [
    {
     "name": "stdout",
     "output_type": "stream",
     "text": [
      "The shape of `data` is now 980 x 9\n",
      "The shape of `meta` is now 2156 x 4\n",
      "The shape of `figs` is now 548 x 2\n"
     ]
    }
   ],
   "source": [
    "dull_koala_data = JG063A_data.query('Sample == \"S056.4.2_vs_S056.4.12\"')\n",
    "dull_koala_meta = extract_meta(dull_koala_data)\n",
    "\n",
    "\n",
    "data = append_data(dull_koala_data)\n",
    "meta = append_meta(dull_koala_meta, supermix=\"dull_koala\")\n",
    "figs = append_figs(dull_koala_data.Reaction.unique(), \"dull_koala\")"
   ]
  },
  {
   "cell_type": "code",
   "execution_count": 28,
   "id": "53234857",
   "metadata": {},
   "outputs": [
    {
     "name": "stdout",
     "output_type": "stream",
     "text": [
      "70 matching reactions\n",
      "The shape of `data` is now 994 x 9\n",
      "The shape of `data` is now 1008 x 9\n",
      "The shape of `data` is now 1008 x 9\n",
      "The shape of `data` is now 1022 x 9\n",
      "The shape of `data` is now 1050 x 9\n",
      "The shape of `meta` is now 2184 x 4\n",
      "The shape of `meta` is now 2212 x 4\n",
      "The shape of `meta` is now 2226 x 4\n",
      "The shape of `meta` is now 2254 x 4\n",
      "The shape of `meta` is now 2282 x 4\n",
      "The shape of `figs` is now 618 x 2\n"
     ]
    }
   ],
   "source": [
    "bright_lizard_data = pd.concat(\n",
    "    [\n",
    "        JG063A_data,\n",
    "        JG063B_data,\n",
    "        JG034_data,\n",
    "    ]\n",
    ")\n",
    "\n",
    "def bright_lizard_filter(grp):\n",
    "    conditions = [\n",
    "        (grp.Experiment == 'JG063A') & (grp.Reporter == 'HEX') & (grp.Copies == 10**5) & (grp.Sample == \"S056.4.4_vs_S056.4.12\"),\n",
    "        (grp.Experiment == 'JG063B') & (grp.Reporter == 'HEX') & (grp.Copies == 10**4) & (grp.Sample == \"S056.4.1_vs_S056.4.12\"),\n",
    "        (grp.Experiment == 'JG063B') & (grp.Reporter == 'HEX') & (grp.Copies == 10**6) & (grp.Sample == \"S056.4.3_vs_S056.4.12\"),\n",
    "        (grp.Experiment == 'JG034') & (grp.Reporter == 'HEX')\n",
    "    ]\n",
    "    \n",
    "    bright_lizard_targets = [\"S056.4.3\", \"S056.4.1\", \"GC55\", \"S056.4.4\", \"GC15\"]\n",
    "    must_have = (grp.Reporter == 'FAM') & (grp.Copies > 10**1)\n",
    "\n",
    "    return reduce(or_, [cond.any() for cond in conditions]) & must_have.any() & grp.Target.isin(bright_lizard_targets).any()\n",
    "\n",
    "\n",
    "bright_lizard_rxns = filter_reactions(bright_lizard_data, bright_lizard_filter)\n",
    "\n",
    "bright_lizard_data = bright_lizard_data[bright_lizard_data.Reaction.isin(bright_lizard_rxns)]\n",
    "bright_lizard_i_data = bright_lizard_data.query(\"Target == 'S056.4.3'\").assign(Target='S056.4.12')\n",
    "bright_lizard_ii_data = bright_lizard_data.query(\"Target == 'S056.4.1'\").assign(Target='S056.4.12')\n",
    "bright_lizard_iii_data = bright_lizard_data.query(\"Target == 'GC55'\").assign(Target='S044.13')\n",
    "bright_lizard_iv_data = bright_lizard_data.query(\"Target == 'S056.4.4'\").assign(Target='S056.4.12')\n",
    "bright_lizard_v_data = bright_lizard_data.query(\"Target == 'GC15'\").assign(Target='S044.13')\n",
    "\n",
    "# bright_lizard_data.loc[bright_lizard_data.Experiment == 'JG034', 'Target'] = 'S044.13'\n",
    "bright_lizard_i_meta = extract_meta(bright_lizard_i_data)\n",
    "bright_lizard_ii_meta = extract_meta(bright_lizard_ii_data)\n",
    "bright_lizard_iii_meta = extract_meta(bright_lizard_iii_data)\n",
    "bright_lizard_iv_meta = extract_meta(bright_lizard_iv_data)\n",
    "bright_lizard_v_meta = extract_meta(bright_lizard_v_data)\n",
    "\n",
    "data = append_data(bright_lizard_i_data)\n",
    "data = append_data(bright_lizard_ii_data)\n",
    "data = append_data(bright_lizard_iii_data)\n",
    "data = append_data(bright_lizard_iv_data)\n",
    "data = append_data(bright_lizard_v_data)\n",
    "meta = append_meta(bright_lizard_i_meta, supermix=\"bright_lizard_i\")\n",
    "meta = append_meta(bright_lizard_ii_meta, supermix=\"bright_lizard_ii\")\n",
    "meta = append_meta(bright_lizard_iii_meta, supermix=\"bright_lizard_iii\")\n",
    "meta = append_meta(bright_lizard_iv_meta, supermix=\"bright_lizard_iv\")\n",
    "meta = append_meta(bright_lizard_v_meta, supermix=\"bright_lizard_v\")\n",
    "figs = append_figs(bright_lizard_data.Reaction.unique(), \"bright_lizard\")"
   ]
  },
  {
   "cell_type": "code",
   "execution_count": 29,
   "id": "4bc88e60",
   "metadata": {},
   "outputs": [
    {
     "name": "stdout",
     "output_type": "stream",
     "text": [
      "The shape of `smix` is now 96 x 4\n",
      "The shape of `meta` is now 2602 x 4\n",
      "The shape of `data` is now 1210 x 9\n",
      "The shape of `figs` is now 698 x 2\n"
     ]
    }
   ],
   "source": [
    "probes_063I = [\n",
    "    ['Pr002', 200, 'nM'],\n",
    "    ['Pr003', 200, 'nM'],]\n",
    "\n",
    "dim_mongoose_smix = pd.DataFrame(\n",
    "    [['S056.1.1', 10**5, 'copies']] + probes_063I,\n",
    "    columns=[\"component\", \"concentration\", \"units\"],\n",
    ")\n",
    "\n",
    "JG063I_primer_nMs = JG063I_data[['Reaction','Primer nM']].rename(columns={'Primer nM':'concentration'}).assign(units='nM').drop_duplicates()\n",
    "JG063I_primer_nMs = pd.concat(\n",
    "    [\n",
    "        JG063I_primer_nMs.assign(component='FP001'),\n",
    "        JG063I_primer_nMs.assign(component='RP001x'),\n",
    "    ],\n",
    "    ignore_index=True,\n",
    ")\n",
    "\n",
    "\n",
    "JG063I_meta = extract_meta(JG063I_data).query(\"component != 'S056.1.1'\")\n",
    "JG063I_meta = pd.concat(\n",
    "    [\n",
    "        JG063I_meta, JG063I_primer_nMs\n",
    "    ],\n",
    "    ignore_index=True,\n",
    ")\n",
    "\n",
    "JG063I_rxns = JG063I_meta.Reaction.unique()\n",
    "\n",
    "smix = append_smix(dim_mongoose_smix, \"dim_mongoose\")\n",
    "meta = append_meta(JG063I_meta, supermix=\"dim_mongoose\")\n",
    "data = append_data(JG063I_data)\n",
    "figs = append_figs(JG063I_rxns, \"dim_mongoose\")"
   ]
  },
  {
   "cell_type": "code",
   "execution_count": 30,
   "id": "a6a8e925",
   "metadata": {},
   "outputs": [
    {
     "data": {
      "text/html": [
       "<div>\n",
       "<style scoped>\n",
       "    .dataframe tbody tr th:only-of-type {\n",
       "        vertical-align: middle;\n",
       "    }\n",
       "\n",
       "    .dataframe tbody tr th {\n",
       "        vertical-align: top;\n",
       "    }\n",
       "\n",
       "    .dataframe thead th {\n",
       "        text-align: right;\n",
       "    }\n",
       "</style>\n",
       "<table border=\"1\" class=\"dataframe\">\n",
       "  <thead>\n",
       "    <tr style=\"text-align: right;\">\n",
       "      <th></th>\n",
       "      <th>Reaction</th>\n",
       "      <th>component</th>\n",
       "      <th>concentration</th>\n",
       "      <th>units</th>\n",
       "    </tr>\n",
       "  </thead>\n",
       "  <tbody>\n",
       "    <tr>\n",
       "      <th>2522</th>\n",
       "      <td>JG063I_005</td>\n",
       "      <td>dim_mongoose_supermix</td>\n",
       "      <td>1.0</td>\n",
       "      <td>X</td>\n",
       "    </tr>\n",
       "    <tr>\n",
       "      <th>2523</th>\n",
       "      <td>JG063I_010</td>\n",
       "      <td>dim_mongoose_supermix</td>\n",
       "      <td>1.0</td>\n",
       "      <td>X</td>\n",
       "    </tr>\n",
       "    <tr>\n",
       "      <th>2524</th>\n",
       "      <td>JG063I_015</td>\n",
       "      <td>dim_mongoose_supermix</td>\n",
       "      <td>1.0</td>\n",
       "      <td>X</td>\n",
       "    </tr>\n",
       "    <tr>\n",
       "      <th>2525</th>\n",
       "      <td>JG063I_020</td>\n",
       "      <td>dim_mongoose_supermix</td>\n",
       "      <td>1.0</td>\n",
       "      <td>X</td>\n",
       "    </tr>\n",
       "    <tr>\n",
       "      <th>2526</th>\n",
       "      <td>JG063I_024</td>\n",
       "      <td>dim_mongoose_supermix</td>\n",
       "      <td>1.0</td>\n",
       "      <td>X</td>\n",
       "    </tr>\n",
       "    <tr>\n",
       "      <th>...</th>\n",
       "      <td>...</td>\n",
       "      <td>...</td>\n",
       "      <td>...</td>\n",
       "      <td>...</td>\n",
       "    </tr>\n",
       "    <tr>\n",
       "      <th>2597</th>\n",
       "      <td>JG063I_365</td>\n",
       "      <td>dim_mongoose_supermix</td>\n",
       "      <td>1.0</td>\n",
       "      <td>X</td>\n",
       "    </tr>\n",
       "    <tr>\n",
       "      <th>2598</th>\n",
       "      <td>JG063I_370</td>\n",
       "      <td>dim_mongoose_supermix</td>\n",
       "      <td>1.0</td>\n",
       "      <td>X</td>\n",
       "    </tr>\n",
       "    <tr>\n",
       "      <th>2599</th>\n",
       "      <td>JG063I_375</td>\n",
       "      <td>dim_mongoose_supermix</td>\n",
       "      <td>1.0</td>\n",
       "      <td>X</td>\n",
       "    </tr>\n",
       "    <tr>\n",
       "      <th>2600</th>\n",
       "      <td>JG063I_380</td>\n",
       "      <td>dim_mongoose_supermix</td>\n",
       "      <td>1.0</td>\n",
       "      <td>X</td>\n",
       "    </tr>\n",
       "    <tr>\n",
       "      <th>2601</th>\n",
       "      <td>JG063I_384</td>\n",
       "      <td>dim_mongoose_supermix</td>\n",
       "      <td>1.0</td>\n",
       "      <td>X</td>\n",
       "    </tr>\n",
       "  </tbody>\n",
       "</table>\n",
       "<p>80 rows × 4 columns</p>\n",
       "</div>"
      ],
      "text/plain": [
       "        Reaction              component  concentration units\n",
       "2522  JG063I_005  dim_mongoose_supermix            1.0     X\n",
       "2523  JG063I_010  dim_mongoose_supermix            1.0     X\n",
       "2524  JG063I_015  dim_mongoose_supermix            1.0     X\n",
       "2525  JG063I_020  dim_mongoose_supermix            1.0     X\n",
       "2526  JG063I_024  dim_mongoose_supermix            1.0     X\n",
       "...          ...                    ...            ...   ...\n",
       "2597  JG063I_365  dim_mongoose_supermix            1.0     X\n",
       "2598  JG063I_370  dim_mongoose_supermix            1.0     X\n",
       "2599  JG063I_375  dim_mongoose_supermix            1.0     X\n",
       "2600  JG063I_380  dim_mongoose_supermix            1.0     X\n",
       "2601  JG063I_384  dim_mongoose_supermix            1.0     X\n",
       "\n",
       "[80 rows x 4 columns]"
      ]
     },
     "execution_count": 30,
     "metadata": {},
     "output_type": "execute_result"
    }
   ],
   "source": [
    "meta[meta.component == 'dim_mongoose_supermix']"
   ]
  },
  {
   "cell_type": "code",
   "execution_count": 31,
   "id": "ed2dddd6",
   "metadata": {},
   "outputs": [],
   "source": [
    "all_components = meta.component.unique().tolist() + smix.component.unique().tolist()\n",
    "all_components = [c for c in all_components if 'mix' not in c.lower()]\n",
    "primers = [c for c in all_components if c.startswith('FP') or c.startswith('RP')]\n",
    "probes = [c for c in all_components if c.startswith('Pr')]\n",
    "fragments = [c for c in all_components if c not in primers and c not in probes]\n",
    "\n",
    "for f in fragments:\n",
    "    \n",
    "    \n",
    "    try:\n",
    "        lib.get_by_name(Fragment, f)\n",
    "    except Exception as e:\n",
    "        try:\n",
    "            fragment_sequences[f]\n",
    "        except KeyError as e:\n",
    "            print(f\"Failed to find {f} in LIMS or dictionary\")\n",
    "        continue\n",
    "    \n",
    "for p in probes:\n",
    "    try:\n",
    "        lib.get_by_name(ProbeSeq, p)\n",
    "    except Exception as e:\n",
    "        print(f\"Failed to find {p} in LIMS\")\n",
    "        continue\n",
    "    \n",
    "for p in primers:\n",
    "    try:\n",
    "        lib.get_by_name(Primer, p)\n",
    "    except Exception as e:\n",
    "        print(f\"Failed to find {p} in LIMS\")\n",
    "        continue"
   ]
  },
  {
   "cell_type": "code",
   "execution_count": 32,
   "id": "b1c325ce",
   "metadata": {},
   "outputs": [
    {
     "name": "stdout",
     "output_type": "stream",
     "text": [
      "The shape of `smix` is now 107 x 4\n"
     ]
    }
   ],
   "source": [
    "emri_comp_name = 'S073.1.5'\n",
    "ifi44L_comp_name = 'S073.0.2'\n",
    "ifi44L_wt_name = 'S_IFI44L_WT'\n",
    "emri_wt_name = 'S_EMR1_ADGRE1_WT'\n",
    "\n",
    "happy_jaguar_smix = pd.DataFrame(\n",
    "    [\n",
    "        ['S073.1.5', 10**3.6, 'copies'],  # EMRI competitor\n",
    "        ['FP014', 60, 'nM'],  # EMRI primer\n",
    "        ['RP014', 60, 'nM'],  # EMRI primer\n",
    "        ['Pr001', 200, 'nM'],  # EMRI competitive probe\n",
    "        ['Pr007', 200, 'nM'],\n",
    "        ['S073.0.2', 10**4.5, 'copies'],  # IFI44L competitor\n",
    "        ['FP017', 70, 'nM'],  # IFI44L primer\n",
    "        ['RP015', 70, 'nM'],  # IFI44L primer\n",
    "        ['Pr004', 200, 'nM'],  # IFI44L competitive probe\n",
    "        ['Pr008', 200, 'nM'],\n",
    "        ['Taqman Fast Virus Master Mix', 1, 'X']\n",
    "    ],\n",
    "    columns=[\"component\", \"concentration\", \"units\"],\n",
    ")\n",
    "smix = append_smix(happy_jaguar_smix, \"happy_jaguar\")"
   ]
  },
  {
   "cell_type": "code",
   "execution_count": 34,
   "id": "2951db95",
   "metadata": {},
   "outputs": [
    {
     "name": "stdout",
     "output_type": "stream",
     "text": [
      "The shape of `data` is now 1308 x 9\n",
      "The shape of `meta` is now 2749 x 4\n",
      "The shape of `figs` is now 796 x 2\n",
      "The shape of `figs` is now 796 x 2\n"
     ]
    }
   ],
   "source": [
    "JG073N_data = process_experiment(\n",
    "    \"JG073N\", \"JG073N Febrile Signature Gen2.xlsx\"\n",
    ")\n",
    "\n",
    "JG073_endpoints = pd.read_csv(data_pth / \"JG073N Endpoints.csv\").rename(\n",
    "    columns={\"SignalDifference\": \"FAM-HEX\"}\n",
    ")\n",
    "\n",
    "JG073N_data = JG073N_data.merge(JG073_endpoints[['Experiment', 'Well', \"IFI44L Copies\", \"EMRI Copies\", \"Material\", \"ng RNA\"]])\n",
    "\n",
    "JG073N_data = JG073N_data[\n",
    "    (JG073N_data[\"IFI44L Copies\"] > 0)\n",
    "    & (JG073N_data[\"EMRI Copies\"] > 0)\n",
    "    & (JG073N_data[\"Material\"] == \"RNA\")\n",
    "    & (JG073N_data[\"ng RNA\"] == 1)\n",
    "]\n",
    "\n",
    "JG073N_meta = JG073N_data[[\"Reaction\", \"IFI44L Copies\", \"EMRI Copies\"]].melt(\n",
    "    id_vars=[\"Reaction\"], var_name=\"component\", value_name=\"concentration\"\n",
    ").assign(\n",
    "    units = 'copies',\n",
    "    concentration = lambda df: (10**df.concentration).astype(int),\n",
    ").replace(\n",
    "    {\n",
    "        \"component\": {\n",
    "            \"IFI44L Copies\": ifi44L_wt_name,\n",
    "            \"EMRI Copies\": emri_wt_name,\n",
    "        }\n",
    "    }\n",
    ")\n",
    "\n",
    "JG073N_rxns = JG073N_meta.Reaction.unique()\n",
    "    \n",
    "data = append_data(JG073N_data)\n",
    "meta = append_meta(JG073N_meta, supermix=\"happy_jaguar\")\n",
    "figs = append_figs(JG073N_rxns, \"angry_lemur\")\n",
    "figs = append_figs(JG073N_rxns, \"excited_manatee\")"
   ]
  },
  {
   "cell_type": "markdown",
   "id": "709a067a",
   "metadata": {},
   "source": [
    "# Fig ED1 shy_quokka"
   ]
  },
  {
   "cell_type": "code",
   "execution_count": null,
   "id": "9c86d52e",
   "metadata": {},
   "outputs": [],
   "source": [
    "# order_3648138 = {\n",
    "#     # Order Date 4/21/2022\n",
    "#     'S075_WT':\n",
    "#     'S075_SNV':\n",
    "# }\n",
    "\n",
    "# order_3650461 = {  \n",
    "#     # Order Date 4/26/2022 \n",
    "#     'EGFR L858 Blocker C3':  'GATCACAGATTTTGGGCTGGCCAAACATAA/3SpC3/',\n",
    "#     'EGFR L858 Blocker DxxDM': ' GATCACAGATTTTGGGCTGGCCAAAC/iSpC3/iSpC3/CA'\n",
    "# }\n",
    "\n",
    "order_3399189 = {\n",
    "    # Order Date 3/2/2021\n",
    "    'EGFR LNA Blocker C3':  'GATCACAGATTTTGGGC+TGGCCAAACATAA/3SpC3/'\n",
    "}\n",
    "\n",
    "order_3186940 = {\n",
    "    # Order Date 2/5/2020\n",
    "    'EGFR L858 p0': 'GCAGCATGTCAAGATCACAGATT',\n",
    "    'EGFR L858 p1': 'ACCTCCTTACTTTGCCTCCTTC',\n",
    "    'EGFR L858 p2': 'CATTTGCTTCAACAGTGACTACG',\n",
    "    'EGFR L858 p3': 'GCTATTGCTGGGATTTTGAGG',\n",
    "    # 'EGFR L858 Blocker C3': 'GATCACAGATTTTGGGCTGGCCAAACATAA/3SpC3/'\n",
    "}"
   ]
  },
  {
   "cell_type": "code",
   "execution_count": 68,
   "id": "433a1b62",
   "metadata": {},
   "outputs": [
    {
     "name": "stdout",
     "output_type": "stream",
     "text": [
      "The shape of `smix` is now 111 x 4\n",
      "The shape of `smix` is now 119 x 4\n"
     ]
    }
   ],
   "source": [
    "fragment_sequences['S075_SNV'] = 'GTTGAAGTGGTAGGGATTGCGTTTGTGTGTTCTGCTGTTCATGTGTCGTGCTTCTTTCCTCTAGTTTCCGTCATTGCAAGAACCAAGACCCTCAGGGAGGGAATCACAGTCACTGGGAATCGTCTGGGAACTCTGGCAGTGACTTATGTAGAGAGCAGTTTGGCCCGCCCAAAATCTGTGATCTTGACATGCTGCGATTCGTAACTGGACCGTACTAAAGCAGGATTCAGATTATTGGCCGTTCGTTCTTGTTAGCTCCGTCATTCAAATACCTTACCACATATCCAACCAAAGAGGCAAGTCTCATCAAAGCCCTCCCG'\n",
    "fragment_sequences['S075_WT'] =  'GTTGAAGTGGTAGGGATTGCGTTTGTGTGTTCTGCTGTTCATGTGTCGTGCTTCTTTCCTCTAGTTTCCGTCATTGCAAGAACCAAGACCCTCAGGGAGGGAATCACAGTCACTGGGAATCGTCTGGGAACTCTGGCAGTGACTTATGTAGAGAGCAGTTTGGCCAGCCCAAAATCTGTGATCTTGACATGCTGCGATTCGTAACTGGACCGTACTAAAGCAGGATTCAGATTATTGGCCGTTCGTTCTTGTTAGCTCCGTCATTCAAATACCTTACCACATATCCAACCAAAGAGGCAAGTCTCATCAAAGCCCTCCCG'\n",
    "primer_sequences['EGFR L858R Blocker'] = 'GATCACAGATTTTGGGC+TGGCCAAACATAA/3SpC3/'\n",
    "\n",
    "proud_robin_smix =  pd.DataFrame(\n",
    "    [\n",
    "        ['FP0013', 100, 'nM'],\n",
    "        ['FP001', 100, 'nM'],\n",
    "        ['EvaGreen', 1, 'X']\n",
    "    ],\n",
    "    columns=[\"component\", \"concentration\", \"units\"],\n",
    ")\n",
    "smix = append_smix(proud_robin_smix, \"proud_robin\")\n",
    "\n",
    "humble_scorpion_smix =  pd.DataFrame(\n",
    "    [\n",
    "        ['FP0013', 100, 'nM'],\n",
    "        ['FP001', 100, 'nM'],\n",
    "        ['FP005', 100, 'nM'],\n",
    "        ['FP005', 100, 'nM'],\n",
    "        ['Pr002', 200, 'nM'],\n",
    "        ['Pr003', 200, 'nM'],\n",
    "        ['S057.3.2', 100, 'copies'],\n",
    "        ['S057.4.2', 100, 'copies'],\n",
    "    ],\n",
    "    columns=[\"component\", \"concentration\", \"units\"],\n",
    ")\n",
    "smix = append_smix(humble_scorpion_smix, \"humble_scorpion\")"
   ]
  },
  {
   "cell_type": "code",
   "execution_count": 71,
   "id": "429970ba",
   "metadata": {},
   "outputs": [
    {
     "name": "stdout",
     "output_type": "stream",
     "text": [
      "The shape of `data` is now 1378 x 9\n",
      "The shape of `meta` is now 2959 x 4\n",
      "The shape of `figs` is now 936 x 2\n",
      "The shape of `figs` is now 936 x 2\n"
     ]
    }
   ],
   "source": [
    "JG075A_data = process_experiment(\n",
    "    \"JG075A\", \"JG075A EGFR Blocker Stoichiometry.xlsx\"\n",
    ")\n",
    "\n",
    "# Denote reaction conditions\n",
    "with np.errstate(divide='ignore'):\n",
    "    JG075A_data = (\n",
    "        JG075A_data.merge(\n",
    "            pd.read_csv(data_pth / \"JG075A Plate Map.csv\")\n",
    "        )\n",
    "        .assign(lg10_Blocker=lambda df: np.log10(df[\"Blocker μM\"]))\n",
    "        .replace({\"lg10_Blocker\": {-np.inf: -2}})\n",
    "        .query(\"Well != 73\")  # Outlier, weird drift in baseline\n",
    "        .query(\"Copies >= 10**4\")\n",
    "        .query(\"Blocker == 'L-MMMMx'\")\n",
    "    )\n",
    "\n",
    "frags = JG075A_data[['Reaction','Target','Copies']].rename(columns={\n",
    "    'Target': 'component',\n",
    "    'Copies': 'concentration',\n",
    "}).assign(units = 'copies')\n",
    "\n",
    "blocker = JG075A_data[['Reaction','Blocker μM']].rename(columns={\n",
    "    'Blocker μM': 'concentration',\n",
    "}).assign(component = 'EGFR L858R Blocker', units = 'μM')\n",
    "\n",
    "JG075A_meta = pd.concat([frags, blocker]).sort_values('Reaction')\n",
    "JG075A_rxns = JG075A_meta.Reaction.unique()\n",
    "\n",
    "data = append_data(JG075A_data)\n",
    "meta = append_meta(JG075A_meta, supermix=\"proud_robin\")\n",
    "figs = append_figs(JG075A_rxns, \"proud_robin\")\n",
    "figs = append_figs(JG075A_rxns, \"sour_dolphin\")"
   ]
  },
  {
   "cell_type": "code",
   "execution_count": 82,
   "id": "37169157",
   "metadata": {},
   "outputs": [
    {
     "name": "stdout",
     "output_type": "stream",
     "text": [
      "The shape of `data` is now 1528 x 9\n",
      "The shape of `meta` is now 3184 x 4\n",
      "The shape of `figs` is now 1011 x 2\n",
      "The shape of `figs` is now 1086 x 2\n"
     ]
    }
   ],
   "source": [
    "JG075B_data = process_experiment(\n",
    "    \"JG075B\", \"JG075B L-MMMMx blocker tripartite competition separate.xlsx\"\n",
    ")\n",
    "\n",
    "with np.errstate(divide='ignore'):\n",
    "    # Denote reaction conditions\n",
    "    JG075B_data = (\n",
    "        JG075B_data.replace(\n",
    "            {\n",
    "                \"Target\": {\n",
    "                    \"S075_WTFAM\": \"S075_WT\",\n",
    "                    \"S075_WTHEX\": \"S075_WT\",\n",
    "                    \"S075_SNVFAM\": \"S075_SNV\",\n",
    "                    \"S075_SNVHEX\": \"S075_SNV\",\n",
    "                }\n",
    "            }\n",
    "        )\n",
    "        .merge(\n",
    "            pd.read_csv(data_pth / \"JG075B Plate Map.csv\")\n",
    "        )\n",
    "        .assign(lg10_Blocker=lambda df: np.log10(df[\"Blocker μM\"]))\n",
    "        .replace({\"lg10_Blocker\": {-np.inf: -2}})\n",
    "        .query('Configuration == \"2+2\"')\n",
    "        .query('Blocker == \"L-MMMMx\"')\n",
    "    )\n",
    "    \n",
    "JG075B_data = JG075B_data[(JG075B_data.lg10_Blocker % 0.5).isin([0., np.nan])]\n",
    "\n",
    "frags = JG075B_data[['Reaction','Target','Copies']].rename(columns={\n",
    "    'Target': 'component',\n",
    "    'Copies': 'concentration',\n",
    "}).assign(units = 'copies')\n",
    "\n",
    "blocker = JG075B_data[['Reaction','Blocker μM']].rename(columns={\n",
    "    'Blocker μM': 'concentration',\n",
    "}).assign(component = 'EGFR L858R Blocker', units = 'μM')\n",
    "\n",
    "JG075B_meta = pd.concat([frags, blocker]).sort_values('Reaction')\n",
    "JG075B_rxns = JG075B_meta.Reaction.unique()\n",
    "\n",
    "data = append_data(JG075B_data)\n",
    "meta = append_meta(JG075B_meta, supermix=\"humble_scorpion\")\n",
    "figs = append_figs(JG075B_rxns, \"humble_scorpion\")\n",
    "figs = append_figs(JG075B_rxns, \"strong_xerus\")"
   ]
  },
  {
   "cell_type": "code",
   "execution_count": 83,
   "id": "e34b8952",
   "metadata": {},
   "outputs": [
    {
     "name": "stdout",
     "output_type": "stream",
     "text": [
      "The shape of `data` is now 1528 x 9\n",
      "The shape of `meta` is now 4676 x 4\n",
      "The shape of `figs` is now 1459 x 2\n"
     ]
    }
   ],
   "source": [
    "JG075F_data = process_experiment(\n",
    "    \"JG075F\", \"JG075F L-MMMMx blocker tripartite competition matrix.xlsx\"\n",
    ")\n",
    "\n",
    "JG075F_data = (\n",
    "    JG075F_data.drop(columns=[\"Sample\"]).merge(\n",
    "        pd.read_csv(data_pth / \"JG075F Plate Map.csv\"), on=\"Well\"\n",
    "    )\n",
    ")\n",
    "\n",
    "frags = JG075F_data[['Reaction','Target','Copies']].rename(columns={\n",
    "    'Target': 'component',\n",
    "    'Copies': 'concentration',\n",
    "}).assign(units = 'copies')\n",
    "\n",
    "blocker = JG075F_data[['Reaction','Blocker μM']].rename(columns={\n",
    "    'Blocker μM': 'concentration',\n",
    "}).assign(component = 'EGFR L858R Blocker', units = 'μM')\n",
    "\n",
    "JG075F_meta = pd.concat([frags, blocker]).sort_values('Reaction')\n",
    "JG075F_rxns = JG075F_meta.Reaction.unique()\n",
    "\n",
    "data = append_data(JG075B_data)\n",
    "meta = append_meta(JG075F_meta, supermix=\"humble_scorpion\")\n",
    "figs = append_figs(JG075F_rxns, \"noisy_tapir\")"
   ]
  },
  {
   "cell_type": "markdown",
   "id": "fa8b8664",
   "metadata": {},
   "source": [
    "# S6 liquid_yabby\n",
    "\n",
    "Order number 3650428 on 4/26/2022"
   ]
  },
  {
   "cell_type": "markdown",
   "id": "9f8a8772",
   "metadata": {},
   "source": []
  }
 ],
 "metadata": {
  "kernelspec": {
   "display_name": "can_manuscript",
   "language": "python",
   "name": "python3"
  },
  "language_info": {
   "codemirror_mode": {
    "name": "ipython",
    "version": 3
   },
   "file_extension": ".py",
   "mimetype": "text/x-python",
   "name": "python",
   "nbconvert_exporter": "python",
   "pygments_lexer": "ipython3",
   "version": "3.9.16"
  }
 },
 "nbformat": 4,
 "nbformat_minor": 5
}
