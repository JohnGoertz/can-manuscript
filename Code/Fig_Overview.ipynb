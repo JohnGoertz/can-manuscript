{
 "cells": [
  {
   "cell_type": "code",
   "execution_count": 1,
   "metadata": {},
   "outputs": [],
   "source": [
    "import candas as can\n",
    "import numpy as np\n",
    "import pandas as pd\n",
    "from scipy import stats\n",
    "import matplotlib as mpl\n",
    "mpl.use('Cairo')  # for saving SVGs that Affinity Designer can parse\n",
    "import matplotlib.pyplot as plt\n",
    "import seaborn as sns\n",
    "\n",
    "from candas.test import QuantStudio\n",
    "from tinydb import TinyDB\n",
    "\n",
    "import gumbi as gmb\n"
   ]
  },
  {
   "cell_type": "code",
   "execution_count": 2,
   "metadata": {},
   "outputs": [],
   "source": [
    "import matplotlib.pyplot as plt\n",
    "import seaborn as sns\n",
    "\n",
    "from candas.test import QuantStudio\n",
    "from tinydb import TinyDB\n",
    "\n",
    "import gumbi as gmb\n"
   ]
  },
  {
   "cell_type": "code",
   "execution_count": 3,
   "metadata": {},
   "outputs": [],
   "source": [
    "plt.close('all')\n",
    "\n",
    "base_pth, code_pth, data_pth, rslt_pth, fig_pth = can.utils.setup_paths(make_missing=False)\n",
    "\n",
    "fig_num = 1\n",
    "fig_pth = fig_pth / f'Fig_{fig_num}'\n",
    "fig_pth.mkdir(exist_ok=True)\n",
    "\n",
    "plt.style.use(str(can.style.breve))\n",
    "\n",
    "%config InlineBackend.figure_format = 'retina'"
   ]
  },
  {
   "cell_type": "markdown",
   "metadata": {},
   "source": [
    "## Global Figure Parameters"
   ]
  },
  {
   "cell_type": "code",
   "execution_count": 4,
   "metadata": {},
   "outputs": [],
   "source": [
    "\n",
    "width = 1.625/2\n",
    "height = 1.65/2\n",
    "figsize=(width, height)\n",
    "spotsize=8**2\n",
    "linewidth=2\n",
    "ticklabelsize=8\n",
    "labelsize=10\n",
    "titlesize=labelsize+2\n",
    "\n",
    "radar_figsize = (1.25, 1.25)\n",
    "radar_spotsize = 8\n",
    "\n",
    "disease, healthy = hex_color, fam_color = sns.diverging_palette(20, 220, s=100, n=2)\n",
    "palette = sns.diverging_palette(20, 220, as_cmap=True)\n",
    "\n",
    "def format_ax(\n",
    "    ax,\n",
    "    figsize=figsize,\n",
    "    mar_l=0.56,\n",
    "    mar_r=0.17,\n",
    "    mar_t=0.22,\n",
    "    mar_b=0.48,\n",
    "    ticklabelsize=ticklabelsize,\n",
    "    labelsize=labelsize,\n",
    "    titlesize=titlesize,\n",
    "    **kwargs\n",
    "):\n",
    "    width, height = figsize\n",
    "    \n",
    "    ax.set_ylabel(ax.get_ylabel(), fontsize=labelsize)\n",
    "    ax.set_xlabel(ax.get_xlabel(), fontsize=labelsize)\n",
    "    ax.set_title(ax.get_title(), fontsize=titlesize)\n",
    "\n",
    "    ax.tick_params(axis=\"both\", length=1, width=0.5, labelsize=ticklabelsize)\n",
    "    \n",
    "    plt.subplots_adjust(\n",
    "        left=mar_l / width,\n",
    "        right=1 - mar_r / width,\n",
    "        top=1 - mar_t / height,\n",
    "        bottom=mar_b / height,\n",
    "        **kwargs\n",
    "    )\n",
    "    plt.setp(ax.spines.values(), linewidth=0.5)\n",
    "\n",
    "    return ax\n",
    "\n",
    "def savefig(fig, title):\n",
    "    print('Saving', end='')\n",
    "    for ext in ['svg', 'png']:\n",
    "        print('.', end='')\n",
    "        fig.savefig(fig_pth / f'{title}.{ext}', dpi=600, transparent=True)\n",
    "    print('done')\n"
   ]
  },
  {
   "cell_type": "markdown",
   "metadata": {},
   "source": [
    "# Radar Plots"
   ]
  },
  {
   "cell_type": "markdown",
   "metadata": {},
   "source": [
    "## Plotting functions"
   ]
  },
  {
   "cell_type": "code",
   "execution_count": 5,
   "metadata": {},
   "outputs": [],
   "source": [
    "def symmetrize(x):\n",
    "    return np.hstack([x, x[:, ::-1]])[:,::2]\n",
    "\n",
    "def circularize(x):\n",
    "    return np.hstack([x, x[:, 0].reshape(-1, 1)])"
   ]
  },
  {
   "cell_type": "code",
   "execution_count": 6,
   "metadata": {},
   "outputs": [],
   "source": [
    "def find_centroid(rs, label_loc):\n",
    "    rs = np.expand_dims(rs, axis=-1) if len(rs.shape) == 2 else rs\n",
    "    θs = np.expand_dims(label_loc, axis=(0,2))\n",
    "    \n",
    "    # Convert from polar to cartesian coordinates\n",
    "    xy = np.stack([np.cos(θs)*rs, np.sin(θs)*rs], axis=-1)\n",
    "    x = np.cos(θs)*rs\n",
    "    y = np.sin(θs)*rs\n",
    "    \n",
    "    # Centroid of a polygon\n",
    "    A = 1/2 * np.sum(np.cross(xy[:, :-1], xy[:, 1:]), axis=1, keepdims=True) \n",
    "    Cx = 1/(6*A) * np.sum((xy[:, :-1, :, 0] + xy[:, 1:, :, 0]) * np.cross(xy[:, :-1, ...], xy[:, 1:, ...]), axis=1, keepdims=True)\n",
    "    Cy = 1/(6*A) * np.sum((xy[:, :-1, :, 1] + xy[:, 1:, :, 1]) * np.cross(xy[:, :-1, ...], xy[:, 1:, ...]), axis=1, keepdims=True)\n",
    "    \n",
    "    centroid_r = np.sqrt(Cx**2 + Cy**2)\n",
    "    centroid_θ = np.arctan2(Cy, Cx) % (2*np.pi)\n",
    "    \n",
    "    return centroid_θ, centroid_r"
   ]
  },
  {
   "cell_type": "code",
   "execution_count": 7,
   "metadata": {},
   "outputs": [],
   "source": [
    "def prepare_radar_plot(label_loc, labels, r_max=6, figsize=None):\n",
    "    figsize = figsize or (1.1, 1.1)\n",
    "    \n",
    "    fig = plt.figure(figsize=figsize)\n",
    "    ax = plt.subplot(polar=True)\n",
    "\n",
    "    _ = ax.set_thetagrids(np.degrees(label_loc), labels=labels)\n",
    "    ax.set_yticklabels([])\n",
    "    ax.set_ylim(0, r_max)\n",
    "    ax.set_yticks(np.arange(r_max+1))\n",
    "    ax.set_theta_zero_location(\"N\")\n",
    "    \n",
    "    return fig, ax\n",
    "\n",
    "def rotate_radar_labels(ax, ticklabelsize=ticklabelsize, y_offset=0):\n",
    "    angles = np.linspace(0,2*np.pi,len(ax.get_xticklabels())) % (2*np.pi)\n",
    "    angles = np.rad2deg(angles)\n",
    "    labels = []\n",
    "    for label, angle in zip(ax.get_xticklabels(), angles):\n",
    "        x,y = label.get_position()\n",
    "        lab = ax.text(x,y+y_offset, 'RNA '+label.get_text(),\n",
    "                      fontsize=ticklabelsize,\n",
    "                      transform=label.get_transform(),\n",
    "                      ha=label.get_ha(), va=label.get_va(),\n",
    "                    #   bbox={'pad':0.01}\n",
    "                      )\n",
    "        lab.set_rotation(angle)\n",
    "        labels.append(lab)\n",
    "    ax.set_xticklabels([])\n",
    "    return labels"
   ]
  },
  {
   "cell_type": "markdown",
   "metadata": {},
   "source": [
    "## Synthetic Populations"
   ]
  },
  {
   "cell_type": "code",
   "execution_count": 8,
   "metadata": {},
   "outputs": [],
   "source": [
    "indiv_lw = 0.5\n",
    "indiv_fill_alpha = 0.1\n",
    "indiv_cent_alpha = 0.5\n",
    "pop_lw = 1\n",
    "pop_fill_alpha = 0.5\n",
    "cent_ms = 4"
   ]
  },
  {
   "cell_type": "code",
   "execution_count": 9,
   "metadata": {},
   "outputs": [],
   "source": [
    "SEED = 1\n",
    "n_genes = 5\n",
    "n_patients = 5\n",
    "r_max = 6\n",
    "\n",
    "# Averages for lognormal distribution\n",
    "locs = np.arange(n_genes)\n",
    "locs = np.vstack([locs, locs+stats.norm(-1, 1).rvs(n_genes, random_state=SEED)])\n",
    "\n",
    "# Generate a range of population averages for each gene\n",
    "pop_avgs = stats.lognorm(loc=locs, s=1.2).rvs([2, n_genes], random_state=SEED)\n",
    "\n",
    "# Inversely sort each condition\n",
    "pop_avgs = np.sort(pop_avgs, axis=1)\n",
    "pop_avgs[1, :] = pop_avgs[1, ::-1]\n",
    "\n",
    "# Symmetrize and circularize to define the final population averages\n",
    "pop_avgs = circularize(symmetrize(pop_avgs))\n",
    "\n",
    "# Rescale averages values to [0, 5]\n",
    "pop_avgs = pop_avgs / pop_avgs.max() * (r_max-1)\n",
    "\n",
    "labels = np.arange(n_genes)+1\n",
    "labels = [*labels, labels[0]]\n",
    "label_loc = np.linspace(start=0, stop=2 * np.pi, num=n_genes+1)\n",
    "\n",
    "# Draw samples from each population average and circularize\n",
    "scales = stats.uniform(0.2, 0.5).rvs([1, n_genes], random_state=SEED)\n",
    "\n",
    "samples = stats.lognorm(loc=pop_avgs[:, :-1]-1, s=scales).rvs([n_patients, 2, n_genes], random_state=SEED)\n",
    "samples = np.moveaxis(samples, 0, -1)\n",
    "samples = np.concatenate([samples, samples[:, [0], :]], axis=1)"
   ]
  },
  {
   "cell_type": "markdown",
   "metadata": {},
   "source": [
    "## Disease patients"
   ]
  },
  {
   "cell_type": "code",
   "execution_count": 10,
   "metadata": {},
   "outputs": [
    {
     "name": "stdout",
     "output_type": "stream",
     "text": [
      "Saving..done\n"
     ]
    }
   ],
   "source": [
    "fig, ax = prepare_radar_plot(label_loc, labels)\n",
    "\n",
    "# Individual samples\n",
    "ax.plot(label_loc, samples[0, ...], \n",
    "        color=disease, lw=indiv_lw, \n",
    "        # marker='o', ms=5\n",
    "        )\n",
    "for sample in samples[0, ...].T:\n",
    "    ax.fill(label_loc, sample, lw=0, color=disease, alpha=indiv_fill_alpha)\n",
    "\n",
    "# Individual sample centroids\n",
    "# centroid_θ, centroid_r = find_centroid(samples, label_loc)\n",
    "# ax.plot(centroid_θ[0, :], centroid_r[0, :], 'o', ms=cent_ms, color=disease, alpha=indiv_cent_alpha)\n",
    "\n",
    "rotate_radar_labels(ax, y_offset=0.2);\n",
    "format_ax(ax, figsize=radar_figsize, \n",
    "        mar_l=0.175,\n",
    "        mar_r=0.175,\n",
    "        mar_t=0.175,\n",
    "        mar_b=0.175, \n",
    "        ticklabelsize=6, labelsize=8, titlesize=10)\n",
    "\n",
    "panel = 'A'\n",
    "subpanel = 'i'\n",
    "\n",
    "savefig(fig, f'Fig_{fig_num}_{panel}_{subpanel}')\n"
   ]
  },
  {
   "cell_type": "markdown",
   "metadata": {},
   "source": [
    "## Healthy patients"
   ]
  },
  {
   "cell_type": "code",
   "execution_count": 11,
   "metadata": {},
   "outputs": [
    {
     "name": "stdout",
     "output_type": "stream",
     "text": [
      "Saving..done\n"
     ]
    }
   ],
   "source": [
    "fig, ax = prepare_radar_plot(label_loc, labels)\n",
    "\n",
    "# Individual samples\n",
    "ax.plot(label_loc, samples[1, ...], \n",
    "        color=healthy, lw=indiv_lw, \n",
    "        # marker='o', ms=5\n",
    "        )\n",
    "for sample in samples[1, ...].T:\n",
    "    ax.fill(label_loc, sample, lw=0, color=healthy, alpha=indiv_fill_alpha)\n",
    "\n",
    "# Individual sample centroids\n",
    "# centroid_θ, centroid_r = find_centroid(samples, label_loc)\n",
    "# ax.plot(centroid_θ[1, :], centroid_r[1, :], 'o', ms=cent_ms, color=healthy, alpha=indiv_cent_alpha)\n",
    "\n",
    "rotate_radar_labels(ax, y_offset=0.2);\n",
    "format_ax(ax, figsize=radar_figsize, \n",
    "        mar_l=0.175,\n",
    "        mar_r=0.175,\n",
    "        mar_t=0.175,\n",
    "        mar_b=0.175, \n",
    "        ticklabelsize=6, labelsize=8, titlesize=10)\n",
    "\n",
    "panel = 'A'\n",
    "subpanel = 'ii'\n",
    "\n",
    "savefig(fig, f'Fig_{fig_num}_{panel}_{subpanel}')"
   ]
  },
  {
   "cell_type": "markdown",
   "metadata": {},
   "source": [
    "## Population plots"
   ]
  },
  {
   "cell_type": "code",
   "execution_count": 12,
   "metadata": {},
   "outputs": [
    {
     "name": "stdout",
     "output_type": "stream",
     "text": [
      "Saving..done\n"
     ]
    }
   ],
   "source": [
    "fig, ax = prepare_radar_plot(label_loc, labels)\n",
    "\n",
    "ax.plot(label_loc, pop_avgs[0, :], color=disease, lw=pop_lw)\n",
    "# ax.plot(label_loc, samples[0, :, :5], color=healthy, lw=1, alpha=0.5)\n",
    "ax.fill(label_loc, pop_avgs[0, :], lw=0, color=disease, alpha=pop_fill_alpha)\n",
    "\n",
    "ax.plot(label_loc, pop_avgs[1, :], color=healthy, lw=pop_lw)\n",
    "# ax.plot(label_loc, samples[1, :, :5], color=disease, lw=1, alpha=0.5)\n",
    "ax.fill(label_loc, pop_avgs[1, :], lw=0, color=healthy, alpha=pop_fill_alpha)\n",
    "\n",
    "# Find population centroids\n",
    "# centroid_θ, centroid_r = find_centroid(pop_avgs, label_loc)\n",
    "# ax.plot(centroid_θ[0], centroid_r[0], 'o', color=disease, ms=cent_ms)\n",
    "# ax.plot(centroid_θ[1], centroid_r[1], 'o', color=healthy, ms=cent_ms)\n",
    "\n",
    "rotate_radar_labels(ax, y_offset=0.2);\n",
    "format_ax(ax, figsize=radar_figsize, \n",
    "        mar_l=0.175,\n",
    "        mar_r=0.175,\n",
    "        mar_t=0.175,\n",
    "        mar_b=0.175, \n",
    "        ticklabelsize=6, labelsize=8, titlesize=10)\n",
    "\n",
    "panel = 'A'\n",
    "subpanel = 'iii'\n",
    "\n",
    "savefig(fig, f'Fig_{fig_num}_{panel}_{subpanel}')"
   ]
  },
  {
   "cell_type": "markdown",
   "metadata": {},
   "source": [
    "## Signature specification by competitors"
   ]
  },
  {
   "cell_type": "code",
   "execution_count": 13,
   "metadata": {},
   "outputs": [
    {
     "name": "stdout",
     "output_type": "stream",
     "text": [
      "Saving..done\n"
     ]
    }
   ],
   "source": [
    "fig, ax = prepare_radar_plot(label_loc, labels)\n",
    "\n",
    "# Re-plot population averages\n",
    "# ax.plot(label_loc, pop_avgs[0, :], color=disease, lw=pop_lw/2)\n",
    "# ax.plot(label_loc, samples[0, :, :5], color=healthy, lw=1, alpha=0.5)\n",
    "ax.fill(label_loc, pop_avgs[0, :], lw=0, color=disease, alpha=pop_fill_alpha/2)\n",
    "\n",
    "# ax.plot(label_loc, pop_avgs[1, :], color=healthy, lw=pop_lw/2)\n",
    "# ax.plot(label_loc, samples[1, :, :5], color=disease, lw=1, alpha=0.5)\n",
    "ax.fill(label_loc, pop_avgs[1, :], lw=0, color=healthy, alpha=pop_fill_alpha/2)\n",
    "\n",
    "# Indicate reference oligo concentrations\n",
    "refs = pop_avgs.mean(0)\n",
    "# ax.plot(np.tile(label_loc, (2,1)), pop_avgs, color='0.3', lw=pop_lw)\n",
    "# ax.plot(np.tile(label_loc, (2,1)), pop_avgs, color='0.3', lw=pop_lw)\n",
    "\n",
    "\n",
    "for loc, ref, avgs in zip(label_loc[:-1], refs, pop_avgs.T):\n",
    "    inner = [0, ref]\n",
    "    outer = [ref, r_max]\n",
    "    inner_is_disease = (avgs[0]>avgs[1]).astype(int)\n",
    "    inner_color = [disease, healthy][inner_is_disease]\n",
    "    outer_color = [disease, healthy][~inner_is_disease]\n",
    "    ax.plot([loc, loc], inner, color=inner_color, lw=1)\n",
    "    ax.plot([loc, loc], outer, color=outer_color, lw=1)\n",
    "    \n",
    "    \n",
    "ax.plot(label_loc, refs, color='0.3', ls='none', marker='o', ms=cent_ms)\n",
    "\n",
    "\n",
    "rotate_radar_labels(ax, y_offset=0.2);\n",
    "format_ax(ax, figsize=radar_figsize, \n",
    "        mar_l=0.175,\n",
    "        mar_r=0.175,\n",
    "        mar_t=0.175,\n",
    "        mar_b=0.175, \n",
    "        ticklabelsize=6, labelsize=8, titlesize=10)\n",
    "\n",
    "panel = 'A'\n",
    "subpanel = 'iv'\n",
    "\n",
    "savefig(fig, f'Fig_{fig_num}_{panel}_{subpanel}')"
   ]
  },
  {
   "cell_type": "markdown",
   "metadata": {},
   "source": [
    "## New patient assessment"
   ]
  },
  {
   "cell_type": "code",
   "execution_count": 14,
   "metadata": {},
   "outputs": [
    {
     "name": "stdout",
     "output_type": "stream",
     "text": [
      "Saving..done\n"
     ]
    }
   ],
   "source": [
    "new_patient_coeff = stats.uniform(0.5, 1.5).rvs([1, n_genes], random_state=SEED+1)\n",
    "new_patient = new_patient_coeff*np.roll(pop_avgs[0,:-1],1)\n",
    "new_patient = circularize(new_patient).squeeze()\n",
    "\n",
    "fig, ax = prepare_radar_plot(label_loc, labels)\n",
    "\n",
    "\n",
    "# ax.fill(label_loc, pop_avgs[0, :], lw=0, color=disease, alpha=pop_fill_alpha/2)\n",
    "# ax.fill(label_loc, pop_avgs[1, :], lw=0, color=healthy, alpha=pop_fill_alpha/2)\n",
    "\n",
    "for loc, ref, avgs in zip(label_loc[:-1], refs, pop_avgs.T):\n",
    "    inner = [0, ref]\n",
    "    outer = [ref, r_max]\n",
    "    inner_is_disease = (avgs[0]>avgs[1]).astype(int)\n",
    "    inner_color = [disease, healthy][inner_is_disease]\n",
    "    outer_color = [disease, healthy][~inner_is_disease]\n",
    "    ax.plot([loc, loc], inner, color=inner_color, lw=1)\n",
    "    ax.plot([loc, loc], outer, color=outer_color, lw=1)\n",
    "    \n",
    "\n",
    "# Indicate reference oligo concentrations\n",
    "# ax.plot(label_loc, refs, color='0.3', ls='none', marker='o', ms=cent_ms)\n",
    "\n",
    "\n",
    "ax.plot(label_loc, new_patient, color='0.2', lw=pop_lw+1)\n",
    "\n",
    "for loc, avgs, ref, pat in zip(label_loc[:-1], pop_avgs.T, refs, new_patient):\n",
    "    closer_idx = np.argmin(np.abs(avgs-pat))\n",
    "    color = [disease, healthy][closer_idx]\n",
    "#     ax.annotate('', xy=(loc, pat), xytext=(loc, ref),\n",
    "#                 arrowprops=dict(arrowstyle='-|>', lw=1, color=color, shrinkA=0, shrinkB=0, mutation_scale=6))\n",
    "    # ax.plot([loc, loc], [ref, pat], color=color, lw=1)\n",
    "    ax.plot([loc], [pat], color=color, ls='none', marker='o', ms=cent_ms*3/4)\n",
    "\n",
    "\n",
    "\n",
    "rotate_radar_labels(ax, y_offset=0.2);\n",
    "format_ax(ax, figsize=radar_figsize, \n",
    "        mar_l=0.175,\n",
    "        mar_r=0.175,\n",
    "        mar_t=0.175,\n",
    "        mar_b=0.175, \n",
    "        ticklabelsize=6, labelsize=8, titlesize=10)\n",
    "\n",
    "panel = 'A'\n",
    "subpanel = 'v'\n",
    "\n",
    "savefig(fig, f'Fig_{fig_num}_{panel}_{subpanel}')"
   ]
  },
  {
   "cell_type": "markdown",
   "metadata": {},
   "source": [
    "# Architecture and serial dilution"
   ]
  },
  {
   "cell_type": "markdown",
   "metadata": {},
   "source": [
    "### Import Data"
   ]
  },
  {
   "cell_type": "code",
   "execution_count": 15,
   "metadata": {},
   "outputs": [],
   "source": [
    "cmax = 50\n",
    "\n",
    "file = data_pth / 'JG034 TMCC1 Gen2 Competitors - 59C v3.xlsx'\n",
    "JG034 = (\n",
    "    QuantStudio(file, 'JG034')\n",
    "    .import_data()\n",
    "    .format_reactions()\n",
    "    .index_reactions()\n",
    "    .subtract_background()\n",
    "    .normalize_reactions(cmax=cmax)  # , method='min-max')\n",
    "    # .invert_fluorophore('HEX')\n",
    ")\n",
    "\n",
    "# for oligo in ['S036.5', 'S057.3.2', 'S057.4.2']:\n",
    "#     JG071B.reactions.data['lg10 ' + oligo] = np.log10(JG071B.reactions.data[oligo])"
   ]
  },
  {
   "cell_type": "markdown",
   "metadata": {},
   "source": [
    "## Serial Dilutions"
   ]
  },
  {
   "cell_type": "code",
   "execution_count": 16,
   "metadata": {},
   "outputs": [
    {
     "name": "stdout",
     "output_type": "stream",
     "text": [
      "Saving..done\n"
     ]
    }
   ],
   "source": [
    "this = JG034.reactions.data[\n",
    "    (JG034.reactions.data['Cycle'] <= cmax) &\n",
    "    (JG034.reactions.data.Target.str.contains('GC55'))\n",
    "]\n",
    "\n",
    "wells = this.Well.unique()[::-2]\n",
    "\n",
    "width = 3.80\n",
    "height = 1.145\n",
    "\n",
    "fig, axs = plt.subplots(1, len(wells), figsize = (width, height), sharey=True)\n",
    "\n",
    "for well, ax in zip(wells, axs.flat):\n",
    "\n",
    "    df = JG034.reactions.data[\n",
    "        (JG034.reactions.data['Cycle'] <= cmax) &\n",
    "        (JG034.reactions.data.Well == well)\n",
    "    ]\n",
    "    \n",
    "    FAM = df[df.Target.str.contains('FAM')].Fluorescence.values\n",
    "    HEX = df[df.Target.str.contains('HEX')].Fluorescence.values\n",
    "    lg10_Copies = df.lg10_Copies.iloc[0]\n",
    "    \n",
    "    x = df.Cycle.unique()\n",
    "    # ax.fill_between(x, FAM, HEX, color='0.7', alpha=0.5)\n",
    "    ax.plot(x, FAM, lw=2, color=fam_color)\n",
    "    ax.plot(x, HEX, lw=2, color=hex_color)\n",
    "    \n",
    "    y0 = HEX[-1]+0.05 if FAM[-1] > HEX[-1] else HEX[-1]-0.05\n",
    "    y1 = FAM[-1]-HEX[-1]-0.125 if FAM[-1] > HEX[-1] else FAM[-1]-HEX[-1]+0.125\n",
    "    # ax.arrow(x[-1], y0, 0, y1, color='k', head_width=3, head_length=0.1, length_includes_head=True, zorder=10)\n",
    "    # Draw a dashed line from the arrow tip to the y-axis\n",
    "    # ax.plot([x[-1], x[-1]], [0, min(HEX[-1], FAM[-1])-0.05], color='0.2', ls=':', lw=1, zorder=10)\n",
    "    \n",
    "    ax.set_ylim(0, 1.1)\n",
    "    ax.set_xlim(-1, cmax+11)\n",
    "    ax.set_xticks(np.arange(0, 61, 20))\n",
    "    ax.set_title(f'{lg10_Copies:.1f}')\n",
    "    format_ax(ax, figsize=(width, height), \n",
    "          mar_l=0.35,\n",
    "          mar_r=0.05,\n",
    "          mar_t=0.2,\n",
    "          mar_b=0.32, \n",
    "          ticklabelsize=6, labelsize=8, titlesize=10)\n",
    "    \n",
    "axs[0].set_ylabel('Fluorescence')\n",
    "axs[0].set_xlabel('Cycle')\n",
    "\n",
    "panel = 'B'\n",
    "subpanel = 'ii'\n",
    "\n",
    "savefig(fig, f'Fig_{fig_num}_{panel}_{subpanel}')"
   ]
  },
  {
   "cell_type": "markdown",
   "metadata": {},
   "source": [
    "## Response Profile"
   ]
  },
  {
   "cell_type": "code",
   "execution_count": 17,
   "metadata": {},
   "outputs": [
    {
     "name": "stdout",
     "output_type": "stream",
     "text": [
      "Saving..done\n"
     ]
    }
   ],
   "source": [
    "import seaborn as sns\n",
    "\n",
    "endpoints = JG034.invert_fluorophore('HEX').extract_endpoints(name='FAM-HEX').invert_fluorophore('HEX')\n",
    "\n",
    "width = 1.3\n",
    "height = 1.145\n",
    "\n",
    "this = JG034.endpoints[\n",
    "    (JG034.endpoints.Target.str.contains('GC55'))\n",
    "]\n",
    "\n",
    "wells = this.Well.unique()[::2]\n",
    "\n",
    "x_var = 'lg10_Copies'\n",
    "hue = 'FAM-HEX'\n",
    "norm = mpl.colors.Normalize(vmin=-1, vmax=+1)\n",
    "\n",
    "fig, ax = plt.subplots(1, 1, figsize = (width, height))\n",
    "    \n",
    "g = sns.scatterplot(data = this, x=x_var, y=hue, hue=hue, hue_norm=norm, palette=palette, \n",
    "                    estimator=None, s=spotsize, legend=False, ax=ax)\n",
    "\n",
    "# spotsize **= 0.5\n",
    "# ax.scatter(this[x_var], this[hue], cmap=palette, norm=norm, c=this[hue], s=spotsize)\n",
    "\n",
    "ax.set_xlim(1, 9)\n",
    "ax.set_ylim(-1, 1)\n",
    "ax.set_xticks([2, 4, 6, 8])\n",
    "ax.set_xlabel('log$_{10}$ WT copies')\n",
    "ax.set_ylabel('Blue - Orange')\n",
    "format_ax(ax, figsize=(width, height),\n",
    "          mar_l=0.4,\n",
    "          mar_r=0.05,\n",
    "          mar_t=0.05,\n",
    "          mar_b=0.32, \n",
    "          ticklabelsize=6, labelsize=8, titlesize=10)\n",
    "\n",
    "panel = 'B'\n",
    "subpanel = 'iii'\n",
    "\n",
    "savefig(fig, f'Fig_{fig_num}_{panel}_{subpanel}')"
   ]
  },
  {
   "cell_type": "markdown",
   "metadata": {},
   "source": [
    "# Reaction components"
   ]
  },
  {
   "cell_type": "code",
   "execution_count": 18,
   "metadata": {},
   "outputs": [],
   "source": [
    "JG069J = (\n",
    "    QuantStudio(data_pth / 'JG069J Final TB Experiment.xlsx', 'JG069J')\n",
    "    .import_data()\n",
    "    .format_reactions()\n",
    "    .index_reactions()\n",
    "    .subtract_background()\n",
    "    .normalize_reactions(cmax=cmax, method='min-max')\n",
    "    # .invert_fluorophore('HEX')\n",
    ")"
   ]
  },
  {
   "cell_type": "code",
   "execution_count": 19,
   "metadata": {},
   "outputs": [
    {
     "name": "stdout",
     "output_type": "stream",
     "text": [
      "Saving..done\n",
      "Saving..done\n"
     ]
    }
   ],
   "source": [
    "width = 1.3\n",
    "height = 1.145\n",
    "\n",
    "for i, well in enumerate([343, 115]):\n",
    "    fig, ax = plt.subplots(1, 1, figsize = (width, height))\n",
    "\n",
    "    df = JG069J.reactions.data[\n",
    "        (JG069J.reactions.data['Cycle'] <= cmax) &\n",
    "        (JG069J.reactions.data.Well == well)\n",
    "    ]\n",
    "\n",
    "    FAM = df[df.Target.str.contains('FAM')].Fluorescence.values*4\n",
    "    FAM -= FAM[0]\n",
    "    HEX = df[df.Target.str.contains('HEX')].Fluorescence.values*4\n",
    "    HEX -= HEX[0]\n",
    "\n",
    "    x = df.Cycle.unique()\n",
    "    # ax.fill_between(x, FAM, HEX, color='0.7', alpha=0.5)\n",
    "    ax.plot(x, FAM, lw=2, color=fam_color)\n",
    "    ax.plot(x, HEX, lw=2, color=hex_color)\n",
    "        \n",
    "    x0 = x1 = x[-1]+6\n",
    "    y0 = HEX[-1]\n",
    "    y1 = FAM[-1]\n",
    "    ax.annotate('', xytext=(x0, y0), xy=(x1, y1), color='k', \n",
    "                arrowprops=dict(arrowstyle=\"-|>\", color='k', lw=0.5, shrinkA=0, shrinkB=0, mutation_scale=8, mutation_aspect=1.5))\n",
    "    ax.annotate('', xytext=(x0, y0), xy=(x1, y1), color='k', \n",
    "                arrowprops=dict(arrowstyle=\"|-|\", color='k', lw=0.5, shrinkA=0, shrinkB=0, mutation_scale=3))\n",
    "    # Draw a dashed line from the arrow tip to the y-axis\n",
    "    # ax.plot([x[-1], x[-1]], [0, min(HEX[-1], FAM[-1])-0.05], color='0.2', ls=':', lw=1, zorder=10)\n",
    "\n",
    "    # ax.set_ylim(0, 1)\n",
    "    ax.set_xlim(-1, cmax+11)\n",
    "    ax.set_ylim(-0.33, 7.5)\n",
    "    ax.set_xticks(np.arange(0, 61, 20))\n",
    "    # ax.set_title(well)\n",
    "    ax.tick_params(axis=\"both\", length=2, labelsize=16)\n",
    "        \n",
    "    ax.set_ylabel('Fluorescence', fontsize=16)\n",
    "    ax.set_xlabel('Cycle', fontsize=16);\n",
    "\n",
    "    format_ax(ax, figsize=(width, height),\n",
    "          mar_l=0.4,\n",
    "          mar_r=0.05,\n",
    "          mar_t=0.05,\n",
    "          mar_b=0.32, \n",
    "          ticklabelsize=6, labelsize=8, titlesize=10)\n",
    "        \n",
    "    panel = ['C','D'][i]\n",
    "    subpanel = 'i'\n",
    "    \n",
    "    savefig(fig, f'Fig_{fig_num}_{panel}_{subpanel}')"
   ]
  },
  {
   "cell_type": "code",
   "execution_count": 20,
   "metadata": {},
   "outputs": [
    {
     "name": "stdout",
     "output_type": "stream",
     "text": [
      "Saving..done\n",
      "Saving..done\n",
      "Saving..done\n",
      "Saving..done\n",
      "Saving..done\n",
      "Saving..done\n"
     ]
    }
   ],
   "source": [
    "wells = this.Well.unique()[::-2]\n",
    "\n",
    "dils = [[6, 1, 5],\n",
    "        [0, 2, 4]]\n",
    "weights = [[1.8, 1.1, 0.5],\n",
    "           [2.0, 0.9, 0.6]]\n",
    "\n",
    "\n",
    "width = 1.3 * 3/4\n",
    "height = 1.145 * 3/4\n",
    "\n",
    "# fig, axs = plt.subplots(2, 3, figsize = (width, height), sharey=True, sharex=True)\n",
    "\n",
    "for row, (dil_row, weight_row) in enumerate(zip(dils, weights)):\n",
    "    for col, (dil, weight) in enumerate(zip(dil_row, weight_row)):\n",
    "        \n",
    "        fig, ax = plt.subplots(1, 1, figsize = (width, height))\n",
    "\n",
    "        well = wells[dil]\n",
    "        \n",
    "        df = JG034.reactions.data[\n",
    "            (JG034.reactions.data['Cycle'] <= cmax) &\n",
    "            (JG034.reactions.data.Well == well)\n",
    "        ]\n",
    "        \n",
    "        FAM = df[df.Target.str.contains('FAM')].Fluorescence.values*weight\n",
    "        HEX = df[df.Target.str.contains('HEX')].Fluorescence.values*weight\n",
    "        lg10_Copies = df.lg10_Copies.iloc[0]\n",
    "        \n",
    "        x = df.Cycle.unique()\n",
    "        # ax.fill_between(x, FAM, HEX, color='0.7', alpha=0.5)\n",
    "        ax.plot(x, FAM, lw=2, color=fam_color)\n",
    "        ax.plot(x, HEX, lw=2, color=hex_color)\n",
    "\n",
    "        ax.set_ylim(-0.1, 2)\n",
    "        ax.set_xlim(-1, 61)\n",
    "        ax.set_yticks([0,1,2])\n",
    "        ax.set_xticks([0, 20, 40, 60])\n",
    "        format_ax(ax, figsize=(width, height),\n",
    "            mar_l=0.4,\n",
    "            mar_r=0.05,\n",
    "            mar_t=0.05,\n",
    "            mar_b=0.32, \n",
    "            ticklabelsize=6, labelsize=8, titlesize=10)\n",
    "        \n",
    "        panel = ['C','D'][row]\n",
    "        subpanel = ['ii','iii','iv'][col]\n",
    "        \n",
    "        savefig(fig, f'Fig_{fig_num}_{panel}_{subpanel}')\n",
    "    \n"
   ]
  }
 ],
 "metadata": {
  "kernelspec": {
   "display_name": "Python 3.10.6 ('candas')",
   "language": "python",
   "name": "python3"
  },
  "language_info": {
   "codemirror_mode": {
    "name": "ipython",
    "version": 3
   },
   "file_extension": ".py",
   "mimetype": "text/x-python",
   "name": "python",
   "nbconvert_exporter": "python",
   "pygments_lexer": "ipython3",
   "version": "3.10.6"
  },
  "orig_nbformat": 4,
  "vscode": {
   "interpreter": {
    "hash": "e723923f3ce7942ed7997078cee6e56c51bbc1fd61d76e9913b97f174c1ae87c"
   }
  }
 },
 "nbformat": 4,
 "nbformat_minor": 2
}
