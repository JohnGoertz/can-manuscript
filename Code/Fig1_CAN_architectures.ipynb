{
 "cells": [
  {
   "cell_type": "markdown",
   "metadata": {},
   "source": [
    "# Imports"
   ]
  },
  {
   "cell_type": "code",
   "execution_count": 1,
   "metadata": {},
   "outputs": [],
   "source": [
    "import candas as can\n",
    "import numpy as np\n",
    "import pandas as pd\n",
    "import matplotlib as mpl\n",
    "mpl.use('Cairo')  # for saving SVGs that Affinity Designer can parse\n",
    "import matplotlib.pyplot as plt\n",
    "import seaborn as sns\n",
    "\n",
    "from candas.test import QuantStudio\n",
    "from tinydb import TinyDB\n",
    "\n",
    "import gumbi as gmb\n"
   ]
  },
  {
   "cell_type": "code",
   "execution_count": 2,
   "metadata": {},
   "outputs": [],
   "source": [
    "plt.close('all')\n",
    "\n",
    "base_pth, code_pth, data_pth, rslt_pth, fig_pth = can.utils.setup_paths(make_missing=False)\n",
    "plt.style.use(str(can.style.breve))\n",
    "\n",
    "%config InlineBackend.figure_format = 'retina'"
   ]
  },
  {
   "cell_type": "markdown",
   "metadata": {},
   "source": [
    "## Global Figure Parameters"
   ]
  },
  {
   "cell_type": "code",
   "execution_count": 3,
   "metadata": {},
   "outputs": [],
   "source": [
    "width = 1.625\n",
    "height = 1.65\n",
    "figsize=(width, height)\n",
    "spotsize=8**2\n",
    "linewidth=2\n",
    "ticklabelsize=8\n",
    "labelsize=10\n",
    "titlesize=labelsize+2\n",
    "\n",
    "palette = sns.diverging_palette(20, 220, as_cmap=True)\n",
    "\n",
    "def format_ax(\n",
    "    ax,\n",
    "    title=\"\",\n",
    "    xlabel=\"log$_{10}$ Copies\",\n",
    "    ylabel=\"FAM$-$HEX\",\n",
    "    figsize=figsize,\n",
    "    mar_l=0.56,\n",
    "    mar_r=0.17,\n",
    "    mar_t=0.22,\n",
    "    mar_b=0.48,\n",
    "    ticklabelsize=ticklabelsize,\n",
    "    labelsize=labelsize,\n",
    "    titlesize=titlesize,\n",
    "    **kwargs\n",
    "):\n",
    "    ax.set_xticks(np.arange(0, 8.5, 2))\n",
    "\n",
    "    ax.set_ylabel(ylabel, fontsize=labelsize)\n",
    "    ax.set_xlabel(xlabel, fontsize=labelsize)\n",
    "    ax.set_xticks(np.arange(0, 8.5, 2))\n",
    "    ax.set_title(title, fontsize=titlesize)\n",
    "\n",
    "    ax.tick_params(axis=\"both\", labelsize=ticklabelsize)\n",
    "    \n",
    "    plt.subplots_adjust(\n",
    "        left=mar_l / width,\n",
    "        right=1 - mar_r / width,\n",
    "        top=1 - mar_t / height,\n",
    "        bottom=mar_b / height,\n",
    "        **kwargs\n",
    "    )\n",
    "    plt.setp(ax.spines.values(), linewidth=1)\n",
    "\n",
    "    ax.axhline(0, lw=1, color=\"k\", zorder=-10)\n",
    "    ax.set_ylim([-1.1, 1.1])\n",
    "    ax.set_yticks([-1, -0.5, 0, 0.5, 1])\n",
    "\n",
    "    return ax\n"
   ]
  },
  {
   "cell_type": "code",
   "execution_count": 4,
   "metadata": {},
   "outputs": [],
   "source": [
    "hue = 'FAM-HEX'\n",
    "norm = mpl.colors.Normalize(vmin=-1, vmax=+1)"
   ]
  },
  {
   "cell_type": "markdown",
   "metadata": {},
   "source": [
    "## JG034: Direct Module"
   ]
  },
  {
   "cell_type": "markdown",
   "metadata": {},
   "source": [
    "### Import Data"
   ]
  },
  {
   "cell_type": "code",
   "execution_count": 5,
   "metadata": {},
   "outputs": [],
   "source": [
    "cmax = 50\n",
    "\n",
    "file = data_pth / 'JG034 TMCC1 Gen2 Competitors - 59C v3.xlsx'\n",
    "JG034 = (\n",
    "    QuantStudio(file, 'JG034')\n",
    "    .import_data()\n",
    "    .format_reactions()\n",
    "    .index_reactions()\n",
    "    .subtract_background()\n",
    "    .normalize_reactions(cmax=cmax)  # , method='min-max')\n",
    "    .invert_fluorophore('HEX')\n",
    ")\n",
    "\n",
    "# for oligo in ['S036.5', 'S057.3.2', 'S057.4.2']:\n",
    "#     JG071B.reactions.data['lg10 ' + oligo] = np.log10(JG071B.reactions.data[oligo])"
   ]
  },
  {
   "cell_type": "markdown",
   "metadata": {},
   "source": [
    "### Plot curves for config of interest "
   ]
  },
  {
   "cell_type": "code",
   "execution_count": 6,
   "metadata": {},
   "outputs": [],
   "source": [
    "ax = plt.subplots(1, 1, figsize = (width, height))[1]\n",
    "\n",
    "this = JG034.reactions.data[\n",
    "    (JG034.reactions.data['Cycle'] <= cmax) &\n",
    "    (JG034.reactions.data.Target.str.contains('GC55'))\n",
    "]\n",
    "\n",
    "hue = 'lg10_Copies'\n",
    "\n",
    "g = sns.lineplot(data = this, x='Cycle', y='Fluorescence', hue=hue, \n",
    "                 palette='ch:0', units='Reaction', estimator=None, legend=False, \n",
    "                 lw=2)\n",
    "ax.axhline(0, lw=1, color='k')\n",
    "format_ax(ax, title='Direct', xlabel='', ylabel=r'$\\leftarrow$ HEX    FAM $\\rightarrow$')\n",
    "\n",
    "ax.set_xticks(np.arange(0, cmax+1, 10))\n",
    "ax.set_yticks([-1, -0.5, 0, 0.5, 1]);\n",
    "ax.set_yticklabels([1.0, 0.5, 0.0, 0.5, 1.0]);\n",
    "\n",
    "plt.savefig(fig_pth / 'JG034 direct - curves.png', dpi=300, transparent=True);\n",
    "plt.savefig(fig_pth / 'JG034 direct - curves.svg', dpi=300, transparent=True);"
   ]
  },
  {
   "cell_type": "markdown",
   "metadata": {},
   "source": [
    "### Fit GP to whole dataset"
   ]
  },
  {
   "cell_type": "code",
   "execution_count": 7,
   "metadata": {},
   "outputs": [
    {
     "data": {
      "text/html": [
       "\n",
       "    <div>\n",
       "        <style>\n",
       "            /* Turns off some styling */\n",
       "            progress {\n",
       "                /* gets rid of default border in Firefox and Opera. */\n",
       "                border: none;\n",
       "                /* Needs to be in here for Safari polyfill so background images work as expected. */\n",
       "                background-size: auto;\n",
       "            }\n",
       "            .progress-bar-interrupted, .progress-bar-interrupted::-webkit-progress-bar {\n",
       "                background: #F44336;\n",
       "            }\n",
       "        </style>\n",
       "      <progress value='112' class='' max='112' style='width:300px; height:20px; vertical-align: middle;'></progress>\n",
       "      100.00% [112/112 00:11<00:00 logp = -100.89, ||grad|| = 0.0048868]\n",
       "    </div>\n",
       "    "
      ],
      "text/plain": [
       "<IPython.core.display.HTML object>"
      ]
     },
     "metadata": {},
     "output_type": "display_data"
    },
    {
     "name": "stdout",
     "output_type": "stream",
     "text": [
      "\n"
     ]
    }
   ],
   "source": [
    "(JG034 \n",
    " .invert_fluorophore('HEX')\n",
    " .normalize_reactions(cmax=cmax)\n",
    " .invert_fluorophore('HEX'))\n",
    "  \n",
    "JG034.reactions.neaten()\n",
    "JG034.extract_endpoints(cmax=cmax, name='FAM-HEX')\n",
    "\n",
    "ds = gmb.DataSet(JG034.endpoints, outputs=['FAM-HEX'])\n",
    "\n",
    "gp_34 = gmb.GP(ds).fit(\n",
    "    continuous_dims = ['lg10_Copies'],\n",
    "    # linear_dims = ['lg10_Copies'],\n",
    "    categorical_dims=['Target']\n",
    ")"
   ]
  },
  {
   "cell_type": "markdown",
   "metadata": {},
   "source": [
    "### Plot endpoint signal for config of interest "
   ]
  },
  {
   "cell_type": "code",
   "execution_count": 8,
   "metadata": {},
   "outputs": [],
   "source": [
    "ax = plt.subplots(1, 1, figsize = (width, height))[1]\n",
    "\n",
    "endpoints = JG034.endpoints\n",
    "\n",
    "this = endpoints[\n",
    "    (endpoints.Reporter=='FAM') &\n",
    "    (endpoints.Target.str.contains('GC55'))\n",
    "]\n",
    "\n",
    "x_var = 'lg10_Copies'\n",
    "hue = 'FAM-HEX'\n",
    "\n",
    "g = sns.scatterplot(data = this, x=x_var, y=hue, hue=hue, hue_norm=norm, palette=palette, \n",
    "                    estimator=None, s=spotsize, legend=False)\n",
    "\n",
    "limits = gp_34.parray(**{x_var: [2.0, 8.5]})\n",
    "X = gp_34.prepare_grid(limits=limits)[x_var]\n",
    "y = gp_34.predict_grid(with_noise=False, categorical_levels={'Target': 'GC55 - FAM'})\n",
    "\n",
    "pp = gmb.ParrayPlotter(x=X, y=y)\n",
    "pp.plot()\n",
    "\n",
    "# ax.axhline(0, lw=1, color='k')\n",
    "format_ax(ax, title='Direct', xlabel='')\n",
    "ax.set_ylim([-1.1, 1.1])\n",
    "ax.set_yticks([-1, -0.5, 0, 0.5, 1])\n",
    "\n",
    "plt.savefig(fig_pth / 'JG034 direct - endpoints.png', dpi=300, transparent=True);\n",
    "plt.savefig(fig_pth / 'JG034 direct - endpoints.svg', dpi=300, transparent=True);"
   ]
  },
  {
   "cell_type": "markdown",
   "metadata": {},
   "source": [
    "## JG071B: Indirect Module"
   ]
  },
  {
   "cell_type": "markdown",
   "metadata": {},
   "source": [
    "### Import Data"
   ]
  },
  {
   "cell_type": "code",
   "execution_count": 9,
   "metadata": {},
   "outputs": [],
   "source": [
    "db_file = data_pth / 'JG071B Reaction Specifications.json'\n",
    "rxn_db = TinyDB(db_file)\n",
    "rxns = pd.DataFrame([rxn['oligos'] | {'Sample': rxn['name']} for rxn in rxn_db.all()])"
   ]
  },
  {
   "cell_type": "code",
   "execution_count": 10,
   "metadata": {},
   "outputs": [],
   "source": [
    "cmax = 50\n",
    "\n",
    "file = data_pth / 'JG071B Tripartite sweep GBP6.xlsx'\n",
    "JG071B = (\n",
    "    QuantStudio(file, 'JG071B')\n",
    "    .import_data()\n",
    "    .format_reactions()\n",
    "    .index_reactions()\n",
    "    .subtract_background()\n",
    "    .normalize_reactions(cmax=cmax)  # , method='min-max')\n",
    "    .invert_fluorophore('HEX')\n",
    ")\n",
    "\n",
    "JG071B.reactions.data = JG071B.reactions.data.merge(rxns)\n",
    "for oligo in ['S036.5', 'S057.3.2', 'S057.4.2']:\n",
    "    JG071B.reactions.data['lg10 ' + oligo] = np.log10(JG071B.reactions.data[oligo])"
   ]
  },
  {
   "cell_type": "markdown",
   "metadata": {},
   "source": [
    "### Plot curves for config of interest "
   ]
  },
  {
   "cell_type": "code",
   "execution_count": 11,
   "metadata": {},
   "outputs": [],
   "source": [
    "ax = plt.subplots(1, 1, figsize = (width, height))[1]\n",
    "\n",
    "this = JG071B.reactions.data[\n",
    "    (JG071B.reactions.data['Cycle'] <= cmax) &\n",
    "    (JG071B.reactions.data['lg10 S036.5'] > 1) &\n",
    "    (JG071B.reactions.data['lg10 S057.3.2'] == 6.0) &\n",
    "    (JG071B.reactions.data['lg10 S057.4.2'] == 4.0)\n",
    "]\n",
    "\n",
    "hue = 'lg10 S036.5'\n",
    "\n",
    "g = sns.lineplot(data = this, x='Cycle', y='Fluorescence', hue=hue, \n",
    "                 palette='ch:0', units='Reaction', estimator=None, legend=False, \n",
    "                 lw=2)\n",
    "ax.axhline(0, lw=1, color='k')\n",
    "format_ax(ax, title='Indirect', xlabel='', ylabel=r'$\\leftarrow$ HEX    FAM $\\rightarrow$')\n",
    "\n",
    "ax.set_xticks(np.arange(0, cmax+1, 10))\n",
    "ax.set_yticks([-1, -0.5, 0, 0.5, 1]);\n",
    "ax.set_yticklabels([1.0, 0.5, 0.0, 0.5, 1.0]);\n",
    "\n",
    "plt.savefig(fig_pth / 'JG071B indirect - curves.png', dpi=300, transparent=True);\n",
    "plt.savefig(fig_pth / 'JG071B indirect - curves.svg', dpi=300, transparent=True);"
   ]
  },
  {
   "cell_type": "markdown",
   "metadata": {},
   "source": [
    "### Fit GP to whole dataset"
   ]
  },
  {
   "cell_type": "code",
   "execution_count": 12,
   "metadata": {},
   "outputs": [
    {
     "data": {
      "text/html": [
       "\n",
       "    <div>\n",
       "        <style>\n",
       "            /* Turns off some styling */\n",
       "            progress {\n",
       "                /* gets rid of default border in Firefox and Opera. */\n",
       "                border: none;\n",
       "                /* Needs to be in here for Safari polyfill so background images work as expected. */\n",
       "                background-size: auto;\n",
       "            }\n",
       "            .progress-bar-interrupted, .progress-bar-interrupted::-webkit-progress-bar {\n",
       "                background: #F44336;\n",
       "            }\n",
       "        </style>\n",
       "      <progress value='44' class='' max='44' style='width:300px; height:20px; vertical-align: middle;'></progress>\n",
       "      100.00% [44/44 00:06<00:00 logp = 168.46, ||grad|| = 0.037407]\n",
       "    </div>\n",
       "    "
      ],
      "text/plain": [
       "<IPython.core.display.HTML object>"
      ]
     },
     "metadata": {},
     "output_type": "display_data"
    },
    {
     "name": "stdout",
     "output_type": "stream",
     "text": [
      "\n"
     ]
    }
   ],
   "source": [
    "(JG071B \n",
    " .invert_fluorophore('HEX')\n",
    " .normalize_reactions(cmax=cmax)\n",
    " .invert_fluorophore('HEX'))\n",
    "  \n",
    "JG071B.reactions.neaten()\n",
    "JG071B.extract_endpoints(cmax=cmax, name='FAM-HEX')\n",
    "\n",
    "ds = gmb.DataSet(JG071B.endpoints, outputs=['FAM-HEX'])\n",
    "\n",
    "gp_71B = gmb.GP(ds).fit(continuous_dims = ['lg10 S036.5', 'lg10 S057.3.2', 'lg10 S057.4.2'],\n",
    "                        linear_dims = ['lg10 S036.5', 'lg10 S057.3.2', 'lg10 S057.4.2'])"
   ]
  },
  {
   "cell_type": "markdown",
   "metadata": {},
   "source": [
    "### Plot endpoint signal for config of interest "
   ]
  },
  {
   "cell_type": "code",
   "execution_count": 13,
   "metadata": {},
   "outputs": [],
   "source": [
    "ax = plt.subplots(1, 1, figsize = (width, height))[1]\n",
    "\n",
    "endpoints = JG071B.endpoints\n",
    "\n",
    "this = endpoints[\n",
    "    (endpoints.Reporter=='FAM') &\n",
    "    (endpoints['lg10 S036.5'] > 1) &\n",
    "    (endpoints['lg10 S057.3.2'] == 6.0) &\n",
    "    (endpoints['lg10 S057.4.2'] == 4.0)\n",
    "]\n",
    "\n",
    "hue='FAM-HEX'\n",
    "\n",
    "g = sns.scatterplot(data = this, x='lg10 S036.5', y=hue, hue=hue, hue_norm=norm, palette=palette, \n",
    "                    estimator=None, s=spotsize, legend=False, ax=ax)\n",
    "\n",
    "at = gp_71B.parray(**{'lg10 S057.3.2': 6.0, 'lg10 S057.4.2': 4.0})\n",
    "limits = gp_71B.parray(**{'lg10 S036.5': [2.0, 8.5]})\n",
    "X = gp_71B.prepare_grid(at=at, limits=limits)['lg10 S036.5']\n",
    "y = gp_71B.predict_grid(with_noise=False)\n",
    "\n",
    "pp = gmb.ParrayPlotter(x=X, y=y)\n",
    "pp.plot()\n",
    "\n",
    "format_ax(ax, title='Indirect', ylabel='FAM-HEX', xlabel='')\n",
    "# ax.set_yticks([-0.5, 0, 0.5])\n",
    "\n",
    "plt.savefig(fig_pth / 'JG071B indirect - endpoints.png', dpi=300, transparent=True);\n",
    "plt.savefig(fig_pth / 'JG071B indirect - endpoints.svg', dpi=300, transparent=True);"
   ]
  },
  {
   "cell_type": "markdown",
   "metadata": {},
   "source": [
    "## JG074C: Antiparallel Redundant Module"
   ]
  },
  {
   "cell_type": "markdown",
   "metadata": {},
   "source": [
    "### Import Data"
   ]
  },
  {
   "cell_type": "code",
   "execution_count": 14,
   "metadata": {},
   "outputs": [],
   "source": [
    "db_file = data_pth / 'JG074C Reaction Specifications.json'\n",
    "rxn_db = TinyDB(db_file)\n",
    "rxns = pd.DataFrame([rxn['oligos'] | {'Sample': rxn['name']} for rxn in rxn_db.all()])"
   ]
  },
  {
   "cell_type": "code",
   "execution_count": 15,
   "metadata": {},
   "outputs": [],
   "source": [
    "cmax = 50\n",
    "\n",
    "file = data_pth / 'JG074C_L2_500_competitor_sweep.xlsx'\n",
    "JG074C = (\n",
    "    QuantStudio(file, 'JG074C')\n",
    "    .import_data()\n",
    "    .format_reactions()\n",
    "    .index_reactions()\n",
    "    .subtract_background()\n",
    "    .normalize_reactions(cmax=cmax)  # , method='min-max')\n",
    "    .invert_fluorophore('HEX')\n",
    ")\n",
    "\n",
    "JG074C.reactions.data = JG074C.reactions.data.merge(rxns)\n",
    "for oligo in ['L2_500', 'S037.01.01b', 'S036.1b']:\n",
    "    JG074C.reactions.data['lg10 ' + oligo] = np.log10(JG074C.reactions.data[oligo])\n",
    "\n",
    "# One competitor was clearly missing from this mastermix\n",
    "JG074C.reactions.wide = JG074C.reactions.wide[~(\n",
    "    (JG074C.reactions.wide['lg10 S037.01.01b'] == 8.0) &\n",
    "    (JG074C.reactions.wide['lg10 S036.1b'] == 2.0)\n",
    ")]"
   ]
  },
  {
   "cell_type": "markdown",
   "metadata": {},
   "source": [
    "### Plot curves for config of interest "
   ]
  },
  {
   "cell_type": "code",
   "execution_count": 16,
   "metadata": {},
   "outputs": [],
   "source": [
    "ax = plt.subplots(1, 1, figsize = (width, height))[1]\n",
    "\n",
    "\n",
    "this = JG074C.reactions.data[\n",
    "    (JG074C.reactions.data['Cycle'] <= cmax) &\n",
    "#     (JG074C.reactions.data.Reporter=='FAM') &\n",
    "    (JG074C.reactions.data['lg10 S037.01.01b'] == 6.0) &\n",
    "    (JG074C.reactions.data['lg10 S036.1b'] == 2.0)\n",
    "]\n",
    "\n",
    "hue = 'lg10 L2_500'\n",
    "\n",
    "g = sns.lineplot(data = this, x='Cycle', y='Fluorescence', hue=hue, palette='ch:0', \n",
    "                 units='Reaction', estimator=None, legend=False, lw=2)\n",
    "ax.axhline(0, lw=1, color='k')\n",
    "format_ax(ax, title='Antiparallel', xlabel='', ylabel=r'$\\leftarrow$ HEX    FAM $\\rightarrow$')\n",
    "\n",
    "ax.set_xticks(np.arange(0, cmax+1, 10))\n",
    "ax.set_yticks([-1, -0.5, 0, 0.5, 1]);\n",
    "ax.set_yticklabels([1.0, 0.5, 0.0, 0.5, 1.0]);\n",
    "\n",
    "plt.savefig(fig_pth / 'JG074C antiparallel redundant - curves.png', dpi=300, transparent=True);\n",
    "plt.savefig(fig_pth / 'JG074C antiparallel redundant - curves.svg', dpi=300, transparent=True);"
   ]
  },
  {
   "cell_type": "markdown",
   "metadata": {},
   "source": [
    "### Fit GP to whole dataset"
   ]
  },
  {
   "cell_type": "code",
   "execution_count": 17,
   "metadata": {},
   "outputs": [
    {
     "data": {
      "text/html": [
       "\n",
       "    <div>\n",
       "        <style>\n",
       "            /* Turns off some styling */\n",
       "            progress {\n",
       "                /* gets rid of default border in Firefox and Opera. */\n",
       "                border: none;\n",
       "                /* Needs to be in here for Safari polyfill so background images work as expected. */\n",
       "                background-size: auto;\n",
       "            }\n",
       "            .progress-bar-interrupted, .progress-bar-interrupted::-webkit-progress-bar {\n",
       "                background: #F44336;\n",
       "            }\n",
       "        </style>\n",
       "      <progress value='18' class='' max='18' style='width:300px; height:20px; vertical-align: middle;'></progress>\n",
       "      100.00% [18/18 00:02<00:00 logp = 146.3, ||grad|| = 39.631]\n",
       "    </div>\n",
       "    "
      ],
      "text/plain": [
       "<IPython.core.display.HTML object>"
      ]
     },
     "metadata": {},
     "output_type": "display_data"
    },
    {
     "name": "stdout",
     "output_type": "stream",
     "text": [
      "\n"
     ]
    }
   ],
   "source": [
    "(JG074C    \n",
    " .invert_fluorophore('HEX')\n",
    " .normalize_reactions(cmax=cmax, method='min-max')\n",
    " .invert_fluorophore('HEX'))\n",
    "JG074C.reactions.neaten()\n",
    "JG074C.extract_endpoints(cmax=cmax, method='bipolar', name='FAM-HEX')\n",
    "\n",
    "ds = gmb.DataSet(JG074C.endpoints, outputs=['FAM-HEX'])\n",
    "\n",
    "gp_74C = gmb.GP(ds).fit(continuous_dims = ['lg10 L2_500', 'lg10 S037.01.01b', 'lg10 S036.1b'])"
   ]
  },
  {
   "cell_type": "markdown",
   "metadata": {},
   "source": [
    "### Plot endpoint signal for config of interest "
   ]
  },
  {
   "cell_type": "code",
   "execution_count": 18,
   "metadata": {},
   "outputs": [],
   "source": [
    "hue = 'FAM-HEX'\n",
    "norm = mpl.colors.Normalize(vmin=-1, vmax=+1)"
   ]
  },
  {
   "cell_type": "code",
   "execution_count": 19,
   "metadata": {},
   "outputs": [],
   "source": [
    "ax = plt.subplots(1, 1, figsize = (width, height))[1]\n",
    "\n",
    "this = JG074C.endpoints[\n",
    "    (JG074C.endpoints.Reporter=='FAM') &\n",
    "#     (JG074C.endpoints['lg10 L2_500'] > 1) &\n",
    "    (JG074C.endpoints['lg10 S037.01.01b'] == 6.0) &\n",
    "    (JG074C.endpoints['lg10 S036.1b'] == 2.0)\n",
    "]\n",
    "\n",
    "hue = 'FAM-HEX'\n",
    "\n",
    "g = sns.scatterplot(data = this, x='lg10 L2_500', y=hue, \n",
    "                    hue=hue, palette=palette, hue_norm=norm,\n",
    "                    estimator=None, s=spotsize, \n",
    "                    legend=False)\n",
    "\n",
    "\n",
    "at = gp_74C.parray(**{'lg10 S037.01.01b': 6.0, 'lg10 S036.1b': 2.0})\n",
    "limits = gp_74C.parray(**{'lg10 L2_500': [0, 8.5]})\n",
    "X = gp_74C.prepare_grid(at=at, limits=limits)['lg10 L2_500']\n",
    "y = gp_74C.predict_grid(with_noise=False)\n",
    "\n",
    "pp = gmb.ParrayPlotter(x=X, y=y)\n",
    "pp.plot()\n",
    "\n",
    "format_ax(ax, title='Antiparallel', ylabel='FAM-HEX', xlabel='')\n",
    "# ax.set_yticks([0, 0.5, 1])\n",
    "\n",
    "plt.savefig(fig_pth / 'JG074C antiparallel redundant - endpoints.png', dpi=300, transparent=True)\n",
    "plt.savefig(fig_pth / 'JG074C antiparallel redundant - endpoints.svg', dpi=300, transparent=True)\n",
    "\n",
    "# can.utils.savefig('JG074C parallel redundant - endpoints')\n"
   ]
  },
  {
   "cell_type": "markdown",
   "metadata": {},
   "source": [
    "## JG074D: Parallel Redundant Module"
   ]
  },
  {
   "cell_type": "markdown",
   "metadata": {},
   "source": [
    "### Import Data"
   ]
  },
  {
   "cell_type": "code",
   "execution_count": 20,
   "metadata": {},
   "outputs": [],
   "source": [
    "db_file = data_pth / 'JG074D Reaction Specifications.json'\n",
    "rxn_db = TinyDB(db_file)\n",
    "rxns = pd.DataFrame([rxn['oligos'] | {'Sample': rxn['name']} for rxn in rxn_db.all()])"
   ]
  },
  {
   "cell_type": "code",
   "execution_count": 21,
   "metadata": {},
   "outputs": [],
   "source": [
    "cmax = 50\n",
    "\n",
    "file = data_pth / 'JG074D_L2_500_like_competitor_sweep.xlsx'\n",
    "JG074D = (\n",
    "    QuantStudio(file, 'JG074D')\n",
    "    .import_data()\n",
    "    .format_reactions()\n",
    "    .index_reactions()\n",
    "    .subtract_background()\n",
    "    .normalize_reactions(cmax=cmax)\n",
    "    .invert_fluorophore('HEX')\n",
    ")\n",
    "\n",
    "JG074D.reactions.data = JG074D.reactions.data.merge(rxns)\n",
    "for oligo in ['L2_500_like', 'S037.01.01b', 'S036.0']:\n",
    "    JG074D.reactions.data['lg10 ' + oligo] = np.log10(JG074D.reactions.data[oligo])"
   ]
  },
  {
   "cell_type": "markdown",
   "metadata": {},
   "source": [
    "### Plot curves for config of interest "
   ]
  },
  {
   "cell_type": "code",
   "execution_count": 22,
   "metadata": {},
   "outputs": [],
   "source": [
    "ax = plt.subplots(1, 1, figsize = (width, height))[1]\n",
    "\n",
    "this = JG074D.reactions.data[\n",
    "    (JG074D.reactions.data['Cycle'] <= cmax) &\n",
    "#     (JG074D.reactions.data.Reporter=='FAM') &\n",
    "    (JG074D.reactions.data['lg10 S037.01.01b'] == 8.0) &\n",
    "    (JG074D.reactions.data['lg10 S036.0'] ==2.0)\n",
    "]\n",
    "\n",
    "hue = 'lg10 L2_500_like'\n",
    "\n",
    "g = sns.lineplot(data = this, x='Cycle', y='Fluorescence', hue=hue, palette='ch:0',\n",
    "                 units='Reaction', estimator=None, legend=False, lw=2)\n",
    "plt.gca().axhline(0, lw=1, color='k')\n",
    "\n",
    "format_ax(ax, title='Parallel', xlabel='Cycle', ylabel=r'$\\leftarrow$ HEX    FAM $\\rightarrow$')\n",
    "\n",
    "ax.set_xticks(np.arange(0, cmax+1, 10))\n",
    "ax.set_yticks([-1, -0.5, 0, 0.5, 1]);\n",
    "ax.set_yticklabels([1.0, 0.5, 0.0, 0.5, 1.0]);\n",
    "\n",
    "plt.savefig(fig_pth / 'JG074C parallel redundant - curves.png', dpi=300, transparent=True);\n",
    "plt.savefig(fig_pth / 'JG074C parallel redundant - curves.svg', dpi=300, transparent=True);"
   ]
  },
  {
   "cell_type": "markdown",
   "metadata": {},
   "source": [
    "### Fit GP to whole dataset"
   ]
  },
  {
   "cell_type": "code",
   "execution_count": 23,
   "metadata": {},
   "outputs": [
    {
     "data": {
      "text/html": [
       "\n",
       "    <div>\n",
       "        <style>\n",
       "            /* Turns off some styling */\n",
       "            progress {\n",
       "                /* gets rid of default border in Firefox and Opera. */\n",
       "                border: none;\n",
       "                /* Needs to be in here for Safari polyfill so background images work as expected. */\n",
       "                background-size: auto;\n",
       "            }\n",
       "            .progress-bar-interrupted, .progress-bar-interrupted::-webkit-progress-bar {\n",
       "                background: #F44336;\n",
       "            }\n",
       "        </style>\n",
       "      <progress value='26' class='' max='26' style='width:300px; height:20px; vertical-align: middle;'></progress>\n",
       "      100.00% [26/26 00:04<00:00 logp = 407.6, ||grad|| = 3.4578]\n",
       "    </div>\n",
       "    "
      ],
      "text/plain": [
       "<IPython.core.display.HTML object>"
      ]
     },
     "metadata": {},
     "output_type": "display_data"
    },
    {
     "name": "stdout",
     "output_type": "stream",
     "text": [
      "\n"
     ]
    }
   ],
   "source": [
    "(JG074D \n",
    " .invert_fluorophore('HEX')\n",
    " .normalize_reactions(cmax=cmax, method='min-max')\n",
    " .invert_fluorophore('HEX'))\n",
    "  \n",
    "JG074D.reactions.neaten()\n",
    "JG074D.extract_endpoints(cmax=cmax, method='bipolar', name='FAM-HEX')\n",
    "\n",
    "ds = gmb.DataSet(JG074D.endpoints, outputs=['FAM-HEX'])\n",
    "\n",
    "gp_74D = gmb.GP(ds).fit(continuous_dims = ['lg10 L2_500_like', 'lg10 S037.01.01b', 'lg10 S036.0'])"
   ]
  },
  {
   "cell_type": "markdown",
   "metadata": {},
   "source": [
    "### Plot endpoint signal for config of interest "
   ]
  },
  {
   "cell_type": "code",
   "execution_count": 24,
   "metadata": {},
   "outputs": [],
   "source": [
    "ax = plt.subplots(1, 1, figsize = (width, height))[1]\n",
    "\n",
    "this = JG074D.endpoints[\n",
    "    (JG074D.endpoints.Reporter=='FAM') &\n",
    "#     (JG074D.endpoints['lg10 L2_500_like'] > 1) &\n",
    "    (JG074D.endpoints['lg10 S037.01.01b'] == 8.0) &\n",
    "    (JG074D.endpoints['lg10 S036.0'] ==2.0)\n",
    "]\n",
    "\n",
    "hue = 'FAM-HEX'\n",
    "\n",
    "g = sns.scatterplot(data = this, x='lg10 L2_500_like', y=hue, \n",
    "                    hue=hue, hue_norm=norm, palette=palette, estimator=None, \n",
    "                    s=spotsize, legend=False)\n",
    "\n",
    "at = gp_74D.parray(**{'lg10 S037.01.01b': 8.0, 'lg10 S036.0': 2.0})\n",
    "limits = gp_74D.parray(**{'lg10 L2_500_like': [0, 8.5]})\n",
    "X = gp_74D.prepare_grid(at=at, limits=limits)['lg10 L2_500_like']\n",
    "y = gp_74D.predict_grid(with_noise=False)\n",
    "\n",
    "pp = gmb.ParrayPlotter(x=X, y=y)\n",
    "pp.plot()\n",
    "\n",
    "format_ax(ax, title='Parallel', ylabel='FAM-HEX')\n",
    "# ax.set_yticks([-0.5, 0, 0.5, 1])\n",
    "\n",
    "plt.savefig(fig_pth / 'JG074C parallel redundant - endpoints.png', dpi=300, transparent=True)\n",
    "plt.savefig(fig_pth / 'JG074C parallel redundant - endpoints.svg', dpi=300, transparent=True)\n",
    "\n",
    "# plt.ylim([-1.1, 1.1]);"
   ]
  },
  {
   "cell_type": "code",
   "execution_count": null,
   "metadata": {},
   "outputs": [],
   "source": []
  }
 ],
 "metadata": {
  "kernelspec": {
   "display_name": "Python 3.10.6 ('candas')",
   "language": "python",
   "name": "python3"
  },
  "language_info": {
   "codemirror_mode": {
    "name": "ipython",
    "version": 3
   },
   "file_extension": ".py",
   "mimetype": "text/x-python",
   "name": "python",
   "nbconvert_exporter": "python",
   "pygments_lexer": "ipython3",
   "version": "3.10.6"
  },
  "orig_nbformat": 4,
  "vscode": {
   "interpreter": {
    "hash": "e723923f3ce7942ed7997078cee6e56c51bbc1fd61d76e9913b97f174c1ae87c"
   }
  }
 },
 "nbformat": 4,
 "nbformat_minor": 2
}
