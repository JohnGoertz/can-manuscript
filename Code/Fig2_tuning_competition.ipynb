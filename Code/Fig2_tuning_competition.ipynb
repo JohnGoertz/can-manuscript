{
 "cells": [
  {
   "cell_type": "code",
   "execution_count": 6,
   "metadata": {},
   "outputs": [],
   "source": [
    "import candas as can\n",
    "import numpy as np\n",
    "import pandas as pd\n",
    "from matplotlib.colors import Normalize\n",
    "import matplotlib.pyplot as plt\n",
    "import seaborn as sns\n",
    "\n",
    "from candas.test import FluorescenceData, QuantStudio\n",
    "from candas.learn import Analyst, Standardizer, ParameterSet\n",
    "from candas.lims import Librarian\n",
    "\n",
    "base_pth, code_pth, data_pth, _, fig_pth = can.utils.setup_paths(make_missing=False)\n",
    "plt.style.use('style.mplstyle')\n",
    "\n",
    "%config InlineBackend.figure_format = 'retina'"
   ]
  },
  {
   "cell_type": "code",
   "execution_count": 160,
   "metadata": {},
   "outputs": [],
   "source": [
    "width = 3.65\n",
    "height = 0.829\n",
    "figsize = (width, height)\n",
    "ticklabelsize = 6\n",
    "labelsize = 6\n",
    "spotsize = 6**2\n",
    "xticks = [2,4,6,8]\n",
    "\n",
    "mar_l = 0.275\n",
    "mar_r = 0.04\n",
    "mar_t = 0.04\n",
    "mar_b = 0.27"
   ]
  },
  {
   "cell_type": "code",
   "execution_count": 161,
   "metadata": {},
   "outputs": [],
   "source": [
    "def format_sns_axes(g):\n",
    "    fig = g.figure\n",
    "    fig.set_size_inches(figsize)\n",
    "\n",
    "    plt.setp(\n",
    "        g.axes,\n",
    "        ylim=[-1.1, 1.1],\n",
    "        xticks=xticks,\n",
    "        xlim=[1, 9],\n",
    "        xlabel=\"\",\n",
    "        xticklabels=\"\",\n",
    "        title=\"\",\n",
    "    )\n",
    "    for i, ax in enumerate(g.axes.flat):\n",
    "        ax.tick_params(axis=\"both\", labelsize=ticklabelsize, length=1.5, width=0.6)\n",
    "        ax.set_ylabel(ax.get_ylabel(), fontsize=labelsize, labelpad=0)\n",
    "        ax.set_xlabel(ax.get_xlabel(), fontsize=labelsize, labelpad=2)\n",
    "        if i > 0:\n",
    "            ax.yaxis.set_tick_params(length=0)\n",
    "        ax.axhline(0, color=\"k\", linestyle=\"-\", linewidth=0.5, zorder=-1)\n",
    "\n",
    "    plt.subplots_adjust(\n",
    "        left=mar_l / width,\n",
    "        right=1 - mar_r / width,\n",
    "        top=1 - mar_t / height,\n",
    "        bottom=mar_b / height,\n",
    "    )"
   ]
  },
  {
   "cell_type": "code",
   "execution_count": 159,
   "metadata": {},
   "outputs": [
    {
     "name": "stdout",
     "output_type": "stream",
     "text": [
      "0.27375\n",
      "0.26942499999999997\n",
      "0.03650000000000003\n",
      "0.041450000000000035\n"
     ]
    }
   ],
   "source": [
    "print(0.075*width)\n",
    "print(0.325*height)\n",
    "print((1-0.99)*width)\n",
    "print((1-0.95)*height)"
   ]
  },
  {
   "cell_type": "code",
   "execution_count": 85,
   "metadata": {},
   "outputs": [
    {
     "name": "stdout",
     "output_type": "stream",
     "text": [
      "Processing JG063A\n",
      "Processing JG063B\n",
      "Processing JG063I\n",
      "Processing JG034\n"
     ]
    }
   ],
   "source": [
    "cmax=40\n",
    "\n",
    "JG063A = QuantStudio(data_pth / 'JG063A Competitor Concentration Sweep.xlsx', 'JG063A')\n",
    "JG063B = QuantStudio(data_pth / 'JG063B Competitor Concentration sweep 2.xlsx', 'JG063B')\n",
    "JG063I = QuantStudio(data_pth / 'JG063I Primer Probe Sweep 5 logs.xlsx', 'JG063I')\n",
    "JG034 = QuantStudio(data_pth / 'JG034 TMCC1 Gen2 Competitors - 59C v3.xlsx', 'JG034')\n",
    "\n",
    "for qs in [JG063A, JG063B, JG063I, JG034]:\n",
    "    print(f'Processing {qs.experiment}')\n",
    "    (qs\n",
    "        .import_data()\n",
    "        .format_reactions()\n",
    "        .index_reactions()\n",
    "        .subtract_background()\n",
    "    )\n",
    "    \n",
    "    qs.reactions.data.drop(qs.reactions.data.index[qs.reactions.data.Well==281], inplace=True)\n",
    "    \n",
    "    (qs\n",
    "        .normalize_reactions(cmax=cmax, method='max')\n",
    "        .invert_fluorophore('HEX')\n",
    "    )\n",
    "    \n",
    "    if qs.experiment=='JG063I':\n",
    "        primerprobe = (qs.reactions.data.Sample\n",
    "               .str.split(' ', expand=True)[0]\n",
    "               .str.split('+', expand=True)\n",
    "               .rename(columns={0:'Primer nM', 1:'Probe nM'})\n",
    "              )\n",
    "\n",
    "        qs.reactions.data = qs.reactions.data.merge(primerprobe, left_index=True, right_index=True)\n",
    "    elif qs.experiment=='JG034':\n",
    "        qs.reactions.data.Target = qs.reactions.data.Target.str.split(' - ').map(lambda row: row[0])\n",
    "\n",
    "    # Denote competitor and WT concentration in each well\n",
    "    syn_copies = qs.reactions.wide.query('Reporter==\"HEX\"')[['Well','lg10_Copies']].rename(columns={'lg10_Copies': 'SYN_Copies'})\n",
    "    wt_copies = qs.reactions.wide.query('Reporter==\"FAM\"')[['Well','lg10_Copies']].rename(columns={'lg10_Copies': 'WT_Copies'})\n",
    "    qs.reactions.data = (\n",
    "        qs.reactions.data\n",
    "        .merge(syn_copies, on='Well')\n",
    "        .merge(wt_copies, on='Well')\n",
    "    )\n",
    "    \n",
    "    if qs.experiment in ['JG063A', 'JG063B']:\n",
    "        qs.reactions.data = qs.reactions.data.assign(Target = qs.reactions.data.Sample)\n",
    "\n",
    "    qs.reactions.neaten()\n",
    "    qs.extract_endpoints(cmax=cmax, name='FAM-HEX', method='diff')"
   ]
  },
  {
   "cell_type": "code",
   "execution_count": 14,
   "metadata": {},
   "outputs": [],
   "source": [
    "norm = Normalize(vmin=-1, vmax=+1)"
   ]
  },
  {
   "cell_type": "code",
   "execution_count": 100,
   "metadata": {},
   "outputs": [
    {
     "data": {
      "text/plain": [
       "array([[<AxesSubplot:ylabel='FAM-HEX'>, <AxesSubplot:>, <AxesSubplot:>,\n",
       "        <AxesSubplot:>, <AxesSubplot:>]], dtype=object)"
      ]
     },
     "execution_count": 100,
     "metadata": {},
     "output_type": "execute_result"
    }
   ],
   "source": [
    "g.axes"
   ]
  },
  {
   "cell_type": "code",
   "execution_count": 162,
   "metadata": {},
   "outputs": [
    {
     "data": {
      "image/png": "[encoded data removed]",
      "text/plain": [
       "<Figure size 262.8x59.688 with 5 Axes>"
      ]
     },
     "metadata": {
      "image/png": {
       "height": 72,
       "width": 269
      },
      "needs_background": "light"
     },
     "output_type": "display_data"
    }
   ],
   "source": [
    "this = JG063I.endpoints[\n",
    "    (JG063I.endpoints['Probe nM'] == '200') &\n",
    "    (JG063I.endpoints['WT_Copies'] > 1)\n",
    "]\n",
    "\n",
    "g = sns.relplot(data = this,\n",
    "                x='WT_Copies', y='FAM-HEX', col = 'Primer nM', units='Reaction', hue = 'FAM-HEX',\n",
    "                legend = False, palette = 'coolwarm', hue_norm = norm, kind='scatter', estimator=None,\n",
    "                s=spotsize,\n",
    "                facet_kws={\n",
    "                    'margin_titles': True,\n",
    "                    'despine': False})\n",
    "\n",
    "format_sns_axes(g)\n",
    "\n",
    "for ax in g.axes.flat:\n",
    "    ax.set_xticklabels(xticks)\n",
    "    ax.set_xlabel('log$_{10}$ Copies', fontsize=labelsize, labelpad=2)\n",
    "    \n",
    "plt.savefig(fig_pth / 'JG063 primer conc.png', dpi=600, transparent=True);"
   ]
  },
  {
   "cell_type": "code",
   "execution_count": 163,
   "metadata": {},
   "outputs": [
    {
     "data": {
      "image/png": "[encoded data removed]",
      "text/plain": [
       "<Figure size 262.8x59.688 with 5 Axes>"
      ]
     },
     "metadata": {
      "image/png": {
       "height": 53,
       "width": 269
      },
      "needs_background": "light"
     },
     "output_type": "display_data"
    }
   ],
   "source": [
    "from copy import copy\n",
    "\n",
    "JG063A_lim = copy(JG063A)\n",
    "\n",
    "JG063A_lim.reactions.data = JG063A_lim.reactions.data[JG063A_lim.reactions.data['Sample'] == \"S056.4.2_vs_S056.4.12\"]\n",
    "\n",
    "(JG063A_lim\n",
    "    .invert_fluorophore('HEX')\n",
    "    .normalize_reactions(cmax=cmax, method='min-max')\n",
    "    .invert_fluorophore('HEX')\n",
    "    .extract_endpoints(cmax=cmax, name='FAM-HEX', method='bipolar')\n",
    "    )\n",
    "\n",
    "this = JG063A_lim.endpoints[\n",
    "    (JG063A_lim.endpoints['Sample'] == \"S056.4.2_vs_S056.4.12\") &\n",
    "    (JG063A_lim.endpoints['WT_Copies'] > 1)\n",
    "]\n",
    "\n",
    "g = sns.relplot(data = this,\n",
    "                x='lg10_Copies', y='FAM-HEX', row='Sample', col = 'SYN_Copies', units='Reaction', hue = 'FAM-HEX',\n",
    "                legend = False, palette = 'coolwarm', hue_norm = norm, \n",
    "                kind='scatter', estimator=None, s=spotsize,\n",
    "                facet_kws={\n",
    "                    'margin_titles': False,\n",
    "                    'despine': False})\n",
    "\n",
    "format_sns_axes(g)\n",
    "\n",
    "plt.savefig(fig_pth / 'JG063 SYN conc.png', dpi=600, transparent=True);"
   ]
  },
  {
   "cell_type": "code",
   "execution_count": 164,
   "metadata": {},
   "outputs": [
    {
     "data": {
      "image/png": "[encoded data removed]",
      "text/plain": [
       "<Figure size 262.8x59.688 with 5 Axes>"
      ]
     },
     "metadata": {
      "image/png": {
       "height": 53,
       "width": 269
      },
      "needs_background": "light"
     },
     "output_type": "display_data"
    }
   ],
   "source": [
    "targets = ['S056.4.3', 'S056.4.1', 'GC55', 'S056.4.4', 'GC15']\n",
    "\n",
    "endpoints = pd.concat([\n",
    "    (JG063A.endpoints[((JG063A.endpoints.SYN_Copies==5) & (JG063A.endpoints.Sample=='S056.4.2_vs_S056.4.12')) |\n",
    "                      ((JG063A.endpoints.SYN_Copies==5) & (JG063A.endpoints.Sample=='S056.4.4_vs_S056.4.12'))]\n",
    "     .assign(Target = lambda df: df.Target.str.split('_').str[0])\n",
    "     ),\n",
    "    (JG063B.endpoints[((JG063B.endpoints.SYN_Copies==4) & (JG063B.endpoints.Sample=='S056.4.1_vs_S056.4.12')) | \n",
    "                      ((JG063B.endpoints.SYN_Copies==6) & (JG063B.endpoints.Sample=='S056.4.3_vs_S056.4.12'))]\n",
    "     .assign(Target = lambda df: df.Target.str.split('_').str[0])\n",
    "     ), \n",
    "    JG034.endpoints\n",
    "])\n",
    "\n",
    "endpoints = endpoints[\n",
    "    endpoints['Target'].isin(targets) &\n",
    "    (endpoints['WT_Copies'] > 1)\n",
    "]\n",
    "\n",
    "for target in targets:\n",
    "    this_data = endpoints['Target'] == target\n",
    "    mn = endpoints.loc[this_data, 'FAM-HEX'].min()\n",
    "    mx = endpoints.loc[this_data, 'FAM-HEX'].max()\n",
    "    endpoints.loc[this_data, 'FAM-HEX'] = (endpoints.loc[this_data, 'FAM-HEX'] - mn) / (mx - mn) *2 - 1\n",
    "\n",
    "\n",
    "g = sns.relplot(data = endpoints,\n",
    "                x='WT_Copies', y='FAM-HEX', col = 'Target', col_order=targets,\n",
    "                units='Reaction', hue = 'FAM-HEX', palette = 'coolwarm',\n",
    "                legend = False, kind='scatter', estimator=None, s=spotsize,\n",
    "                facet_kws={\n",
    "                    'margin_titles': False,\n",
    "                    'despine': False})\n",
    "    \n",
    "format_sns_axes(g)\n",
    "\n",
    "plt.savefig(fig_pth / 'JG063 seq design.png', dpi=600, transparent=True);"
   ]
  },
  {
   "cell_type": "code",
   "execution_count": null,
   "metadata": {},
   "outputs": [],
   "source": []
  }
 ],
 "metadata": {
  "language_info": {
   "name": "python"
  },
  "orig_nbformat": 4
 },
 "nbformat": 4,
 "nbformat_minor": 2
}
