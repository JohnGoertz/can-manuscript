{
 "cells": [
  {
   "cell_type": "code",
   "execution_count": 2,
   "metadata": {},
   "outputs": [
    {
     "name": "stderr",
     "output_type": "stream",
     "text": [
      "WARNING (theano.tensor.blas): Using NumPy C-API based implementation for BLAS functions.\n"
     ]
    }
   ],
   "source": [
    "import numpy as np\n",
    "import pandas as pd\n",
    "import matplotlib as mpl\n",
    "mpl.use('Cairo')  # for saving SVGs that Affinity Designer can parse\n",
    "import matplotlib.pyplot as plt\n",
    "import seaborn as sns\n",
    "import cloudpickle as pkl\n",
    "\n",
    "import candas as can\n",
    "import gumbi as gmb\n",
    "from candas.test import FluorescenceData, QuantStudio\n",
    "\n",
    "from sklearn.metrics import confusion_matrix\n",
    "from scipy.integrate import trapz\n",
    "\n",
    "import benchmarking as bench\n",
    "\n",
    "base_pth, code_pth, data_pth, _, fig_pth = can.utils.setup_paths(make_missing=False)\n",
    "plt.style.use('style.mplstyle')\n",
    "\n",
    "%config InlineBackend.figure_format = 'retina'"
   ]
  },
  {
   "cell_type": "markdown",
   "metadata": {},
   "source": [
    "# Experimental Results"
   ]
  },
  {
   "cell_type": "code",
   "execution_count": 3,
   "metadata": {},
   "outputs": [],
   "source": [
    "endpoints = pd.read_csv(data_pth / 'JG073N Endpoints.csv').rename(columns={'SignalDifference': 'FAM-HEX'})\n",
    "\n",
    "ng1_endpoints = endpoints[\n",
    "    (endpoints[\"IFI44L Copies\"] > 0) &\n",
    "    (endpoints[\"EMRI Copies\"] > 0) &\n",
    "    (endpoints[\"Material\"] == \"RNA\") &\n",
    "    (endpoints[\"ng RNA\"] == 1)\n",
    "]\n",
    "\n",
    "patients_100ng = pd.read_csv(data_pth / 'JG073 Processed patient data.csv')\n",
    "patients_1ng = (\n",
    "    patients_100ng\n",
    "    .drop(columns=['FAM89A'])\n",
    "    .assign(\n",
    "        EMRI = patients_100ng.EMRI - 2,\n",
    "        IFI44L = patients_100ng.IFI44L - 2\n",
    "        )\n",
    "    )\n"
   ]
  },
  {
   "cell_type": "code",
   "execution_count": 4,
   "metadata": {},
   "outputs": [
    {
     "data": {
      "text/html": [
       "\n",
       "    <div>\n",
       "        <style>\n",
       "            /* Turns off some styling */\n",
       "            progress {\n",
       "                /* gets rid of default border in Firefox and Opera. */\n",
       "                border: none;\n",
       "                /* Needs to be in here for Safari polyfill so background images work as expected. */\n",
       "                background-size: auto;\n",
       "            }\n",
       "            .progress-bar-interrupted, .progress-bar-interrupted::-webkit-progress-bar {\n",
       "                background: #F44336;\n",
       "            }\n",
       "        </style>\n",
       "      <progress value='38' class='' max='38' style='width:300px; height:20px; vertical-align: middle;'></progress>\n",
       "      100.00% [38/38 00:01<00:00 logp = 21.694, ||grad|| = 0.0066561]\n",
       "    </div>\n",
       "    "
      ],
      "text/plain": [
       "<IPython.core.display.HTML object>"
      ]
     },
     "metadata": {},
     "output_type": "display_data"
    },
    {
     "name": "stdout",
     "output_type": "stream",
     "text": [
      "\n"
     ]
    }
   ],
   "source": [
    "ng1_ds = gmb.DataSet(ng1_endpoints, outputs=['FAM-HEX'])\n",
    "ng1_gp = gmb.GP(ng1_ds).fit(\n",
    "    continuous_dims = ['EMRI Copies', 'IFI44L Copies'],\n",
    "    linear_dims = ['EMRI Copies', 'IFI44L Copies']\n",
    ")"
   ]
  },
  {
   "cell_type": "code",
   "execution_count": 5,
   "metadata": {},
   "outputs": [],
   "source": [
    "import importlib as il\n",
    "il.reload(bench)\n",
    "\n",
    "obj = bench.Objective(ng1_gp, ng1_ds, patients_1ng, 2, data_pth / \"JG073 Logistic Regression Scores.csv\")\n",
    "obj.set_limits(pad=0)\n",
    "obj.predict()\n",
    "obj.optimize_scale_shift(show=False)\n",
    "obj.set_limits(pad=0.1)\n",
    "obj.predict()\n",
    "obj.score_patients()\n",
    "obj.build_roc();"
   ]
  },
  {
   "cell_type": "code",
   "execution_count": 6,
   "metadata": {},
   "outputs": [],
   "source": [
    "LR_roc = []\n",
    "scores = obj.LR_Scores[\"LR_Score_m\"]\n",
    "dxs = obj.LR_Scores[\"Diagnosis\"]\n",
    "thresholds = np.hstack(\n",
    "    [scores.min() - 1, sorted(scores.values), scores.max() + 1]\n",
    ")\n",
    "for thresh in thresholds:\n",
    "    tn, fp, fn, tp = confusion_matrix(dxs == \"Viral\", scores <= thresh).ravel()\n",
    "    tpr = tp / (tp + fn)\n",
    "    fpr = fp / (fp + tn)\n",
    "    LR_roc.append([tpr, fpr])\n",
    "    \n",
    "LR_auroc = trapz(np.array(LR_roc)[:, 0], np.array(LR_roc)[:, 1])"
   ]
  },
  {
   "cell_type": "code",
   "execution_count": 7,
   "metadata": {},
   "outputs": [],
   "source": [
    "width = 1.725\n",
    "height = 1.75\n",
    "figsize = (width, height)\n",
    "ticklabelsize = 6\n",
    "labelsize = 6\n",
    "\n",
    "mar_l = 0.4\n",
    "mar_r = 0.05\n",
    "mar_t = 0.05\n",
    "mar_b = 0.35\n",
    "\n",
    "def format_fig(fig, figsize=figsize, mar_l=mar_l, mar_r=mar_r, mar_t=mar_t, mar_b=mar_b, **kwargs):\n",
    "    \"\"\"Adjust margins of subplots using figsize\"\"\"\n",
    "    height, width = figsize\n",
    "    fig.set_size_inches(figsize)\n",
    "    \n",
    "    plt.subplots_adjust(\n",
    "        left=mar_l / width,\n",
    "        right=1 - mar_r / width,\n",
    "        top=1 - mar_t / height,\n",
    "        bottom=mar_b / height,\n",
    "        **kwargs\n",
    "    )\n",
    "    \n",
    "    for ax in fig.get_axes():\n",
    "        ax.tick_params(which='both', length=1.5, width=0.6, labelsize=8)"
   ]
  },
  {
   "cell_type": "code",
   "execution_count": 14,
   "metadata": {},
   "outputs": [],
   "source": [
    "fig, ax = plt.subplots(1, 1, figsize=figsize)\n",
    "obj.set_limits(pad=0.1)\n",
    "obj.predict()\n",
    "pp = gmb.ParrayPlotter(x=obj.IFI44L_grid, y=obj.EMRI_grid, z=(obj.sig + 3*obj.vshift) / obj.scale)\n",
    "pp(plt.contourf, cmap=obj.cmap, norm=mpl.colors.CenteredNorm(), zorder=-10)\n",
    "cbar = pp.colorbar(ax=ax)#, ticks=[-1, -0.5, 0, 0.5, 1])\n",
    "pp(plt.contour, levels=0, colors=\"k\", norm=mpl.colors.CenteredNorm(), zorder=-5)\n",
    "cbar.set_label(\"FAM-HEX\", fontsize=8)\n",
    "cbar.set_label(\"\")\n",
    "cbar.ax.tick_params(labelsize=8)\n",
    "obj.plot_observations(ax=ax, s=6**2)\n",
    "obj.plot_patients(ax=ax, s=4**2)\n",
    "ax.set_xticks([1,2,3,4,5,6])\n",
    "format_fig(fig, mar_l=0.325, mar_r=0.075)\n",
    "plt.savefig(fig_pth / 'JG073N predictions.png', dpi=600, transparent=True);\n",
    "plt.savefig(fig_pth / 'JG073N predictions.svg', dpi=600, transparent=True);\n",
    "\n",
    "fig, ax = plt.subplots(1, 1, figsize=figsize)\n",
    "LR_color = '#2F193B'\n",
    "CAN_color = '#A02A59'\n",
    "# Plot LR_roc\n",
    "tpr_values, fpr_values = zip(*LR_roc)\n",
    "ax.plot(fpr_values, tpr_values, color = LR_color)\n",
    "ax.set_ylabel(\"Sensitivity\")\n",
    "ax.set_xlabel(\"1-Specificity\")\n",
    "format_fig(fig, mar_l=0.5)\n",
    "\n",
    "obj.plot_roc(ax=ax, color=CAN_color)\n",
    "obj.roc['m'] = np.array(obj.roc['m'])\n",
    "xl, yl = ax.get_xlim(), ax.get_ylim()\n",
    "\n",
    "xy=(np.diff(xl)*0.95+xl[0], np.diff(yl)*0.25+yl[0])\n",
    "ax.annotate('AUROC', xy=xy, ha='right', color = 'k')\n",
    "\n",
    "xy=(np.diff(xl)*0.95+xl[0], np.diff(yl)*0.15+yl[0])\n",
    "ax.annotate(f'LR: {LR_auroc:0.3f}', xy=xy, ha='right', color = LR_color)\n",
    "\n",
    "xy=(np.diff(xl)*0.95+xl[0], np.diff(yl)*0.05+yl[0])\n",
    "ax.annotate(f'Assay: {obj.auroc(\"m\"):0.3f}', xy=xy, ha='right', color=CAN_color)\n",
    "plt.savefig(fig_pth / 'JG073N ROC.png', dpi=600, transparent=True);\n",
    "plt.savefig(fig_pth / 'JG073N ROC.svg', dpi=600, transparent=True);\n",
    "\n",
    "fig, ax = plt.subplots(1, 1, figsize=figsize)\n",
    "obj.plot_comparison(ax=ax, scatter_kws={'s': 6**2}, line_kws={'alpha':0.25, 'zorder':-1})\n",
    "xl, yl = ax.get_xlim(), ax.get_ylim()\n",
    "xy=(np.diff(xl)*0.95+xl[0], np.diff(yl)*0.05+yl[0])\n",
    "ax.annotate(f'$R^2$: {obj.reg.rvalue**2:0.3f}', xy=xy, ha='right')\n",
    "format_fig(fig)\n",
    "plt.savefig(fig_pth / 'JG073N comparison.png', dpi=600, transparent=True);\n",
    "plt.savefig(fig_pth / 'JG073N comparison.svg', dpi=600, transparent=True);"
   ]
  },
  {
   "cell_type": "markdown",
   "metadata": {},
   "source": [
    "# Logistic Regression"
   ]
  },
  {
   "cell_type": "code",
   "execution_count": 9,
   "metadata": {},
   "outputs": [],
   "source": [
    "LR_rslt_file = data_pth / 'JG073 Bayesian Logistic Regression Results.pkl'\n",
    "\n",
    "with open(LR_rslt_file,'rb') as buff:\n",
    "    LR_results = pkl.load(buff)\n",
    "\n",
    "lg10_Copies = LR_results['data']\n",
    "summary = LR_results['summary']\n",
    "per_gene_posterior_predictive = LR_results['per_gene_posterior_predictive']\n",
    "per_gene_posterior_summary_stats = LR_results['per_gene_posterior_summary_stats']\n",
    "per_gene_lines = LR_results['per_gene_lines']\n",
    "\n",
    "genes = list(per_gene_posterior_predictive.keys())"
   ]
  },
  {
   "cell_type": "code",
   "execution_count": 10,
   "metadata": {},
   "outputs": [],
   "source": [
    "from scipy.special import logit, expit"
   ]
  },
  {
   "cell_type": "code",
   "execution_count": 11,
   "metadata": {},
   "outputs": [],
   "source": [
    "logit_max=5\n",
    "space = 'log odds'\n",
    "figsize = (18, 4)\n",
    "n_c = 100\n",
    "copies = np.linspace(3, 7, n_c)\n",
    "\n",
    "mar_l = 0.475\n",
    "mar_r = 0.05\n",
    "mar_t = 0.05\n",
    "mar_b = 0.45\n",
    "\n",
    "ymax = logit_max\n",
    "yax1_ticks = np.arange(-(ymax), (ymax)+0.1, 2.5)  # log-odds\n",
    "yax1_ticks = [-4, -2, 0, 2, 4]  # log-odds\n",
    "yax2_pts = np.array([0.0001, 0.001, 0.01, 0.1, 0.5, 0.9, 0.99, 0.999, 0.9999])  # probabilities\n",
    "yax2_ticks = logit(yax2_pts)\n",
    "ylim = [-ymax, ymax]\n",
    "yax1_label = ''  # 'Conditional\\nLog Odds Dx'\n",
    "yax2_label = ''  # 'Conditional\\nProbability of Dx'\n",
    "hline = 0\n",
    "\n",
    "ax2s = []\n",
    "\n",
    "fig, axs = plt.subplots(2, 1, figsize=figsize, sharex=True, sharey=True)\n",
    "for i,g in enumerate(genes):\n",
    "    ax = axs[i]\n",
    "    ax.axhline(hline, color = 'k', zorder=0)\n",
    "\n",
    "    plt.setp(ax,\n",
    "                # title  = g,\n",
    "                yticks = yax1_ticks,\n",
    "                ylim   = ylim,\n",
    "                xticks = np.arange(copies.min(), copies.max()+1),\n",
    "                xlim   = [copies[0]-(copies[-1]-copies[0])*0.05,copies[-1]+(copies[-1]-copies[0])*0.05],\n",
    "            );\n",
    "    ax.set_title(g, fontname='BreveSansText-Light', fontsize=10, pad=2)\n",
    "\n",
    "    ax.set_ylabel(yax1_label)\n",
    "\n",
    "    # For clarity, include a second yaxis that shows the marginal probability rather than log-odds\n",
    "    ax2 = ax.twinx()\n",
    "    ax2s.append(ax2)\n",
    "    plt.setp(ax2,\n",
    "                yticks = yax2_ticks,\n",
    "                yticklabels = yax2_pts,\n",
    "            )\n",
    "    ax2.set_ylim(ax.get_ylim())\n",
    "    ax2.set_ylabel(yax2_label,\n",
    "                    rotation = -90,\n",
    "                    verticalalignment='bottom')\n",
    "    \n",
    "# Plot patient data\n",
    "for i,g in enumerate(genes):\n",
    "    ax = axs[i]\n",
    "    x = lg10_Copies[g]\n",
    "    y = (lg10_Copies.Bacterial*2-1)*(ymax-0.5)\n",
    "        \n",
    "    ax.plot(x, y, ls='none', marker='o', mfc='k', mec='none', ms=4, alpha=0.2)\n",
    "    \n",
    "for i,g in enumerate(genes):\n",
    "    post = per_gene_posterior_predictive[g]\n",
    "        \n",
    "    lim = (copies>lg10_Copies[g].min()) & (copies<lg10_Copies[g].max())\n",
    "        \n",
    "    l,m,u = [np.percentile(post, p, axis=1) for p in [2.5, 50, 97.5]]\n",
    "    axs[i].fill_between(copies[lim], l[lim], u[lim], alpha=0.2, facecolor=f'C{i}')\n",
    "    axs[i].plot(copies[lim], m[lim], color=f'C{i}')\n",
    "    axs[i].plot(copies[lim], post[lim,:30], alpha=0.1, color=f'C{i}')\n",
    "    \n",
    "axs[-1].set_xlabel('log$_{10}$ Copies', labelpad=0)\n",
    "\n",
    "fig.text(0.06, 0.55, 'Log-Odds Bacterial', ha='center', va='center', rotation='vertical')\n",
    "fig.text(0.975, 0.55, 'Probability Bacterial', ha='right', va='center', rotation=270)\n",
    "    \n",
    "# plt.tight_layout()\n",
    "format_fig(fig, mar_l=0.35, mar_r=0.5, mar_t=0.2, hspace=0.5)\n",
    "plt.savefig(fig_pth / 'JG073N patient data.png', dpi=600, transparent=True);"
   ]
  },
  {
   "cell_type": "code",
   "execution_count": null,
   "metadata": {},
   "outputs": [],
   "source": []
  }
 ],
 "metadata": {
  "kernelspec": {
   "display_name": "Python 3.9.12 ('candas')",
   "language": "python",
   "name": "python3"
  },
  "language_info": {
   "codemirror_mode": {
    "name": "ipython",
    "version": 3
   },
   "file_extension": ".py",
   "mimetype": "text/x-python",
   "name": "python",
   "nbconvert_exporter": "python",
   "pygments_lexer": "ipython3",
   "version": "3.9.12"
  },
  "orig_nbformat": 4,
  "vscode": {
   "interpreter": {
    "hash": "d6cbb17527266c7c5b40ead181af5e9bd97ce6f258101128281f1b4584f0878e"
   }
  }
 },
 "nbformat": 4,
 "nbformat_minor": 2
}
