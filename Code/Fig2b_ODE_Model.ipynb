{
 "cells": [
  {
   "cell_type": "code",
   "execution_count": 1,
   "metadata": {},
   "outputs": [
    {
     "name": "stderr",
     "output_type": "stream",
     "text": [
      "WARNING (theano.tensor.blas): Using NumPy C-API based implementation for BLAS functions.\n"
     ]
    }
   ],
   "source": [
    "import numpy as np\n",
    "import pandas as pd\n",
    "import matplotlib as mpl\n",
    "mpl.use('Cairo')  # for saving SVGs that Affinity Designer can parse\n",
    "import matplotlib.pyplot as plt\n",
    "import seaborn as sns\n",
    "import dill\n",
    "\n",
    "import candas as can\n",
    "import gumbi as gmb\n",
    "\n",
    "base_pth, code_pth, data_pth, rslt_pth, fig_pth = can.utils.setup_paths(make_missing=False)\n",
    "plt.style.use(str(can.style.breve))\n",
    "\n",
    "%config InlineBackend.figure_format = 'retina'"
   ]
  },
  {
   "cell_type": "code",
   "execution_count": 2,
   "metadata": {},
   "outputs": [
    {
     "name": "stderr",
     "output_type": "stream",
     "text": [
      "WARNING:absl:No GPU/TPU found, falling back to CPU. (Set TF_CPP_MIN_LOG_LEVEL=0 and rerun for more info.)\n"
     ]
    }
   ],
   "source": [
    "target = np.array([[-1,+1]])\n",
    "competitor = np.array([[-1,+1]])\n",
    "\n",
    "positive_labels = np.array([[1,0,0,0],[0,0,1,0]])\n",
    "\n",
    "rxn = can.models.CAN(target, competitor, positive_labels, INT_names=['WT'], EXT_names=['REF'], label_names=['H','F'])\n",
    "\n",
    "rxn.n_cycles=39\n",
    "rxn.compile()"
   ]
  },
  {
   "cell_type": "code",
   "execution_count": 3,
   "metadata": {},
   "outputs": [
    {
     "data": {
      "text/plain": [
       "0.7343"
      ]
     },
     "execution_count": 3,
     "metadata": {},
     "output_type": "execute_result"
    }
   ],
   "source": [
    "probe_ests = pd.read_pickle(data_pth / 'JG047 Reaction Parameters.pkl')\n",
    "probe_ests.query('Gene==\"TMCC1\" & Parameter==\"r\" & Tar==\"BP88_GC55\"').groupby('Tar')['mean'].mean()[0]"
   ]
  },
  {
   "cell_type": "code",
   "execution_count": 4,
   "metadata": {},
   "outputs": [
    {
     "data": {
      "text/plain": [
       "39"
      ]
     },
     "execution_count": 4,
     "metadata": {},
     "output_type": "execute_result"
    }
   ],
   "source": [
    "rxn.n_cycles"
   ]
  },
  {
   "cell_type": "code",
   "execution_count": 5,
   "metadata": {},
   "outputs": [],
   "source": [
    "def plot_simulations(ax=None, palette='coolwarm_r', **kwargs):\n",
    "    ax = plt.gca() if ax is None else ax\n",
    "    \n",
    "    WT_rate = probe_ests.query('Gene==\"TMCC1\" & Parameter==\"r\" & Tar==\"BP88_GC43_WT\"')['mean'].mean()\n",
    "    WT_m = probe_ests.query('Gene==\"TMCC1\" & Parameter==\"m\" & Tar==\"BP88_GC43_WT\"')['mean'].mean()\n",
    "\n",
    "    WT_K = probe_ests.query('Gene==\"TMCC1\" & Parameter==\"K\" & Tar==\"BP88_GC43_WT\"').reset_index().set_index('Tar_Q')['mean']\n",
    "    WT_F0_lg = probe_ests.query('Gene==\"TMCC1\" & Parameter==\"F0_lg\" & Tar==\"BP88_GC43_WT\"').reset_index().set_index('Tar_Q')['mean']\n",
    "    lg_Q = WT_F0_lg-np.log10(WT_K)-(7+5-np.log10(6.022e23)+0.5)\n",
    "    WT_lg_Q = np.poly1d(np.polyfit(lg_Q.reset_index().Tar_Q,lg_Q.reset_index()['mean'],1))\n",
    "\n",
    "    rxn.n_cycles=39\n",
    "    c = np.arange(1,41)\n",
    "    rxn.oligo('WT').rate = WT_rate\n",
    "    copies = np.arange(2,9)\n",
    "    palette = sns.color_palette(palette, len(copies))\n",
    "    norm = rxn.norm.copies\n",
    "\n",
    "    rs = probe_ests.query('Gene==\"TMCC1\" & Parameter==\"r\" & Tar==\"BP88_GC55\"').groupby('Tar')['mean'].mean()\n",
    "    ms = probe_ests.query('Gene==\"TMCC1\" & Parameter==\"m\" & Tar==\"BP88_GC55\"').groupby('Tar')['mean'].mean()\n",
    "\n",
    "    t = 0\n",
    "    \n",
    "    tar = 'BP88_GC55'\n",
    "    rxn.oligo('REF').rate = rs[tar]\n",
    "    K = probe_ests.query('Gene==\"TMCC1\" & Parameter==\"K\" & Tar==@tar & Tar_Q==5').reset_index().set_index('Tar_Q')['mean']\n",
    "    F0_lg = probe_ests.query('Gene==\"TMCC1\" & Parameter==\"F0_lg\" & Tar==@tar & Tar_Q==5').reset_index().set_index('Tar_Q')['mean']\n",
    "    lg_Q = (F0_lg-np.log10(K)).mean()-(7+5-np.log10(6.022e23))\n",
    "    rxn.oligo('REF').copies = 10**lg_Q\n",
    "\n",
    "    m = ms[t]\n",
    "    for strand, drift in zip(rxn.strands, [WT_m,WT_m,m,m]):\n",
    "        strand.drift = drift\n",
    "        \n",
    "    rxn.oligo('WT').copies = 10**WT_lg_Q(8)\n",
    "    solution = rxn.solve()[:40,-2:]/norm\n",
    "    norm *= solution[-1, 0]\n",
    "\n",
    "    for i,WT_copies in enumerate(copies):\n",
    "        rxn.oligo('WT').copies = 10**WT_lg_Q(WT_copies)\n",
    "        solution = rxn.solve()[:40,-2:]/norm\n",
    "        for j in range(2):\n",
    "            mult = [+1,-1][j]\n",
    "            if (j == 1):\n",
    "                ax.plot(rxn.cycles+1, mult*solution[:,j], color=palette[i], label=WT_copies-5, **kwargs)\n",
    "                #ax.legend(loc='center left')\n",
    "            else:\n",
    "                ax.plot(rxn.cycles+1, mult*solution[:,j], color=palette[i], **kwargs)\n",
    "                "
   ]
  },
  {
   "cell_type": "code",
   "execution_count": 6,
   "metadata": {},
   "outputs": [],
   "source": [
    "cmax = 40\n",
    "\n",
    "file = data_pth / 'JG034 TMCC1 Gen2 Competitors - 59C v3.xlsx'\n",
    "\n",
    "JG034 = (\n",
    "    can.test.QuantStudio(file, 'JG034')\n",
    "    .import_data()\n",
    "    .format_reactions()\n",
    "    .index_reactions()\n",
    "    .subtract_background()\n",
    "    .normalize_reactions(cmax=cmax)\n",
    "    .invert_fluorophore('HEX')\n",
    ")\n",
    "\n",
    "data = (JG034.reactions.data\n",
    "        [(JG034.reactions.data['Cycle'] <= cmax) &\n",
    "         (JG034.reactions.data.Target.str.contains('GC55'))]\n",
    "        .groupby(['lg10_Copies', 'Target','Cycle'])\n",
    "        [['Fluorescence','Reaction']]\n",
    "        .first()\n",
    "        .reset_index()\n",
    "        )"
   ]
  },
  {
   "cell_type": "code",
   "execution_count": 7,
   "metadata": {},
   "outputs": [],
   "source": [
    "def plot_data(ax=None, **kwargs):\n",
    "    ax = plt.gca() if ax is None else ax\n",
    "\n",
    "    sns.lineplot(\n",
    "        data=data,\n",
    "        x=\"Cycle\",\n",
    "        y=\"Fluorescence\",\n",
    "        units=\"Reaction\",\n",
    "        estimator=None,\n",
    "        hue=\"lg10_Copies\",\n",
    "        palette=\"ch:0\",\n",
    "        legend=False,\n",
    "        ax=ax,\n",
    "        **kwargs\n",
    "    )"
   ]
  },
  {
   "cell_type": "code",
   "execution_count": 14,
   "metadata": {},
   "outputs": [],
   "source": [
    "width = 3.45\n",
    "height = 1.65\n",
    "figsize=(width, height)\n",
    "spotsize=8**2\n",
    "linewidth=2\n",
    "ticklabelsize=8\n",
    "labelsize=10\n",
    "titlesize=labelsize+2\n",
    "\n",
    "fig, axs = plt.subplots(1, 2, figsize = (width, height), sharex=True, sharey=True)\n",
    "\n",
    "plot_data(ax=axs[0], linewidth=linewidth)\n",
    "plot_simulations(ax=axs[1], linewidth=linewidth, palette='ch:0')\n",
    "\n",
    "for ax in axs:\n",
    "    ax.axhline(0, color='k', linewidth=1)\n",
    "    ax.set_xlabel('Cycle', fontsize=labelsize)\n",
    "    ax.set_xticks([0,10,20,30,40])\n",
    "    ax.set_xlim([0, 41])\n",
    "    ax.set_ylim([-1.1,1.1])\n",
    "    ax.set_yticks([-1.0, -0.5, 0.0, 0.5, 1.0])\n",
    "    ax.set_yticklabels([1.0, 0.5, 0.0, 0.5, 1.0])\n",
    "    ax.tick_params(axis=\"both\", labelsize=ticklabelsize)\n",
    "    plt.setp(ax.spines.values(), linewidth=1)\n",
    "    \n",
    "axs[0].set_ylabel(r'$\\leftarrow$ HEX    FAM $\\rightarrow$', fontsize=labelsize);\n",
    "axs[0].set_title('Experiment', fontsize=titlesize)\n",
    "axs[1].set_title('Model', fontsize=titlesize)\n",
    "\n",
    "mar_l=0.56\n",
    "mar_r=0.17\n",
    "mar_t=0.22\n",
    "mar_b=0.48\n",
    "\n",
    "plt.subplots_adjust(\n",
    "    left=mar_l / width,\n",
    "    right=1 - mar_r / width,\n",
    "    top=1 - mar_t / height,\n",
    "    bottom=mar_b / height,\n",
    ")\n",
    "\n",
    "plt.savefig(fig_pth / 'JG050 data vs model.png', dpi=300, transparent=True);\n",
    "plt.savefig(fig_pth / 'JG050 data vs model.svg', dpi=300, transparent=True);"
   ]
  },
  {
   "cell_type": "code",
   "execution_count": null,
   "metadata": {},
   "outputs": [],
   "source": []
  }
 ],
 "metadata": {
  "kernelspec": {
   "display_name": "Python 3.9.12 ('candas')",
   "language": "python",
   "name": "python3"
  },
  "language_info": {
   "codemirror_mode": {
    "name": "ipython",
    "version": 3
   },
   "file_extension": ".py",
   "mimetype": "text/x-python",
   "name": "python",
   "nbconvert_exporter": "python",
   "pygments_lexer": "ipython3",
   "version": "3.9.12"
  },
  "orig_nbformat": 4,
  "vscode": {
   "interpreter": {
    "hash": "d6cbb17527266c7c5b40ead181af5e9bd97ce6f258101128281f1b4584f0878e"
   }
  }
 },
 "nbformat": 4,
 "nbformat_minor": 2
}
