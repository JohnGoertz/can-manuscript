{
 "cells": [
  {
   "cell_type": "code",
   "execution_count": 1,
   "metadata": {},
   "outputs": [
    {
     "name": "stderr",
     "output_type": "stream",
     "text": [
      "WARNING (theano.tensor.blas): Using NumPy C-API based implementation for BLAS functions.\n"
     ]
    }
   ],
   "source": [
    "import numpy as np\n",
    "import pandas as pd\n",
    "import matplotlib as mpl\n",
    "mpl.use('Cairo')  # for saving SVGs that Affinity Designer can parse\n",
    "import matplotlib.pyplot as plt\n",
    "import seaborn as sns\n",
    "import dill\n",
    "\n",
    "from candas.utils import setup_paths\n",
    "from candas.style import breve\n",
    "from candas.learn import ParameterSet\n",
    "import gumbi as gmb\n",
    "\n",
    "base_pth, code_pth, data_pth, rslt_pth, fig_pth = setup_paths(make_missing=False)\n",
    "plt.style.use(str(breve))\n",
    "\n",
    "%config InlineBackend.figure_format = 'retina'"
   ]
  },
  {
   "cell_type": "code",
   "execution_count": 2,
   "metadata": {},
   "outputs": [],
   "source": [
    "ps = ParameterSet.load(data_pth / 'ADVI_ParameterSets_220528.pkl')\n",
    "def make_pair(row):\n",
    "    return '-'.join(sorted([row.FPrimer, row.RPrimer]))\n",
    "\n",
    "data = (ps.wide\n",
    "        .query('Metric == \"mean\"')\n",
    "        .astype({'BP': float})\n",
    "        .assign(PrimerPair = lambda df: df.apply(make_pair, axis=1))\n",
    "        .groupby(['Target', 'PrimerPair','Reporter'])\n",
    "        .mean()\n",
    "        .reset_index()\n",
    "        )\n",
    "\n",
    "ds = gmb.DataSet(\n",
    "    data = data,\n",
    "    outputs = ['F0_lg', 'r', 'K', 'm'],\n",
    "    log_vars = ['BP', 'K', 'm', 'r'],\n",
    "    logit_vars = ['GC'],\n",
    "    )\n",
    "\n",
    "selected = (data\n",
    " .groupby(['PrimerPair', 'Reporter'])\n",
    " .size()\n",
    " .reset_index()\n",
    " .rename(columns={0:'Observations'})\n",
    " .sort_values('Observations', ascending=False)\n",
    " .reset_index(drop=True)\n",
    ").iloc[[0, 1, 4, 5, 6, 8, 38, 39, 42]]"
   ]
  },
  {
   "cell_type": "code",
   "execution_count": 3,
   "metadata": {},
   "outputs": [],
   "source": [
    "with open(rslt_pth / 'Model_LMC_predictions.pkl', 'rb') as f:\n",
    "    predictions_dict = dill.load(f)\n",
    "    \n",
    "all_r = [predictions_dict[f'r{i}'] for i in range(9)]\n",
    "BP = predictions_dict['BP']\n",
    "GC = predictions_dict['GC']\n",
    "\n",
    "limits = BP.parray(GC=[0.2, 0.8], BP=[10, 600])"
   ]
  },
  {
   "cell_type": "code",
   "execution_count": 4,
   "metadata": {},
   "outputs": [],
   "source": [
    "width = 3.45\n",
    "height = 3.31\n",
    "figsize=(width, height)\n",
    "spotsize=1\n",
    "linewidth=2\n",
    "ticklabelsize=8\n",
    "labelsize=10\n",
    "titlesize=labelsize+2\n",
    "\n",
    "# Set rcParams for plotting\n",
    "mpl.rc('xtick', labelsize=ticklabelsize)\n",
    "mpl.rc('ytick', labelsize=ticklabelsize)\n",
    "mpl.rc('axes', labelsize=labelsize, titlesize=titlesize, linewidth=1)\n",
    "\n",
    "fig, axs = plt.subplots(3, 3, figsize=figsize, sharey=True, sharex=True)\n",
    "\n",
    "reporter = 'HEX'\n",
    "\n",
    "rnorm = mpl.colors.Normalize(vmin=0.23, vmax=1.03)\n",
    "\n",
    "for i, (r, ax, row) in enumerate(zip(all_r, axs.flat, selected.itertuples())):\n",
    "    \n",
    "    plt.sca(ax)\n",
    "    pp = gmb.ParrayPlotter(x=GC, y=BP, z=r, \n",
    "                        #    x_scale='standardized',\n",
    "                           y_scale='standardized'\n",
    "                           )\n",
    "\n",
    "    step = 0.05\n",
    "    levels=np.arange(np.floor(rnorm.vmin/step), np.ceil(rnorm.vmax/step)+1)*step\n",
    "    cs = pp(plt.contourf, levels=levels, cmap='flare_r', norm=rnorm)\n",
    "    # pp.colorbar(cs)\n",
    "\n",
    "    yticks = BP.parray(BP=[10, 30, 100, 300])\n",
    "    ax.set_yticks(yticks['BP'].z.values())\n",
    "    ax.set_yticklabels(map(int, yticks.values()))\n",
    "    \n",
    "    if i%3 != 0:\n",
    "        ax.set_ylabel('')\n",
    "    if i//3 != 2:\n",
    "        ax.set_xlabel('')\n",
    "\n",
    "    gc = (ds.wide\n",
    "          .query('Reporter == @row.Reporter and PrimerPair == @row.PrimerPair')\n",
    "          .GC\n",
    "         )\n",
    "    bp = (ds.wide.z\n",
    "          .query('Reporter == @row.Reporter and PrimerPair == @row.PrimerPair')\n",
    "          .BP\n",
    "         )\n",
    "\n",
    "    ax.scatter(gc, bp, c='0.5', cmap='flare_r', norm=rnorm, s=spotsize)\n",
    "\n",
    "    ax.set_xlim([0.2, 0.8])\n",
    "\n",
    "    cs = ax.contour(GC.values(), BP.z.values(), r.σ, levels=[0.05, 0.10, 0.15, 0.20, 0.25],\n",
    "                    colors='0.2', linestyles='--', linewidths=1)\n",
    "    ax.clabel(cs, fontsize=ticklabelsize);\n",
    "    \n",
    "\n",
    "mar_l=0.56\n",
    "mar_r=0.17\n",
    "mar_t=0.22\n",
    "mar_b=0.48\n",
    "\n",
    "plt.subplots_adjust(\n",
    "    left=mar_l / width,\n",
    "    right=1 - mar_r / width,\n",
    "    top=1 - mar_t / height,\n",
    "    bottom=mar_b / height,\n",
    ")\n",
    "\n",
    "plt.savefig(fig_pth / 'Fig2d LMC r model.png', dpi=300, transparent=True);\n",
    "plt.savefig(fig_pth / 'Fig2d LMC r model.svg', dpi=300, transparent=True);\n",
    "    "
   ]
  }
 ],
 "metadata": {
  "kernelspec": {
   "display_name": "Python 3.9.12 ('candas')",
   "language": "python",
   "name": "python3"
  },
  "language_info": {
   "codemirror_mode": {
    "name": "ipython",
    "version": 3
   },
   "file_extension": ".py",
   "mimetype": "text/x-python",
   "name": "python",
   "nbconvert_exporter": "python",
   "pygments_lexer": "ipython3",
   "version": "3.9.12"
  },
  "orig_nbformat": 4,
  "vscode": {
   "interpreter": {
    "hash": "d6cbb17527266c7c5b40ead181af5e9bd97ce6f258101128281f1b4584f0878e"
   }
  }
 },
 "nbformat": 4,
 "nbformat_minor": 2
}
