{
 "cells": [
  {
   "cell_type": "code",
   "execution_count": 1,
   "metadata": {},
   "outputs": [
    {
     "name": "stderr",
     "output_type": "stream",
     "text": [
      "WARNING (theano.tensor.blas): Using NumPy C-API based implementation for BLAS functions.\n"
     ]
    }
   ],
   "source": [
    "import candas as can\n",
    "import numpy as np\n",
    "import pandas as pd\n",
    "from matplotlib.colors import Normalize\n",
    "import matplotlib as mpl\n",
    "mpl.use('Cairo')  # for saving SVGs that Affinity Designer can parse\n",
    "import matplotlib.pyplot as plt\n",
    "import seaborn as sns\n",
    "\n",
    "from candas.test import QuantStudio\n",
    "from candas.learn import ParameterSet\n",
    "from candas.lims import Librarian, library\n",
    "\n",
    "base_pth, code_pth, data_pth, _, fig_pth = can.utils.setup_paths(make_missing=False)\n",
    "plt.style.use('style.mplstyle')\n",
    "\n",
    "%config InlineBackend.figure_format = 'retina'"
   ]
  },
  {
   "cell_type": "code",
   "execution_count": 2,
   "metadata": {},
   "outputs": [],
   "source": [
    "from tinydb import TinyDB, Query\n",
    "db_file = base_pth / 'Data' / 'JG071B Reaction Specifications.json'\n",
    "rxn_db = TinyDB(db_file)\n",
    "JG071B_rxns = pd.DataFrame([rxn['oligos'] | {'Sample': rxn['name']} for rxn in rxn_db.all()])\n",
    "\n",
    "lib = Librarian().load(library).open()"
   ]
  },
  {
   "cell_type": "code",
   "execution_count": 3,
   "metadata": {},
   "outputs": [
    {
     "data": {
      "text/plain": [
       "<candas.test.import_QuantStudio.QuantStudio at 0x7f67c4730520>"
      ]
     },
     "execution_count": 3,
     "metadata": {},
     "output_type": "execute_result"
    }
   ],
   "source": [
    "cmax=50\n",
    "\n",
    "file = data_pth / 'JG071B Tripartite sweep GBP6.xlsx'\n",
    "JG071B = (\n",
    "    QuantStudio(file, 'JG071B')\n",
    "    .import_data()\n",
    "    .format_reactions()\n",
    "    .index_reactions()\n",
    "    .subtract_background()\n",
    "    .drop(lambda df: df['Well'].isin([54, 281]))\n",
    "    .normalize_reactions(cmax=cmax, method='max')\n",
    "    .invert_fluorophore('HEX')\n",
    ")\n",
    "\n",
    "JG071B.reactions.data = JG071B.reactions.data.merge(JG071B_rxns)\n",
    "for oligo in ['S036.5', 'S057.3.2', 'S057.4.2']:\n",
    "    JG071B.reactions.data['lg10 ' + oligo] = np.log10(JG071B.reactions.data[oligo])\n",
    "    \n",
    "JG071B.extract_endpoints(cmax=cmax, name='FAM-HEX', method='diff')\n"
   ]
  },
  {
   "cell_type": "code",
   "execution_count": 4,
   "metadata": {},
   "outputs": [],
   "source": [
    "width = 3.65\n",
    "height = 2.187\n",
    "figsize = (width, height)\n",
    "spotsize = 4**2\n",
    "ticklabelsize = 6\n",
    "labelsize = 6\n",
    "linewidth = 1\n",
    "\n",
    "mar_l = 0.325\n",
    "mar_r = 0.22\n",
    "mar_t = 0.22\n",
    "mar_b = 0.275\n",
    "ax_space = 0.075\n",
    "\n",
    "def format_sns_axes(g, xticks, xlim, ylim=None):\n",
    "    fig = g.figure\n",
    "    fig.set_size_inches(figsize)\n",
    "    \n",
    "    # g.set_titles('')\n",
    "\n",
    "    ylim = ylim or [-1.1, 1.1]\n",
    "\n",
    "    plt.setp(\n",
    "        g.axes,\n",
    "        ylim=ylim,\n",
    "        xticks=xticks,\n",
    "        xlim=xlim,\n",
    "        # xlabel=\"\",\n",
    "        # xticklabels=\"\",\n",
    "        title=\"\",\n",
    "    )\n",
    "    for i, ax in enumerate(g.axes.flat):\n",
    "        ax.tick_params(axis=\"both\", labelsize=ticklabelsize, length=1, width=0.6)\n",
    "        ax.set_ylabel(ax.get_ylabel(), fontsize=labelsize, labelpad=0)\n",
    "        ax.set_xlabel(ax.get_xlabel(), fontsize=labelsize, labelpad=2)\n",
    "        if i > 0:\n",
    "            ax.yaxis.set_tick_params(length=0)\n",
    "        ax.axhline(0, color=\"k\", linestyle=\"-\", linewidth=0.5, zorder=-1)\n",
    "\n",
    "\n",
    "    for (row, col), ax in g.axes_dict.items():\n",
    "        ax.set_title('')\n",
    "            \n",
    "        if col==8.0:\n",
    "            ax2 = ax.twinx()\n",
    "            ax2.set_yticks([])\n",
    "            ax2.set_ylabel(f'{row:.1f}', va='bottom', fontsize=labelsize, rotation=270, labelpad=1)\n",
    "            if row==5.0:\n",
    "                ax2.set_ylabel(f'lg10 Copies Competitor 2\\n{row:.1f}', va='bottom', fontsize=labelsize, rotation=270, labelpad=1)\n",
    "        \n",
    "        if row==8.0:\n",
    "            ax.set_title(f'{col:.1f}', fontsize=labelsize, pad=2)\n",
    "            if col==5.0:\n",
    "                ax.set_title(f'lg10 Copies Competitor 1\\n{col:.1f}', fontsize=labelsize, pad=2)\n",
    "\n",
    "\n",
    "    bbox = ax.get_window_extent().transformed(ax.figure.dpi_scale_trans.inverted())\n",
    "    ax_width, ax_height = bbox.width, bbox.height\n",
    "\n",
    "    plt.subplots_adjust(\n",
    "        left=mar_l / width,\n",
    "        right=1 - mar_r / width,\n",
    "        top=1 - mar_t / height,\n",
    "        bottom=mar_b / height,\n",
    "        wspace=ax_space/ax_width,\n",
    "        hspace=ax_space/ax_height,\n",
    "    )"
   ]
  },
  {
   "cell_type": "code",
   "execution_count": 5,
   "metadata": {},
   "outputs": [],
   "source": [
    "hue = 'lg10 S036.5'\n",
    "extent = np.max(np.abs(JG071B.reactions.wide[hue]))\n",
    "norm = mpl.colors.Normalize(vmin=JG071B.reactions.wide[hue].min(), vmax=JG071B.reactions.wide[hue].max())\n",
    "\n",
    "g = sns.relplot(data = JG071B.reactions.data.query('Cycle<=@cmax'),\n",
    "                x='Cycle', y='Fluorescence', col='lg10 S057.3.2', row='lg10 S057.4.2', units='Reaction', hue = hue,\n",
    "                legend = False, palette='ch:0_r', hue_norm=norm, kind='line', estimator=None, linewidth=linewidth,\n",
    "                row_order = JG071B.reactions.data['lg10 S057.4.2'].unique()[::-1],\n",
    "                facet_kws={\n",
    "                    'margin_titles': False,\n",
    "                    'despine': False})\n",
    "\n",
    "g.refline(y=0, color='k', linestyle='-', linewidth=0.5)\n",
    "format_sns_axes(g, xticks=[0, 10, 20, 30, 40, 50], xlim=[-2.5, 52.5])\n",
    "\n",
    "plt.savefig(fig_pth / 'JG071B GBP6 Tripartite Curves.png', dpi=300, transparent=True);\n",
    "plt.savefig(fig_pth / 'JG071B GBP6 Tripartite Curves.svg', dpi=300, transparent=True);"
   ]
  },
  {
   "cell_type": "code",
   "execution_count": 6,
   "metadata": {},
   "outputs": [],
   "source": [
    "endpoints = JG071B.endpoints\n",
    "\n",
    "hue = 'FAM-HEX'\n",
    "extent = np.max(np.abs(endpoints[hue]))\n",
    "norm = mpl.colors.Normalize(vmin=-extent, vmax=+extent)\n",
    "\n",
    "g = sns.relplot(data = endpoints[endpoints.Reporter=='FAM'],\n",
    "                x='lg10 S036.5', y=hue, col='lg10 S057.3.2', row='lg10 S057.4.2', units='Reaction', hue=hue, hue_norm=norm,\n",
    "                legend = False, palette='coolwarm', kind='scatter', estimator=None, s=spotsize,\n",
    "                row_order = endpoints['lg10 S057.4.2'].unique()[::-1],\n",
    "                facet_kws={\n",
    "                    'margin_titles': False,\n",
    "                    'despine': False})\n",
    "\n",
    "g.refline(y=0, color='k', linestyle='-', linewidth=0.5)\n",
    "format_sns_axes(g, xticks=[2, 4, 6, 8], xlim=[0.5, 8.5])\n",
    "\n",
    "plt.savefig(fig_pth / 'JG071B GBP6 Tripartite Endpoints.png', dpi=300, transparent=True);\n",
    "plt.savefig(fig_pth / 'JG071B GBP6 Tripartite Endpoints.svg', dpi=300, transparent=True);"
   ]
  },
  {
   "cell_type": "code",
   "execution_count": 7,
   "metadata": {},
   "outputs": [
    {
     "data": {
      "text/plain": [
       "<candas.test.import_QuantStudio.QuantStudio at 0x7f67c377d310>"
      ]
     },
     "execution_count": 7,
     "metadata": {},
     "output_type": "execute_result"
    }
   ],
   "source": [
    "db_file = data_pth / 'JG071A Reaction Specifications.json'\n",
    "rxn_db = TinyDB(db_file)\n",
    "JG071A_rxns = pd.DataFrame([rxn['oligos'] | {'Sample': rxn['name']} for rxn in rxn_db.all()])\n",
    "\n",
    "file = data_pth / 'JG071A ARG1 Tripartite.xlsx'\n",
    "JG071A = (\n",
    "    QuantStudio(file, 'JG071A')\n",
    "    .import_data()\n",
    "    .format_reactions()\n",
    "    .index_reactions()\n",
    "    .subtract_background()\n",
    "    .drop(lambda df: df['Well'].isin([281]))\n",
    "    .normalize_reactions(cmax=cmax, method='max')\n",
    "    .invert_fluorophore('HEX')\n",
    ")\n",
    "\n",
    "JG071A.reactions.data = JG071A.reactions.data.merge(JG071A_rxns)\n",
    "for oligo in ['S036.0', 'S057.0.1', 'S057.1.2']:\n",
    "    JG071A.reactions.data['lg10 ' + oligo] = np.log10(JG071A.reactions.data[oligo])\n",
    "    \n",
    "JG071A.extract_endpoints(cmax=cmax, name='FAM-HEX', method='diff')\n"
   ]
  },
  {
   "cell_type": "code",
   "execution_count": 8,
   "metadata": {},
   "outputs": [],
   "source": [
    "hue = 'lg10 S036.0'\n",
    "extent = np.max(np.abs(JG071A.reactions.wide[hue]))\n",
    "norm = mpl.colors.Normalize(vmin=JG071A.reactions.wide[hue].min(), vmax=JG071A.reactions.wide[hue].max())\n",
    "\n",
    "g = sns.relplot(data = JG071A.reactions.data.query('Cycle<=@cmax'),\n",
    "                x='Cycle', y='Fluorescence', col='lg10 S057.0.1', row='lg10 S057.1.2', units='Reaction', hue = hue,\n",
    "                legend = False, palette='ch:0_r', hue_norm=norm, kind='line', estimator=None, linewidth=linewidth,\n",
    "                row_order = JG071A.reactions.data['lg10 S057.1.2'].unique()[::-1],\n",
    "                facet_kws={\n",
    "                    'margin_titles': False,\n",
    "                    'despine': False})\n",
    "\n",
    "g.refline(y=0, color='k', linestyle='-', linewidth=0.5)\n",
    "format_sns_axes(g, xticks=[0, 10, 20, 30, 40, 50], xlim=[-2.5, 52.5])\n",
    "\n",
    "plt.savefig(fig_pth / 'JG071A ARG1 Tripartite Curves.png', dpi=300, transparent=True);\n",
    "plt.savefig(fig_pth / 'JG071A ARG1 Tripartite Curves.svg', dpi=300, transparent=True);"
   ]
  },
  {
   "cell_type": "code",
   "execution_count": 9,
   "metadata": {},
   "outputs": [],
   "source": [
    "endpoints = JG071A.endpoints\n",
    "\n",
    "hue = 'FAM-HEX'\n",
    "extent = np.max(np.abs(endpoints[hue]))\n",
    "norm = mpl.colors.Normalize(vmin=-extent, vmax=+extent)\n",
    "\n",
    "g = sns.relplot(data = endpoints[endpoints.Reporter=='FAM'],\n",
    "                x='lg10 S036.0', y=hue, col='lg10 S057.0.1', row='lg10 S057.1.2', units='Reaction', hue=hue, hue_norm=norm,\n",
    "                legend = False, palette='coolwarm', kind='scatter', estimator=None, s=spotsize,\n",
    "                row_order = endpoints['lg10 S057.1.2'].unique()[::-1],\n",
    "                facet_kws={\n",
    "                    'margin_titles': False,\n",
    "                    'despine': False})\n",
    "\n",
    "g.refline(y=0, color='k', linestyle='-', linewidth=0.5)\n",
    "format_sns_axes(g, xticks=[2, 4, 6, 8], xlim=[0.5, 8.5])\n",
    "\n",
    "plt.savefig(fig_pth / 'JG071A ARG1 Tripartite Endpoints.png', dpi=300, transparent=True);\n",
    "plt.savefig(fig_pth / 'JG071A ARG1 Tripartite Endpoints.svg', dpi=300, transparent=True);"
   ]
  },
  {
   "cell_type": "code",
   "execution_count": null,
   "metadata": {},
   "outputs": [],
   "source": []
  }
 ],
 "metadata": {
  "kernelspec": {
   "display_name": "Python 3.9.12 ('candas')",
   "language": "python",
   "name": "python3"
  },
  "language_info": {
   "codemirror_mode": {
    "name": "ipython",
    "version": 3
   },
   "file_extension": ".py",
   "mimetype": "text/x-python",
   "name": "python",
   "nbconvert_exporter": "python",
   "pygments_lexer": "ipython3",
   "version": "3.9.12"
  },
  "orig_nbformat": 4,
  "vscode": {
   "interpreter": {
    "hash": "d6cbb17527266c7c5b40ead181af5e9bd97ce6f258101128281f1b4584f0878e"
   }
  }
 },
 "nbformat": 4,
 "nbformat_minor": 2
}
