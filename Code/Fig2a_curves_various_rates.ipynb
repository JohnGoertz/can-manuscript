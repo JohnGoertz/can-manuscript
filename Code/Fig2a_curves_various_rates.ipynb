{
 "cells": [
  {
   "cell_type": "code",
   "execution_count": 1,
   "metadata": {},
   "outputs": [],
   "source": [
    "import candas as can\n",
    "import numpy as np\n",
    "import pandas as pd\n",
    "import matplotlib as mpl\n",
    "# mpl.use('Cairo')  # for saving SVGs that Affinity Designer can parse\n",
    "import matplotlib.pyplot as plt\n",
    "import seaborn as sns\n",
    "import scipy as sp\n",
    "\n",
    "base_pth, code_pth, data_pth, rslt_pth, fig_pth = can.utils.setup_paths(make_missing=False)\n",
    "plt.style.use(str(can.style.breve))\n",
    "\n",
    "%config InlineBackend.figure_format = 'retina'"
   ]
  },
  {
   "cell_type": "code",
   "execution_count": 2,
   "metadata": {},
   "outputs": [
    {
     "ename": "KeyboardInterrupt",
     "evalue": "",
     "output_type": "error",
     "traceback": [
      "\u001b[0;31m---------------------------------------------------------------------------\u001b[0m",
      "\u001b[0;31mKeyboardInterrupt\u001b[0m                         Traceback (most recent call last)",
      "\u001b[1;32m/mnt/c/Users/johng/OneDrive/Desktop/CAN Manuscript/Code/Fig2a_curves_various_rates.ipynb Cell 2\u001b[0m in \u001b[0;36m<cell line: 1>\u001b[0;34m()\u001b[0m\n\u001b[1;32m      <a href='vscode-notebook-cell://wsl%2Bubuntu/mnt/c/Users/johng/OneDrive/Desktop/CAN%20Manuscript/Code/Fig2a_curves_various_rates.ipynb#W1sdnNjb2RlLXJlbW90ZQ%3D%3D?line=0'>1</a>\u001b[0m JG045A \u001b[39m=\u001b[39m (can\u001b[39m.\u001b[39;49mtest\u001b[39m.\u001b[39;49mQuantStudio(data_pth \u001b[39m/\u001b[39;49m \u001b[39m'\u001b[39;49m\u001b[39mJG045\u001b[39;49m\u001b[39m'\u001b[39;49m \u001b[39m/\u001b[39;49m \u001b[39m'\u001b[39;49m\u001b[39mJG045A TMCC1 Gen3 EvaGreen.xlsx\u001b[39;49m\u001b[39m'\u001b[39;49m, \u001b[39m'\u001b[39;49m\u001b[39mJG045A\u001b[39;49m\u001b[39m'\u001b[39;49m)\n\u001b[0;32m----> <a href='vscode-notebook-cell://wsl%2Bubuntu/mnt/c/Users/johng/OneDrive/Desktop/CAN%20Manuscript/Code/Fig2a_curves_various_rates.ipynb#W1sdnNjb2RlLXJlbW90ZQ%3D%3D?line=1'>2</a>\u001b[0m         \u001b[39m.\u001b[39;49mimport_data()\n\u001b[1;32m      <a href='vscode-notebook-cell://wsl%2Bubuntu/mnt/c/Users/johng/OneDrive/Desktop/CAN%20Manuscript/Code/Fig2a_curves_various_rates.ipynb#W1sdnNjb2RlLXJlbW90ZQ%3D%3D?line=2'>3</a>\u001b[0m         \u001b[39m.\u001b[39mformat_reactions()\n\u001b[1;32m      <a href='vscode-notebook-cell://wsl%2Bubuntu/mnt/c/Users/johng/OneDrive/Desktop/CAN%20Manuscript/Code/Fig2a_curves_various_rates.ipynb#W1sdnNjb2RlLXJlbW90ZQ%3D%3D?line=3'>4</a>\u001b[0m         \u001b[39m.\u001b[39mindex_reactions()\n\u001b[1;32m      <a href='vscode-notebook-cell://wsl%2Bubuntu/mnt/c/Users/johng/OneDrive/Desktop/CAN%20Manuscript/Code/Fig2a_curves_various_rates.ipynb#W1sdnNjb2RlLXJlbW90ZQ%3D%3D?line=4'>5</a>\u001b[0m         \u001b[39m.\u001b[39msubtract_background(cycle_end\u001b[39m=\u001b[39m\u001b[39m7\u001b[39m)\n\u001b[1;32m      <a href='vscode-notebook-cell://wsl%2Bubuntu/mnt/c/Users/johng/OneDrive/Desktop/CAN%20Manuscript/Code/Fig2a_curves_various_rates.ipynb#W1sdnNjb2RlLXJlbW90ZQ%3D%3D?line=5'>6</a>\u001b[0m         \u001b[39m.\u001b[39mget_derivatives()\n\u001b[1;32m      <a href='vscode-notebook-cell://wsl%2Bubuntu/mnt/c/Users/johng/OneDrive/Desktop/CAN%20Manuscript/Code/Fig2a_curves_various_rates.ipynb#W1sdnNjb2RlLXJlbW90ZQ%3D%3D?line=6'>7</a>\u001b[0m         \u001b[39m.\u001b[39mannotate_reactions()\n\u001b[1;32m      <a href='vscode-notebook-cell://wsl%2Bubuntu/mnt/c/Users/johng/OneDrive/Desktop/CAN%20Manuscript/Code/Fig2a_curves_various_rates.ipynb#W1sdnNjb2RlLXJlbW90ZQ%3D%3D?line=7'>8</a>\u001b[0m         \u001b[39m.\u001b[39mtrim_reactions()\n\u001b[1;32m      <a href='vscode-notebook-cell://wsl%2Bubuntu/mnt/c/Users/johng/OneDrive/Desktop/CAN%20Manuscript/Code/Fig2a_curves_various_rates.ipynb#W1sdnNjb2RlLXJlbW90ZQ%3D%3D?line=8'>9</a>\u001b[0m         )\n",
      "File \u001b[0;32m~/projects/candas/candas/test/import_QuantStudio.py:282\u001b[0m, in \u001b[0;36mQuantStudio.import_data\u001b[0;34m(self, header)\u001b[0m\n\u001b[1;32m    279\u001b[0m warnings\u001b[39m.\u001b[39msimplefilter(\u001b[39m\"\u001b[39m\u001b[39mignore\u001b[39m\u001b[39m\"\u001b[39m)\n\u001b[1;32m    281\u001b[0m \u001b[39mtry\u001b[39;00m:\n\u001b[0;32m--> 282\u001b[0m     xlsx \u001b[39m=\u001b[39m pd\u001b[39m.\u001b[39;49mExcelFile(\u001b[39mself\u001b[39;49m\u001b[39m.\u001b[39;49mfilename)\n\u001b[1;32m    283\u001b[0m \u001b[39mexcept\u001b[39;00m \u001b[39mPermissionError\u001b[39;00m \u001b[39mas\u001b[39;00m e:\n\u001b[1;32m    284\u001b[0m     \u001b[39mprint\u001b[39m(\n\u001b[1;32m    285\u001b[0m         \u001b[39m\"\u001b[39m\u001b[39mPermission Denied. The file may be open; close the file and try again.\u001b[39m\u001b[39m\"\u001b[39m\n\u001b[1;32m    286\u001b[0m     )\n",
      "File \u001b[0;32m~/miniconda3/envs/candas/lib/python3.10/site-packages/pandas/io/excel/_base.py:1419\u001b[0m, in \u001b[0;36mExcelFile.__init__\u001b[0;34m(self, path_or_buffer, engine, storage_options)\u001b[0m\n\u001b[1;32m   1416\u001b[0m \u001b[39mself\u001b[39m\u001b[39m.\u001b[39mengine \u001b[39m=\u001b[39m engine\n\u001b[1;32m   1417\u001b[0m \u001b[39mself\u001b[39m\u001b[39m.\u001b[39mstorage_options \u001b[39m=\u001b[39m storage_options\n\u001b[0;32m-> 1419\u001b[0m \u001b[39mself\u001b[39m\u001b[39m.\u001b[39m_reader \u001b[39m=\u001b[39m \u001b[39mself\u001b[39;49m\u001b[39m.\u001b[39;49m_engines[engine](\u001b[39mself\u001b[39;49m\u001b[39m.\u001b[39;49m_io, storage_options\u001b[39m=\u001b[39;49mstorage_options)\n",
      "File \u001b[0;32m~/miniconda3/envs/candas/lib/python3.10/site-packages/pandas/io/excel/_openpyxl.py:525\u001b[0m, in \u001b[0;36mOpenpyxlReader.__init__\u001b[0;34m(self, filepath_or_buffer, storage_options)\u001b[0m\n\u001b[1;32m    514\u001b[0m \u001b[39m\"\"\"\u001b[39;00m\n\u001b[1;32m    515\u001b[0m \u001b[39mReader using openpyxl engine.\u001b[39;00m\n\u001b[1;32m    516\u001b[0m \n\u001b[0;32m   (...)\u001b[0m\n\u001b[1;32m    522\u001b[0m \u001b[39m    passed to fsspec for appropriate URLs (see ``_get_filepath_or_buffer``)\u001b[39;00m\n\u001b[1;32m    523\u001b[0m \u001b[39m\"\"\"\u001b[39;00m\n\u001b[1;32m    524\u001b[0m import_optional_dependency(\u001b[39m\"\u001b[39m\u001b[39mopenpyxl\u001b[39m\u001b[39m\"\u001b[39m)\n\u001b[0;32m--> 525\u001b[0m \u001b[39msuper\u001b[39;49m()\u001b[39m.\u001b[39;49m\u001b[39m__init__\u001b[39;49m(filepath_or_buffer, storage_options\u001b[39m=\u001b[39;49mstorage_options)\n",
      "File \u001b[0;32m~/miniconda3/envs/candas/lib/python3.10/site-packages/pandas/io/excel/_base.py:518\u001b[0m, in \u001b[0;36mBaseExcelReader.__init__\u001b[0;34m(self, filepath_or_buffer, storage_options)\u001b[0m\n\u001b[1;32m    516\u001b[0m \u001b[39mself\u001b[39m\u001b[39m.\u001b[39mhandles\u001b[39m.\u001b[39mhandle\u001b[39m.\u001b[39mseek(\u001b[39m0\u001b[39m)\n\u001b[1;32m    517\u001b[0m \u001b[39mtry\u001b[39;00m:\n\u001b[0;32m--> 518\u001b[0m     \u001b[39mself\u001b[39m\u001b[39m.\u001b[39mbook \u001b[39m=\u001b[39m \u001b[39mself\u001b[39;49m\u001b[39m.\u001b[39;49mload_workbook(\u001b[39mself\u001b[39;49m\u001b[39m.\u001b[39;49mhandles\u001b[39m.\u001b[39;49mhandle)\n\u001b[1;32m    519\u001b[0m \u001b[39mexcept\u001b[39;00m \u001b[39mException\u001b[39;00m:\n\u001b[1;32m    520\u001b[0m     \u001b[39mself\u001b[39m\u001b[39m.\u001b[39mclose()\n",
      "File \u001b[0;32m~/miniconda3/envs/candas/lib/python3.10/site-packages/pandas/io/excel/_openpyxl.py:536\u001b[0m, in \u001b[0;36mOpenpyxlReader.load_workbook\u001b[0;34m(self, filepath_or_buffer)\u001b[0m\n\u001b[1;32m    533\u001b[0m \u001b[39mdef\u001b[39;00m \u001b[39mload_workbook\u001b[39m(\u001b[39mself\u001b[39m, filepath_or_buffer: FilePath \u001b[39m|\u001b[39m ReadBuffer[\u001b[39mbytes\u001b[39m]):\n\u001b[1;32m    534\u001b[0m     \u001b[39mfrom\u001b[39;00m \u001b[39mopenpyxl\u001b[39;00m \u001b[39mimport\u001b[39;00m load_workbook\n\u001b[0;32m--> 536\u001b[0m     \u001b[39mreturn\u001b[39;00m load_workbook(\n\u001b[1;32m    537\u001b[0m         filepath_or_buffer, read_only\u001b[39m=\u001b[39;49m\u001b[39mTrue\u001b[39;49;00m, data_only\u001b[39m=\u001b[39;49m\u001b[39mTrue\u001b[39;49;00m, keep_links\u001b[39m=\u001b[39;49m\u001b[39mFalse\u001b[39;49;00m\n\u001b[1;32m    538\u001b[0m     )\n",
      "File \u001b[0;32m~/miniconda3/envs/candas/lib/python3.10/site-packages/openpyxl/reader/excel.py:317\u001b[0m, in \u001b[0;36mload_workbook\u001b[0;34m(filename, read_only, keep_vba, data_only, keep_links)\u001b[0m\n\u001b[1;32m    290\u001b[0m \u001b[39m\"\"\"Open the given filename and return the workbook\u001b[39;00m\n\u001b[1;32m    291\u001b[0m \n\u001b[1;32m    292\u001b[0m \u001b[39m:param filename: the path to open or a file-like object\u001b[39;00m\n\u001b[0;32m   (...)\u001b[0m\n\u001b[1;32m    313\u001b[0m \n\u001b[1;32m    314\u001b[0m \u001b[39m\"\"\"\u001b[39;00m\n\u001b[1;32m    315\u001b[0m reader \u001b[39m=\u001b[39m ExcelReader(filename, read_only, keep_vba,\n\u001b[1;32m    316\u001b[0m                     data_only, keep_links)\n\u001b[0;32m--> 317\u001b[0m reader\u001b[39m.\u001b[39;49mread()\n\u001b[1;32m    318\u001b[0m \u001b[39mreturn\u001b[39;00m reader\u001b[39m.\u001b[39mwb\n",
      "File \u001b[0;32m~/miniconda3/envs/candas/lib/python3.10/site-packages/openpyxl/reader/excel.py:282\u001b[0m, in \u001b[0;36mExcelReader.read\u001b[0;34m(self)\u001b[0m\n\u001b[1;32m    280\u001b[0m \u001b[39mself\u001b[39m\u001b[39m.\u001b[39mread_theme()\n\u001b[1;32m    281\u001b[0m apply_stylesheet(\u001b[39mself\u001b[39m\u001b[39m.\u001b[39marchive, \u001b[39mself\u001b[39m\u001b[39m.\u001b[39mwb)\n\u001b[0;32m--> 282\u001b[0m \u001b[39mself\u001b[39;49m\u001b[39m.\u001b[39;49mread_worksheets()\n\u001b[1;32m    283\u001b[0m \u001b[39mself\u001b[39m\u001b[39m.\u001b[39mparser\u001b[39m.\u001b[39massign_names()\n\u001b[1;32m    284\u001b[0m \u001b[39mif\u001b[39;00m \u001b[39mnot\u001b[39;00m \u001b[39mself\u001b[39m\u001b[39m.\u001b[39mread_only:\n",
      "File \u001b[0;32m~/miniconda3/envs/candas/lib/python3.10/site-packages/openpyxl/reader/excel.py:219\u001b[0m, in \u001b[0;36mExcelReader.read_worksheets\u001b[0;34m(self)\u001b[0m\n\u001b[1;32m    216\u001b[0m     rels \u001b[39m=\u001b[39m get_dependents(\u001b[39mself\u001b[39m\u001b[39m.\u001b[39marchive, rels_path)\n\u001b[1;32m    218\u001b[0m \u001b[39mif\u001b[39;00m \u001b[39mself\u001b[39m\u001b[39m.\u001b[39mread_only:\n\u001b[0;32m--> 219\u001b[0m     ws \u001b[39m=\u001b[39m ReadOnlyWorksheet(\u001b[39mself\u001b[39;49m\u001b[39m.\u001b[39;49mwb, sheet\u001b[39m.\u001b[39;49mname, rel\u001b[39m.\u001b[39;49mtarget, \u001b[39mself\u001b[39;49m\u001b[39m.\u001b[39;49mshared_strings)\n\u001b[1;32m    220\u001b[0m     ws\u001b[39m.\u001b[39msheet_state \u001b[39m=\u001b[39m sheet\u001b[39m.\u001b[39mstate\n\u001b[1;32m    221\u001b[0m     \u001b[39mself\u001b[39m\u001b[39m.\u001b[39mwb\u001b[39m.\u001b[39m_sheets\u001b[39m.\u001b[39mappend(ws)\n",
      "File \u001b[0;32m~/miniconda3/envs/candas/lib/python3.10/site-packages/openpyxl/worksheet/_read_only.py:41\u001b[0m, in \u001b[0;36mReadOnlyWorksheet.__init__\u001b[0;34m(self, parent_workbook, title, worksheet_path, shared_strings)\u001b[0m\n\u001b[1;32m     39\u001b[0m \u001b[39mself\u001b[39m\u001b[39m.\u001b[39m_worksheet_path \u001b[39m=\u001b[39m worksheet_path\n\u001b[1;32m     40\u001b[0m \u001b[39mself\u001b[39m\u001b[39m.\u001b[39m_shared_strings \u001b[39m=\u001b[39m shared_strings\n\u001b[0;32m---> 41\u001b[0m \u001b[39mself\u001b[39;49m\u001b[39m.\u001b[39;49m_get_size()\n",
      "File \u001b[0;32m~/miniconda3/envs/candas/lib/python3.10/site-packages/openpyxl/worksheet/_read_only.py:47\u001b[0m, in \u001b[0;36mReadOnlyWorksheet._get_size\u001b[0;34m(self)\u001b[0m\n\u001b[1;32m     45\u001b[0m src \u001b[39m=\u001b[39m \u001b[39mself\u001b[39m\u001b[39m.\u001b[39m_get_source()\n\u001b[1;32m     46\u001b[0m parser \u001b[39m=\u001b[39m WorkSheetParser(src, [])\n\u001b[0;32m---> 47\u001b[0m dimensions \u001b[39m=\u001b[39m parser\u001b[39m.\u001b[39;49mparse_dimensions()\n\u001b[1;32m     48\u001b[0m src\u001b[39m.\u001b[39mclose()\n\u001b[1;32m     49\u001b[0m \u001b[39mif\u001b[39;00m dimensions \u001b[39mis\u001b[39;00m \u001b[39mnot\u001b[39;00m \u001b[39mNone\u001b[39;00m:\n",
      "File \u001b[0;32m~/miniconda3/envs/candas/lib/python3.10/site-packages/openpyxl/worksheet/_reader.py:166\u001b[0m, in \u001b[0;36mopenpyxl.worksheet._reader.WorkSheetParser.parse_dimensions\u001b[0;34m()\u001b[0m\n",
      "File \u001b[0;32m~/miniconda3/envs/candas/lib/python3.10/xml/etree/ElementTree.py:1253\u001b[0m, in \u001b[0;36miterparse.<locals>.iterator\u001b[0;34m(source)\u001b[0m\n\u001b[1;32m   1251\u001b[0m \u001b[39myield\u001b[39;00m \u001b[39mNone\u001b[39;00m\n\u001b[1;32m   1252\u001b[0m \u001b[39mwhile\u001b[39;00m \u001b[39mTrue\u001b[39;00m:\n\u001b[0;32m-> 1253\u001b[0m     \u001b[39myield from\u001b[39;00m pullparser\u001b[39m.\u001b[39mread_events()\n\u001b[1;32m   1254\u001b[0m     \u001b[39m# load event buffer\u001b[39;00m\n\u001b[1;32m   1255\u001b[0m     data \u001b[39m=\u001b[39m source\u001b[39m.\u001b[39mread(\u001b[39m16\u001b[39m \u001b[39m*\u001b[39m \u001b[39m1024\u001b[39m)\n",
      "File \u001b[0;32m~/miniconda3/envs/candas/lib/python3.10/xml/etree/ElementTree.py:1326\u001b[0m, in \u001b[0;36mXMLPullParser.read_events\u001b[0;34m(self)\u001b[0m\n\u001b[1;32m   1324\u001b[0m     \u001b[39mraise\u001b[39;00m event\n\u001b[1;32m   1325\u001b[0m \u001b[39melse\u001b[39;00m:\n\u001b[0;32m-> 1326\u001b[0m     \u001b[39myield\u001b[39;00m event\n",
      "\u001b[0;31mKeyboardInterrupt\u001b[0m: "
     ]
    }
   ],
   "source": [
    "JG045A = (can.test.QuantStudio(data_pth / 'JG045' / 'JG045A TMCC1 Gen3 EvaGreen.xlsx', 'JG045A')\n",
    "        .import_data()\n",
    "        .format_reactions()\n",
    "        .index_reactions()\n",
    "        .subtract_background(cycle_end=7)\n",
    "        .get_derivatives()\n",
    "        .annotate_reactions()\n",
    "        .trim_reactions()\n",
    "        )"
   ]
  },
  {
   "cell_type": "code",
   "execution_count": null,
   "metadata": {},
   "outputs": [],
   "source": [
    "targets = [ 'BP50_GC25', 'BP50_GC75', 'BP280_GC30', 'BP280_GC70']\n",
    "rates = [0.98, 0.67, 0.70, 0.49]\n",
    "outliers = ['N8','P13','O14', 'G13', 'G14', 'A17', 'B17', 'C17', 'D17', 'E17', 'F17', 'G17']\n",
    "\n",
    "reactions = JG045A.reactions.data.query('Target in @targets and WellPosition not in @outliers and Cycle<60')\n",
    "\n",
    "width = 3.45\n",
    "height = 1.65\n",
    "figsize=(width, height)\n",
    "spotsize=8**2\n",
    "linewidth=2\n",
    "ticklabelsize=8\n",
    "labelsize=10\n",
    "titlesize=labelsize+2\n",
    "\n",
    "fig, axs = plt.subplots(2, 2, figsize = (width, height), sharex=True, sharey='row')\n",
    "\n",
    "for target, rate, ax in zip(targets, rates, axs.flat):\n",
    "    sns.lineplot(\n",
    "        data=reactions.query('Target==@target'),\n",
    "        x=\"Cycle\",\n",
    "        y=\"Fluorescence\",\n",
    "        units=\"Reaction\",\n",
    "        estimator=None,\n",
    "        hue=\"lg10_Copies\",\n",
    "        palette=\"ch:0\",\n",
    "        legend=False,\n",
    "        ax=ax,\n",
    "        linewidth=1,\n",
    "    )\n",
    "    \n",
    "    parts = target.split('_')\n",
    "    bp = parts[0][2:]+' bp'\n",
    "    gc = parts[1][2:]+'% GC'\n",
    "    name = parts[2] if len(parts)>2 else ''\n",
    "    title = f'{name}\\n{bp}\\n{gc}'\n",
    "    ax.text(.975, .025, title, fontsize=ticklabelsize,\n",
    "            horizontalalignment='right',\n",
    "            verticalalignment='bottom',\n",
    "            transform=ax.transAxes)\n",
    "    ax.text(.025, .95, f'r={rate}', fontsize=ticklabelsize,\n",
    "            fontweight='bold',\n",
    "            horizontalalignment='left',\n",
    "            verticalalignment='top',\n",
    "            transform=ax.transAxes)\n",
    "    \n",
    "for ax in axs.flat:\n",
    "    ax.set_xlabel('Cycle', fontsize=labelsize)\n",
    "    ax.set_xticks([0,20,40, 60])\n",
    "    # ax.set_xlim([0, 41])\n",
    "    # ax.set_ylim([-1.1,1.1])\n",
    "    ax.set_ylabel('', fontsize=labelsize)\n",
    "    ax.set_yticks(np.arange(5))\n",
    "    # ax.set_yticklabels([1.0, 0.5, 0.0, 0.5, 1.0])\n",
    "    ax.tick_params(axis=\"both\", labelsize=ticklabelsize)\n",
    "    plt.setp(ax.spines.values(), linewidth=1)\n",
    "\n",
    "plt.setp(axs[0,:], ylim=[-0.1, 1.5])\n",
    "plt.setp(axs[1,:], ylim=[-0.1, 4.1])\n",
    "\n",
    "mar_l=0.55\n",
    "mar_r=0.1\n",
    "mar_t=0.22\n",
    "mar_b=0.48\n",
    "\n",
    "plt.subplots_adjust(\n",
    "    left=mar_l / width,\n",
    "    right=1 - mar_r / width,\n",
    "    top=1 - mar_t / height,\n",
    "    bottom=mar_b / height,\n",
    ")\n",
    "\n",
    "fig.text(0.07, 0.55, 'Fluorescence', fontsize=labelsize, ha='center', va='center', rotation='vertical')\n",
    "\n",
    "\n",
    "plt.savefig(fig_pth / 'JG045A reaction rates.png', dpi=300, transparent=True);\n",
    "plt.savefig(fig_pth / 'JG045A reaction rates.svg', dpi=300, transparent=True);\n",
    "\n"
   ]
  },
  {
   "cell_type": "code",
   "execution_count": null,
   "metadata": {},
   "outputs": [],
   "source": []
  }
 ],
 "metadata": {
  "kernelspec": {
   "display_name": "Python 3.10.6 ('candas')",
   "language": "python",
   "name": "python3"
  },
  "language_info": {
   "codemirror_mode": {
    "name": "ipython",
    "version": 3
   },
   "file_extension": ".py",
   "mimetype": "text/x-python",
   "name": "python",
   "nbconvert_exporter": "python",
   "pygments_lexer": "ipython3",
   "version": "3.10.6"
  },
  "orig_nbformat": 4,
  "vscode": {
   "interpreter": {
    "hash": "e723923f3ce7942ed7997078cee6e56c51bbc1fd61d76e9913b97f174c1ae87c"
   }
  }
 },
 "nbformat": 4,
 "nbformat_minor": 2
}
