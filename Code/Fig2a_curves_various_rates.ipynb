{
 "cells": [
  {
   "cell_type": "code",
   "execution_count": 1,
   "metadata": {},
   "outputs": [
    {
     "name": "stderr",
     "output_type": "stream",
     "text": [
      "WARNING (theano.tensor.blas): Using NumPy C-API based implementation for BLAS functions.\n"
     ]
    }
   ],
   "source": [
    "import candas as can\n",
    "import numpy as np\n",
    "import pandas as pd\n",
    "import matplotlib as mpl\n",
    "mpl.use('Cairo')  # for saving SVGs that Affinity Designer can parse\n",
    "import matplotlib.pyplot as plt\n",
    "import seaborn as sns\n",
    "import scipy as sp\n",
    "\n",
    "base_pth, code_pth, data_pth, rslt_pth, fig_pth = can.utils.setup_paths(make_missing=False)\n",
    "plt.style.use(str(can.style.breve))\n",
    "\n",
    "%config InlineBackend.figure_format = 'retina'"
   ]
  },
  {
   "cell_type": "code",
   "execution_count": 2,
   "metadata": {},
   "outputs": [],
   "source": [
    "JG045A = (can.test.QuantStudio(data_pth / 'JG045' / 'JG045A TMCC1 Gen3 EvaGreen.xlsx', 'JG045A')\n",
    "        .import_data()\n",
    "        .format_reactions()\n",
    "        .index_reactions()\n",
    "        .subtract_background(cycle_end=7)\n",
    "        .get_derivatives()\n",
    "        .annotate_reactions()\n",
    "        .trim_reactions()\n",
    "        )"
   ]
  },
  {
   "cell_type": "code",
   "execution_count": 4,
   "metadata": {},
   "outputs": [],
   "source": [
    "targets = [ 'BP50_GC25', 'BP50_GC75', 'BP280_GC30', 'BP280_GC70']\n",
    "rates = [0.98, 0.67, 0.70, 0.49]\n",
    "outliers = ['N8','P13','O14', 'G13', 'G14', 'A17', 'B17', 'C17', 'D17', 'E17', 'F17', 'G17']\n",
    "\n",
    "reactions = JG045A.reactions.data.query('Target in @targets and WellPosition not in @outliers and Cycle<60')\n",
    "\n",
    "width = 3.45\n",
    "height = 1.65\n",
    "figsize=(width, height)\n",
    "spotsize=8**2\n",
    "linewidth=2\n",
    "ticklabelsize=8\n",
    "labelsize=10\n",
    "titlesize=labelsize+2\n",
    "\n",
    "fig, axs = plt.subplots(2, 2, figsize = (width, height), sharex=True, sharey='row')\n",
    "\n",
    "for target, rate, ax in zip(targets, rates, axs.flat):\n",
    "    sns.lineplot(\n",
    "        data=reactions.query('Target==@target'),\n",
    "        x=\"Cycle\",\n",
    "        y=\"Fluorescence\",\n",
    "        units=\"Reaction\",\n",
    "        estimator=None,\n",
    "        hue=\"lg10_Copies\",\n",
    "        palette=\"ch:0\",\n",
    "        legend=False,\n",
    "        ax=ax,\n",
    "        linewidth=1,\n",
    "    )\n",
    "    \n",
    "    parts = target.split('_')\n",
    "    bp = parts[0][2:]+' bp'\n",
    "    gc = parts[1][2:]+'% GC'\n",
    "    name = parts[2] if len(parts)>2 else ''\n",
    "    title = f'{name}\\n{bp}\\n{gc}'\n",
    "    ax.text(.975, .025, title, fontsize=ticklabelsize,\n",
    "            horizontalalignment='right',\n",
    "            verticalalignment='bottom',\n",
    "            transform=ax.transAxes)\n",
    "    ax.text(.025, .95, f'r={rate}', fontsize=ticklabelsize,\n",
    "            fontweight='bold',\n",
    "            horizontalalignment='left',\n",
    "            verticalalignment='top',\n",
    "            transform=ax.transAxes)\n",
    "    \n",
    "for ax in axs.flat:\n",
    "    ax.set_xlabel('Cycle', fontsize=labelsize)\n",
    "    ax.set_xticks([0,20,40, 60])\n",
    "    # ax.set_xlim([0, 41])\n",
    "    # ax.set_ylim([-1.1,1.1])\n",
    "    ax.set_ylabel('', fontsize=labelsize)\n",
    "    ax.set_yticks(np.arange(5))\n",
    "    # ax.set_yticklabels([1.0, 0.5, 0.0, 0.5, 1.0])\n",
    "    ax.tick_params(axis=\"both\", labelsize=ticklabelsize)\n",
    "    plt.setp(ax.spines.values(), linewidth=1)\n",
    "\n",
    "plt.setp(axs[0,:], ylim=[-0.1, 1.5])\n",
    "plt.setp(axs[1,:], ylim=[-0.1, 4.1])\n",
    "\n",
    "mar_l=0.55\n",
    "mar_r=0.1\n",
    "mar_t=0.22\n",
    "mar_b=0.48\n",
    "\n",
    "plt.subplots_adjust(\n",
    "    left=mar_l / width,\n",
    "    right=1 - mar_r / width,\n",
    "    top=1 - mar_t / height,\n",
    "    bottom=mar_b / height,\n",
    ")\n",
    "\n",
    "fig.text(0.07, 0.55, 'Fluorescence', fontsize=labelsize, ha='center', va='center', rotation='vertical')\n",
    "\n",
    "\n",
    "plt.savefig(fig_pth / 'JG045A reaction rates.png', dpi=300, transparent=True);\n",
    "plt.savefig(fig_pth / 'JG045A reaction rates.svg', dpi=300, transparent=True);\n",
    "\n"
   ]
  },
  {
   "cell_type": "code",
   "execution_count": null,
   "metadata": {},
   "outputs": [],
   "source": []
  }
 ],
 "metadata": {
  "kernelspec": {
   "display_name": "Python 3.9.12 ('candas')",
   "language": "python",
   "name": "python3"
  },
  "language_info": {
   "codemirror_mode": {
    "name": "ipython",
    "version": 3
   },
   "file_extension": ".py",
   "mimetype": "text/x-python",
   "name": "python",
   "nbconvert_exporter": "python",
   "pygments_lexer": "ipython3",
   "version": "3.9.12"
  },
  "orig_nbformat": 4,
  "vscode": {
   "interpreter": {
    "hash": "d6cbb17527266c7c5b40ead181af5e9bd97ce6f258101128281f1b4584f0878e"
   }
  }
 },
 "nbformat": 4,
 "nbformat_minor": 2
}
