{
 "cells": [
  {
   "cell_type": "code",
   "execution_count": 1,
   "id": "6a330c93",
   "metadata": {},
   "outputs": [],
   "source": [
    "import numpy as np\n",
    "import pandas as pd\n",
    "import matplotlib as mpl\n",
    "mpl.use('Cairo')  # for saving SVGs that Affinity Designer can parse\n",
    "import matplotlib.pyplot as plt\n",
    "import seaborn as sns\n",
    "\n",
    "import candas as can\n",
    "import gumbi as gmb\n",
    "from candas.test import FluorescenceData, QuantStudio\n",
    "\n",
    "import importlib as il\n",
    "\n",
    "base_pth, code_pth, data_pth, _, fig_pth = can.utils.setup_paths(make_missing=False)\n",
    "plt.style.use('style.mplstyle')\n",
    "\n",
    "%config InlineBackend.figure_format = 'retina'"
   ]
  },
  {
   "cell_type": "code",
   "execution_count": 2,
   "id": "bc1629b7",
   "metadata": {},
   "outputs": [],
   "source": [
    "fig_num = 6\n",
    "fig_pth = fig_pth / f'Fig_{fig_num}'\n",
    "fig_pth.mkdir(exist_ok=True)\n",
    "\n",
    "panel = ''\n",
    "subpanel = ''\n",
    "\n",
    "def savefig(fig=None, title=None):\n",
    "    fig = fig or plt.gcf()\n",
    "    title = title or f'Fig_{fig_num}_{panel}_{subpanel}'\n",
    "    print('Saving', end='')\n",
    "    for ext in ['svg', 'png']:\n",
    "        print('.', end='')\n",
    "        fig.savefig(fig_pth / f'{title}.{ext}', dpi=600, transparent=True)\n",
    "    print('done')"
   ]
  },
  {
   "cell_type": "markdown",
   "id": "fe64b0bb",
   "metadata": {},
   "source": [
    "# Load data"
   ]
  },
  {
   "cell_type": "code",
   "execution_count": 3,
   "id": "64ea9865",
   "metadata": {},
   "outputs": [],
   "source": [
    "cmax = 50\n",
    "\n",
    "JG069J = (\n",
    "    QuantStudio(data_pth / 'JG069J Final TB Experiment.xlsx', 'JG069J')\n",
    "    .import_data()\n",
    "    .format_reactions()\n",
    "    .index_reactions()\n",
    "    .subtract_background()\n",
    "    .normalize_reactions(cmax=cmax, method='min-max')\n",
    "    .invert_fluorophore('HEX')\n",
    ")\n",
    "\n",
    "JG069J.reactions.wide = (JG069J.reactions.wide\n",
    "                         .drop(columns=['Sample'])\n",
    "                         .merge(pd.read_csv(data_pth / 'JG069J Plate Map.csv'), on='Well')\n",
    "                        )"
   ]
  },
  {
   "cell_type": "code",
   "execution_count": 4,
   "id": "2a617572",
   "metadata": {},
   "outputs": [],
   "source": [
    "JG069J.reactions.neaten()\n",
    "JG069J.extract_endpoints(cmax=cmax, name='FAM-HEX', method='diff')\n",
    "endpoints = JG069J.endpoints\n",
    "\n",
    "# endpoints = endpoints[\n",
    "#     ~((endpoints.PRDM1==5) & (endpoints.ARG1==2))\n",
    "# ]"
   ]
  },
  {
   "cell_type": "code",
   "execution_count": 5,
   "id": "81d727fe",
   "metadata": {},
   "outputs": [
    {
     "data": {
      "text/html": [
       "\n",
       "    <div>\n",
       "        <style>\n",
       "            /* Turns off some styling */\n",
       "            progress {\n",
       "                /* gets rid of default border in Firefox and Opera. */\n",
       "                border: none;\n",
       "                /* Needs to be in here for Safari polyfill so background images work as expected. */\n",
       "                background-size: auto;\n",
       "            }\n",
       "            .progress-bar-interrupted, .progress-bar-interrupted::-webkit-progress-bar {\n",
       "                background: #F44336;\n",
       "            }\n",
       "        </style>\n",
       "      <progress value='20' class='' max='20' style='width:300px; height:20px; vertical-align: middle;'></progress>\n",
       "      100.00% [20/20 00:02<00:00 logp = -0.11191, ||grad|| = 1.0474]\n",
       "    </div>\n",
       "    "
      ],
      "text/plain": [
       "<IPython.core.display.HTML object>"
      ]
     },
     "metadata": {},
     "output_type": "display_data"
    },
    {
     "name": "stdout",
     "output_type": "stream",
     "text": [
      "\n"
     ]
    }
   ],
   "source": [
    "gp_config = {\n",
    "    'continuous_dims': ['GBP6', 'ARG1', 'TMCC1', 'PRDM1'],\n",
    "    #'linear_dims': ['GBP6', 'ARG1', 'TMCC1', 'PRDM1']\n",
    "}\n",
    "\n",
    "ds = gmb.DataSet(endpoints, outputs=['FAM-HEX'])\n",
    "gp = gmb.GP(ds).fit(**gp_config)"
   ]
  },
  {
   "cell_type": "code",
   "execution_count": 6,
   "id": "53dd16be",
   "metadata": {},
   "outputs": [
    {
     "name": "stdout",
     "output_type": "stream",
     "text": [
      "Saving..done\n"
     ]
    }
   ],
   "source": [
    "import warnings\n",
    "\n",
    "width = 3.65\n",
    "height = 2.187\n",
    "figsize = (width, height)\n",
    "ticklabelsize = 6\n",
    "labelsize = 6\n",
    "\n",
    "mar_l = 0.325  # 0.237\n",
    "mar_r = 0.22\n",
    "mar_t = 0.22\n",
    "mar_b = 0.275\n",
    "\n",
    "hue = 'FAM-HEX'\n",
    "extent = np.max(np.abs(endpoints[hue]))\n",
    "norm = mpl.colors.Normalize(vmin=-extent, vmax=+extent)\n",
    "cmap = sns.diverging_palette(220, 20, as_cmap=True)\n",
    "\n",
    "g = sns.relplot(data=endpoints, col=\"TMCC1\", row =\"PRDM1\",\n",
    "                x = 'GBP6', y='ARG1',\n",
    "                hue=hue, hue_norm=norm,\n",
    "                row_order=[5.0, 4.0, 3.0],\n",
    "                palette=cmap, legend=False,\n",
    "                kind='scatter', \n",
    "                # height=fig_size[1]/4, aspect=(fig_size[0]/6)/(fig_size[1]/4),\n",
    "                s=4**2, zorder=10,\n",
    "                facet_kws={\n",
    "                    'margin_titles': False,\n",
    "                    'despine': False,\n",
    "                    })\n",
    "\n",
    "fig = plt.gcf()\n",
    "fig.set_size_inches(figsize)\n",
    "\n",
    "for (prdm1, tmcc1), ax in g.axes_dict.items():\n",
    "    ax.tick_params(axis='both', labelsize=ticklabelsize)\n",
    "    ax.set_title('', fontsize=labelsize)\n",
    "    if prdm1==5.0:\n",
    "        ax.set_title(f'{tmcc1:.1f}', fontsize=labelsize, pad=2)\n",
    "        if tmcc1==3.0:\n",
    "            ax.set_title(f'TMCC1\\n{tmcc1:.1f}', fontsize=labelsize, pad=2)\n",
    "    if tmcc1==4.0:\n",
    "        ax2 = ax.twinx()\n",
    "        ax2.set_ylabel(f'{prdm1:.1f}', va='bottom', fontsize=labelsize, rotation=270, labelpad=-3)\n",
    "        if prdm1==4.0:\n",
    "            ax2.set_ylabel(f'PRDM1\\n{prdm1:.1f}', va='bottom', fontsize=labelsize, rotation=270, labelpad=-3)\n",
    "        ax2.set_yticks([])\n",
    "    else:\n",
    "        ax.set_ylabel(ax.get_ylabel(), fontsize=labelsize, labelpad=2)\n",
    "        \n",
    "        \n",
    "        \n",
    "    if prdm1 != 3.0:\n",
    "        ax.xaxis.set_tick_params(length=0)\n",
    "    else:\n",
    "        ax.xaxis.set_tick_params(length=1.5, width=0.6)\n",
    "        \n",
    "    if tmcc1 != 2.0:\n",
    "        ax.yaxis.set_tick_params(length=0)\n",
    "    else:\n",
    "        ax.yaxis.set_tick_params(length=1.5, width=0.6)\n",
    "        \n",
    "    ax.set_xlabel(ax.get_xlabel(), fontsize=labelsize, labelpad=2)\n",
    "    ax.set_xticks([1.5, 2.5, 3.5])\n",
    "    ax.set_yticks([2, 3, 4])\n",
    "    \n",
    "    at = gp.parray(PRDM1=prdm1, TMCC1=tmcc1)\n",
    "    XY = gp.prepare_grid(at=at)\n",
    "    sig = gp.predict_grid()\n",
    "    \n",
    "    plt.sca(ax)\n",
    "    pp = gmb.ParrayPlotter(x=XY['GBP6'], y=XY['ARG1'], z=sig)\n",
    "    pp(plt.contourf, cmap=cmap, norm=norm, zorder=-10)\n",
    "#     pp.colorbar(ax=ax)\n",
    "\n",
    "    with warnings.catch_warnings():\n",
    "        warnings.simplefilter(\"ignore\")\n",
    "        pp(plt.contour, levels=[-0.5, +0.5], linewidths=0.5, colors='k', norm=norm, zorder=-5)\n",
    "        pp(plt.contour, levels=[0.], linewidths=1, colors='k', norm=norm, zorder=-5)\n",
    "        \n",
    "plt.subplots_adjust(\n",
    "    left=mar_l / width,\n",
    "    right=1 - mar_r / width,\n",
    "    top=1 - mar_t / height,\n",
    "    bottom=mar_b / height,\n",
    ")\n",
    "\n",
    "panel = 'A'\n",
    "savefig()"
   ]
  },
  {
   "cell_type": "code",
   "execution_count": 7,
   "id": "c59aeeca",
   "metadata": {},
   "outputs": [],
   "source": [
    "limits = gp.parray(\n",
    "    GBP6=[endpoints.GBP6.min(), endpoints.GBP6.max()],\n",
    "    ARG1=[endpoints.ARG1.min(), endpoints.ARG1.max()],\n",
    "    TMCC1=[endpoints.TMCC1.min(), endpoints.TMCC1.max()],\n",
    "    PRDM1=[endpoints.PRDM1.min(), endpoints.PRDM1.max()],\n",
    ")\n",
    "\n",
    "GATP = gp.prepare_grid(limits=limits, resolution=10)\n",
    "sig = gp.predict_grid()"
   ]
  },
  {
   "cell_type": "code",
   "execution_count": 17,
   "id": "842b2e35",
   "metadata": {},
   "outputs": [
    {
     "name": "stdout",
     "output_type": "stream",
     "text": [
      "Saving..done\n"
     ]
    }
   ],
   "source": [
    "width = 3.65\n",
    "height = 0.829\n",
    "figsize = (width, height)\n",
    "ticklabelsize = 6\n",
    "labelsize = 6\n",
    "\n",
    "mar_l = 0.325\n",
    "mar_r = 0.22\n",
    "mar_t = 0.04\n",
    "mar_b = 0.27\n",
    "\n",
    "axs = plt.subplots(1, 4, figsize=figsize, sharey=True)[1]\n",
    "\n",
    "for i, (name, ax) in enumerate(zip(GATP.names, axs)):\n",
    "    plt.sca(ax)\n",
    "    x = gp.grid_vectors[name].flatten()\n",
    "    dims = tuple([j for j in range(len(GATP.names)) if j!=i])\n",
    "    gmb.ParrayPlotter(x, np.swapaxes(sig, 0, 1).mean(axis=dims)).plot(line_kws={'lw':1})\n",
    "        \n",
    "    ax.axhline(0, color='k', lw=0.5)\n",
    "    ax.tick_params(axis='both', labelsize=ticklabelsize, length=1.5, width=0.6)\n",
    "    ax.set_ylabel(ax.get_ylabel(), fontsize=labelsize, labelpad=0)\n",
    "    ax.set_xlabel(ax.get_xlabel(), fontsize=labelsize, labelpad=2)\n",
    "    \n",
    "    if i>0:\n",
    "        ax.set_ylabel('')\n",
    "        ax.yaxis.set_tick_params(length=0)\n",
    "    \n",
    "    xticks = {\n",
    "        'GBP6': [1.5, 2.5, 3.5],\n",
    "        'ARG1': [2, 3, 4],\n",
    "        'TMCC1': [2, 3, 4],\n",
    "        'PRDM1': [3, 4, 5],\n",
    "    }[name]\n",
    "    \n",
    "    ax.set_xticks(xticks)\n",
    "        \n",
    "plt.subplots_adjust(\n",
    "    left=mar_l / width,\n",
    "    right=1 - mar_r / width,\n",
    "    top=1 - mar_t / height,\n",
    "    bottom=mar_b / height,\n",
    ")\n",
    "\n",
    "panel = 'B'\n",
    "savefig()"
   ]
  }
 ],
 "metadata": {
  "kernelspec": {
   "display_name": "Python 3.10.6 ('candas')",
   "language": "python",
   "name": "python3"
  },
  "language_info": {
   "codemirror_mode": {
    "name": "ipython",
    "version": 3
   },
   "file_extension": ".py",
   "mimetype": "text/x-python",
   "name": "python",
   "nbconvert_exporter": "python",
   "pygments_lexer": "ipython3",
   "version": "3.10.6"
  },
  "vscode": {
   "interpreter": {
    "hash": "e723923f3ce7942ed7997078cee6e56c51bbc1fd61d76e9913b97f174c1ae87c"
   }
  }
 },
 "nbformat": 4,
 "nbformat_minor": 5
}
