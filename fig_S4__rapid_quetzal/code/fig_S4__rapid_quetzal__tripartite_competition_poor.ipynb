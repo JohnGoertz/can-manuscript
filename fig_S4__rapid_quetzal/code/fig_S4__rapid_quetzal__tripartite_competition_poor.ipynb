{
 "cells": [
  {
   "cell_type": "code",
   "execution_count": 1,
   "metadata": {},
   "outputs": [],
   "source": [
    "import numpy as np\n",
    "import pandas as pd\n",
    "import pathlib as pl\n",
    "import matplotlib as mpl\n",
    "\n",
    "mpl.use(\"Cairo\")  # for saving SVGs that Affinity Designer can parse\n",
    "import matplotlib.pyplot as plt\n",
    "import seaborn as sns\n",
    "import pickle as pkl\n",
    "\n",
    "from candas.test import QuantStudio\n",
    "from candas.lims import Librarian, library\n",
    "\n",
    "from tinydb import TinyDB\n",
    "\n",
    "lib = Librarian().load(library).open()"
   ]
  },
  {
   "cell_type": "code",
   "execution_count": 2,
   "metadata": {},
   "outputs": [],
   "source": [
    "code_pth = pl.Path.cwd()  # for running in Jupyter\n",
    "# code_pth = pl.Path(__file__)  # for running in terminal\n",
    "fig_pth = code_pth.parent\n",
    "data_pth = fig_pth / 'data'\n",
    "graph_pth = fig_pth / 'graphics'\n",
    "graph_pth.mkdir(exist_ok=True)\n",
    "\n",
    "plt.style.use('style.mplstyle')\n",
    "\n",
    "%config InlineBackend.figure_format = 'retina'\n",
    "\n",
    "from utils import savefig"
   ]
  },
  {
   "cell_type": "code",
   "execution_count": 3,
   "metadata": {},
   "outputs": [
    {
     "data": {
      "text/plain": [
       "<candas.test.import_QuantStudio.QuantStudio at 0x7f6f1cf26160>"
      ]
     },
     "execution_count": 3,
     "metadata": {},
     "output_type": "execute_result"
    }
   ],
   "source": [
    "db_file = data_pth / \"JG071A Reaction Specifications.json\"\n",
    "rxn_db = TinyDB(db_file)\n",
    "JG071A_rxns = pd.DataFrame(\n",
    "    [rxn[\"oligos\"] | {\"Sample\": rxn[\"name\"]} for rxn in rxn_db.all()]\n",
    ")\n",
    "\n",
    "cmax = 50\n",
    "\n",
    "file = data_pth / \"JG071A ARG1 Tripartite.xlsx\"\n",
    "JG071A = (\n",
    "    QuantStudio(file, \"JG071A\")\n",
    "    .import_data()\n",
    "    .format_reactions()\n",
    "    .index_reactions()\n",
    "    .subtract_background()\n",
    "    .drop(lambda df: df[\"Well\"].isin([281]))\n",
    "    .normalize_reactions(cmax=cmax, method=\"max\")\n",
    "    .invert_fluorophore(\"HEX\")\n",
    ")\n",
    "\n",
    "JG071A.reactions.data = JG071A.reactions.data.merge(JG071A_rxns)\n",
    "for oligo in [\"S036.0\", \"S057.0.1\", \"S057.1.2\"]:\n",
    "    JG071A.reactions.data[\"log$_{1}$$_{0}$ \" + oligo] = np.log10(\n",
    "        JG071A.reactions.data[oligo]\n",
    "    )\n",
    "\n",
    "JG071A.extract_endpoints(cmax=cmax, name=\"FAM-HEX\", method=\"diff\")"
   ]
  },
  {
   "cell_type": "code",
   "execution_count": 4,
   "metadata": {},
   "outputs": [],
   "source": [
    "width = 3.45\n",
    "height = 2.75\n",
    "figsize = (width, height)\n",
    "spotsize = 4**2\n",
    "ticklabelsize = 5\n",
    "labelsize = 6\n",
    "linewidth = 1\n",
    "\n",
    "palette = sns.diverging_palette(20, 220, as_cmap=True)\n",
    "\n",
    "mar_l = 0.3\n",
    "mar_r = 0.3\n",
    "mar_t = 0.22\n",
    "mar_b = 0.275\n",
    "ax_space = 0.075\n",
    "\n",
    "\n",
    "def format_sns_axes(g, xticks, xlim, ylim=None):\n",
    "    fig = g.figure\n",
    "    fig.set_size_inches(figsize)\n",
    "\n",
    "    # g.set_titles('')\n",
    "\n",
    "    ylim = ylim or [-1.1, 1.1]\n",
    "\n",
    "    plt.setp(\n",
    "        g.axes,\n",
    "        ylim=ylim,\n",
    "        yticks=[-1, -0.5, 0, 0.5, 1],\n",
    "        xticks=xticks,\n",
    "        xlim=xlim,\n",
    "        title=\"\",\n",
    "    )\n",
    "    for i, ax in enumerate(g.axes.flat):\n",
    "        ax.tick_params(axis=\"both\", labelsize=ticklabelsize, length=1, width=0.6)\n",
    "        ax.set_ylabel(ax.get_ylabel(), fontsize=labelsize, labelpad=0)\n",
    "        ax.set_xlabel(ax.get_xlabel(), fontsize=labelsize, labelpad=2)\n",
    "        # if i > 0:\n",
    "        #     ax.yaxis.set_tick_params(length=0)\n",
    "        ax.axhline(0, color=\"k\", linestyle=\"-\", linewidth=0.5, zorder=-1)\n",
    "\n",
    "    for (row, col), ax in g.axes_dict.items():\n",
    "        ax.set_title(\"\")\n",
    "\n",
    "        if col == 8.0:\n",
    "            ax2 = ax.twinx()\n",
    "            ax2.set_yticks([])\n",
    "            ax2.set_ylabel(\n",
    "                f\"{row:.1f}\", va=\"bottom\", fontsize=labelsize, rotation=270, labelpad=1\n",
    "            )\n",
    "            if row == 5.0:\n",
    "                ax2.set_ylabel(\n",
    "                    f\"log$_{1}$$_{0}$ Copies Competitor 2\\n{row:.1f}\",\n",
    "                    va=\"bottom\",\n",
    "                    fontsize=labelsize,\n",
    "                    rotation=270,\n",
    "                    labelpad=1,\n",
    "                )\n",
    "\n",
    "        if row == 8.0:\n",
    "            ax.set_title(f\"{col:.1f}\", fontsize=labelsize, pad=2)\n",
    "            if col == 5.0:\n",
    "                ax.set_title(\n",
    "                    f\"log$_{1}$$_{0}$ Copies Competitor 1\\n{col:.1f}\",\n",
    "                    fontsize=labelsize,\n",
    "                    pad=2,\n",
    "                )\n",
    "\n",
    "        if ax != g.axes[-1, 0]:\n",
    "            ax.set_xlabel(\"\")\n",
    "            ax.set_ylabel(\"\")\n",
    "\n",
    "    bbox = ax.get_window_extent().transformed(ax.figure.dpi_scale_trans.inverted())\n",
    "    ax_width, ax_height = bbox.width, bbox.height\n",
    "\n",
    "    plt.subplots_adjust(\n",
    "        left=mar_l / width,\n",
    "        right=1 - mar_r / width,\n",
    "        top=1 - mar_t / height,\n",
    "        bottom=mar_b / height,\n",
    "        wspace=ax_space / ax_width,\n",
    "        hspace=ax_space / ax_height,\n",
    "    )"
   ]
  },
  {
   "cell_type": "code",
   "execution_count": 5,
   "metadata": {},
   "outputs": [
    {
     "name": "stdout",
     "output_type": "stream",
     "text": [
      "Saving fig_S4A__distant_rhea in /home/john/projects/can-manuscript/fig_S4__rapid_quetzal/graphics: [.svg] [.png] done\n"
     ]
    }
   ],
   "source": [
    "hue = \"log$_{1}$$_{0}$ S036.0\"\n",
    "extent = np.max(np.abs(JG071A.reactions.wide[hue]))\n",
    "norm = mpl.colors.Normalize(\n",
    "    vmin=JG071A.reactions.wide[hue].min(), vmax=JG071A.reactions.wide[hue].max()\n",
    ")\n",
    "\n",
    "g = sns.relplot(\n",
    "    data=JG071A.reactions.data.query(\"Cycle<=@cmax\"),\n",
    "    x=\"Cycle\",\n",
    "    y=\"Fluorescence\",\n",
    "    col=\"log$_{1}$$_{0}$ S057.0.1\",\n",
    "    row=\"log$_{1}$$_{0}$ S057.1.2\",\n",
    "    units=\"Reaction\",\n",
    "    hue=hue,\n",
    "    legend=False,\n",
    "    palette=\"ch:0_r\",\n",
    "    hue_norm=norm,\n",
    "    kind=\"line\",\n",
    "    estimator=None,\n",
    "    linewidth=linewidth,\n",
    "    row_order=JG071A.reactions.data[\"log$_{1}$$_{0}$ S057.1.2\"].unique()[::-1],\n",
    "    facet_kws={\"margin_titles\": False, \"despine\": False},\n",
    ")\n",
    "\n",
    "\n",
    "g.set_ylabels(r\"$\\leftarrow$ HEX    FAM $\\rightarrow$\")\n",
    "g.refline(y=0, color=\"k\", linestyle=\"-\", linewidth=0.5)\n",
    "format_sns_axes(g, xticks=[0, 10, 20, 30, 40, 50], xlim=[-2.5, 52.5])\n",
    "\n",
    "g.set_yticklabels([1.0, 0.5, 0.0, 0.5, 1.0])\n",
    "\n",
    "savefig(plt.gcf(), alias='distant_rhea')"
   ]
  },
  {
   "cell_type": "code",
   "execution_count": 6,
   "metadata": {},
   "outputs": [
    {
     "name": "stdout",
     "output_type": "stream",
     "text": [
      "Saving fig_S4B__crimson_stingray in /home/john/projects/can-manuscript/fig_S4__rapid_quetzal/graphics: [.svg] [.png] done\n"
     ]
    }
   ],
   "source": [
    "endpoints = JG071A.endpoints\n",
    "\n",
    "hue = \"FAM-HEX\"\n",
    "extent = np.max(np.abs(endpoints[hue]))\n",
    "norm = mpl.colors.Normalize(vmin=-extent, vmax=+extent)\n",
    "data = endpoints[endpoints.Reporter == \"FAM\"]\n",
    "\n",
    "g = sns.relplot(\n",
    "    data=endpoints[endpoints.Reporter == \"FAM\"],\n",
    "    x=\"log$_{1}$$_{0}$ S036.0\",\n",
    "    y=hue,\n",
    "    col=\"log$_{1}$$_{0}$ S057.0.1\",\n",
    "    row=\"log$_{1}$$_{0}$ S057.1.2\",\n",
    "    hue=hue,\n",
    "    hue_norm=norm,\n",
    "    legend=False,\n",
    "    palette=palette,\n",
    "    kind=\"scatter\",\n",
    "    s=spotsize,\n",
    "    row_order=endpoints[\"log$_{1}$$_{0}$ S057.1.2\"].unique()[::-1],\n",
    "    facet_kws={\"margin_titles\": False, \"despine\": False},\n",
    ")\n",
    "\n",
    "g.refline(y=0, color=\"k\", linestyle=\"-\", linewidth=0.5)\n",
    "format_sns_axes(g, xticks=[2, 4, 6, 8], xlim=[0.5, 8.5])\n",
    "\n",
    "g.axes[-1, 0].set_xlabel(\"log10 Copies Target\")\n",
    "\n",
    "savefig(plt.gcf(), alias='crimson_stingray')"
   ]
  },
  {
   "cell_type": "code",
   "execution_count": null,
   "metadata": {},
   "outputs": [],
   "source": []
  }
 ],
 "metadata": {
  "jupytext": {
   "formats": "py,ipynb"
  },
  "kernelspec": {
   "display_name": "can_manuscript",
   "language": "python",
   "name": "python3"
  },
  "language_info": {
   "codemirror_mode": {
    "name": "ipython",
    "version": 3
   },
   "file_extension": ".py",
   "mimetype": "text/x-python",
   "name": "python",
   "nbconvert_exporter": "python",
   "pygments_lexer": "ipython3",
   "version": "3.9.16"
  }
 },
 "nbformat": 4,
 "nbformat_minor": 2
}
