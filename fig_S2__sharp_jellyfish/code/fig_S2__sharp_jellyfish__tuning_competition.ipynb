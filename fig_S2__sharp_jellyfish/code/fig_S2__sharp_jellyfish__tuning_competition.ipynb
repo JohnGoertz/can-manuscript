{
 "cells": [
  {
   "cell_type": "code",
   "execution_count": 1,
   "metadata": {},
   "outputs": [],
   "source": [
    "import candas as can\n",
    "import numpy as np\n",
    "import pandas as pd\n",
    "import pathlib as pl\n",
    "import matplotlib as mpl\n",
    "\n",
    "mpl.use(\"Cairo\")  # for saving SVGs that Affinity Designer can parse\n",
    "import matplotlib.pyplot as plt\n",
    "import seaborn as sns\n",
    "\n",
    "from candas.test import QuantStudio\n",
    "from candas.lims import Librarian, library, Fragment"
   ]
  },
  {
   "cell_type": "markdown",
   "metadata": {},
   "source": [
    "# Global Figure parameters"
   ]
  },
  {
   "cell_type": "code",
   "execution_count": 2,
   "metadata": {},
   "outputs": [],
   "source": [
    "code_pth = pl.Path.cwd()  # for running in Jupyter\n",
    "# code_pth = pl.Path(__file__)  # for running in terminal\n",
    "fig_pth = code_pth.parent\n",
    "data_pth = fig_pth / 'data'\n",
    "graph_pth = fig_pth / 'graphics'\n",
    "graph_pth.mkdir(exist_ok=True)\n",
    "\n",
    "plt.style.use('style.mplstyle')\n",
    "\n",
    "%config InlineBackend.figure_format = 'retina'\n",
    "\n",
    "from utils import savefig"
   ]
  },
  {
   "cell_type": "code",
   "execution_count": 3,
   "metadata": {},
   "outputs": [],
   "source": [
    "width = 3.65\n",
    "height = 0.829\n",
    "figsize = (width, height)\n",
    "ticklabelsize = 6\n",
    "labelsize = 6\n",
    "spotsize = 6**2\n",
    "xticks = [2, 4, 6, 8]\n",
    "\n",
    "palette = sns.diverging_palette(20, 220, as_cmap=True)\n",
    "\n",
    "mar_l = 0.275\n",
    "mar_r = 0.04\n",
    "mar_t = 0.04\n",
    "mar_b = 0.27"
   ]
  },
  {
   "cell_type": "code",
   "execution_count": 4,
   "metadata": {},
   "outputs": [],
   "source": [
    "def format_sns_axes(g):\n",
    "    fig = g.figure\n",
    "    fig.set_size_inches(figsize)\n",
    "\n",
    "    plt.setp(\n",
    "        g.axes,\n",
    "        ylim=[-1.1, 1.1],\n",
    "        xticks=xticks,\n",
    "        xlim=[1, 9],\n",
    "        xlabel=\"\",\n",
    "        xticklabels=\"\",\n",
    "        title=\"\",\n",
    "    )\n",
    "    for i, ax in enumerate(g.axes.flat):\n",
    "        ax.tick_params(axis=\"both\", labelsize=ticklabelsize, length=1.5, width=0.6)\n",
    "        ax.set_ylabel(ax.get_ylabel(), fontsize=labelsize, labelpad=0)\n",
    "        ax.set_xlabel(ax.get_xlabel(), fontsize=labelsize, labelpad=2)\n",
    "        if i > 0:\n",
    "            ax.yaxis.set_tick_params(length=0)\n",
    "        ax.axhline(0, color=\"k\", linestyle=\"-\", linewidth=0.5, zorder=-1)\n",
    "\n",
    "    plt.subplots_adjust(\n",
    "        left=mar_l / width,\n",
    "        right=1 - mar_r / width,\n",
    "        top=1 - mar_t / height,\n",
    "        bottom=mar_b / height,\n",
    "    )"
   ]
  },
  {
   "cell_type": "markdown",
   "metadata": {},
   "source": [
    "# Import Data"
   ]
  },
  {
   "cell_type": "code",
   "execution_count": 5,
   "metadata": {},
   "outputs": [
    {
     "name": "stdout",
     "output_type": "stream",
     "text": [
      "Processing JG063A\n",
      "Processing JG063B\n",
      "Processing JG063I\n",
      "Processing JG034\n"
     ]
    }
   ],
   "source": [
    "cmax = 40\n",
    "\n",
    "JG063A = QuantStudio(data_pth / \"JG063A Competitor Concentration Sweep.xlsx\", \"JG063A\")\n",
    "JG063B = QuantStudio(\n",
    "    data_pth / \"JG063B Competitor concentration sweep 2.xlsx\", \"JG063B\"\n",
    ")\n",
    "JG063I = QuantStudio(data_pth / \"JG063I Primer Probe Sweep 5 logs.xlsx\", \"JG063I\")\n",
    "JG034 = QuantStudio(data_pth / \"JG034 TMCC1 Gen2 Competitors - 59C v3.xlsx\", \"JG034\")\n",
    "\n",
    "for qs in [JG063A, JG063B, JG063I, JG034]:\n",
    "    print(f\"Processing {qs.experiment}\")\n",
    "    (qs.import_data().format_reactions().index_reactions().subtract_background())\n",
    "\n",
    "    qs.reactions.data.drop(\n",
    "        qs.reactions.data.index[qs.reactions.data.Well == 281], inplace=True\n",
    "    )\n",
    "\n",
    "    (qs.normalize_reactions(cmax=cmax, method=\"max\").invert_fluorophore(\"HEX\"))\n",
    "\n",
    "    if qs.experiment == \"JG063I\":\n",
    "        primerprobe = (\n",
    "            qs.reactions.data.Sample.str.split(\" \", expand=True)[0]\n",
    "            .str.split(\"+\", expand=True)\n",
    "            .rename(columns={0: \"Primer nM\", 1: \"Probe nM\"})\n",
    "        )\n",
    "\n",
    "        qs.reactions.data = qs.reactions.data.merge(\n",
    "            primerprobe, left_index=True, right_index=True\n",
    "        )\n",
    "    elif qs.experiment == \"JG034\":\n",
    "        qs.reactions.data.Target = qs.reactions.data.Target.str.split(\" - \").map(\n",
    "            lambda row: row[0]\n",
    "        )\n",
    "\n",
    "    # Denote competitor and WT concentration in each well\n",
    "    syn_copies = qs.reactions.wide.query('Reporter==\"HEX\"')[\n",
    "        [\"Well\", \"lg10_Copies\"]\n",
    "    ].rename(columns={\"lg10_Copies\": \"SYN_Copies\"})\n",
    "    wt_copies = qs.reactions.wide.query('Reporter==\"FAM\"')[\n",
    "        [\"Well\", \"lg10_Copies\"]\n",
    "    ].rename(columns={\"lg10_Copies\": \"WT_Copies\"})\n",
    "    qs.reactions.data = qs.reactions.data.merge(syn_copies, on=\"Well\").merge(\n",
    "        wt_copies, on=\"Well\"\n",
    "    )\n",
    "\n",
    "    if qs.experiment in [\"JG063A\", \"JG063B\"]:\n",
    "        qs.reactions.data = qs.reactions.data.assign(Target=qs.reactions.data.Sample)\n",
    "\n",
    "    qs.reactions.neaten()\n",
    "    qs.extract_endpoints(cmax=cmax, name=\"FAM-HEX\", method=\"diff\")"
   ]
  },
  {
   "cell_type": "markdown",
   "metadata": {},
   "source": [
    "# Plotting"
   ]
  },
  {
   "cell_type": "code",
   "execution_count": 6,
   "metadata": {},
   "outputs": [],
   "source": [
    "hue = \"FAM-HEX\"\n",
    "norm = mpl.colors.Normalize(vmin=-1, vmax=+1)"
   ]
  },
  {
   "cell_type": "markdown",
   "metadata": {},
   "source": [
    "## Competitor concentration"
   ]
  },
  {
   "cell_type": "code",
   "execution_count": 7,
   "metadata": {},
   "outputs": [
    {
     "name": "stdout",
     "output_type": "stream",
     "text": [
      "Saving fig_S2A__dull_koala in /home/john/projects/can-manuscript/fig_S2__sharp_jellyfish/graphics: [.svg] [.png] done\n"
     ]
    }
   ],
   "source": [
    "from copy import copy\n",
    "\n",
    "JG063A_lim = copy(JG063A)\n",
    "\n",
    "JG063A_lim.reactions.data = JG063A_lim.reactions.data[\n",
    "    JG063A_lim.reactions.data[\"Sample\"] == \"S056.4.2_vs_S056.4.12\"\n",
    "]\n",
    "\n",
    "(\n",
    "    JG063A_lim.invert_fluorophore(\"HEX\")\n",
    "    .normalize_reactions(cmax=cmax, method=\"min-max\")\n",
    "    .invert_fluorophore(\"HEX\")\n",
    "    .extract_endpoints(cmax=cmax, name=\"FAM-HEX\", method=\"bipolar\")\n",
    ")\n",
    "\n",
    "this = JG063A_lim.endpoints[\n",
    "    (JG063A_lim.endpoints[\"Sample\"] == \"S056.4.2_vs_S056.4.12\")\n",
    "    & (JG063A_lim.endpoints[\"WT_Copies\"] > 1)\n",
    "]\n",
    "\n",
    "g = sns.relplot(\n",
    "    data=this,\n",
    "    x=\"lg10_Copies\",\n",
    "    y=\"FAM-HEX\",\n",
    "    col=\"SYN_Copies\",\n",
    "    hue=\"FAM-HEX\",\n",
    "    legend=False,\n",
    "    palette=palette,\n",
    "    hue_norm=norm,\n",
    "    kind=\"scatter\",\n",
    "    s=spotsize,\n",
    "    facet_kws={\"margin_titles\": False, \"despine\": False},\n",
    ")\n",
    "\n",
    "format_sns_axes(g)\n",
    "\n",
    "for cps, ax in g.axes_dict.items():\n",
    "    ax.set_title(\"\")\n",
    "    # ax.set_title(f'{int(cps)}', fontsize=labelsize, pad=2)\n",
    "\n",
    "savefig(plt.gcf(), alias=\"dull_koala\")"
   ]
  },
  {
   "cell_type": "markdown",
   "metadata": {},
   "source": [
    "## Sequence Design"
   ]
  },
  {
   "cell_type": "code",
   "execution_count": 8,
   "metadata": {},
   "outputs": [],
   "source": [
    "lib = Librarian().load(library).open()\n",
    "\n",
    "targets = [\"S056.4.3\", \"S056.4.1\", \"GC55\", \"S056.4.4\", \"GC15\"]\n",
    "target_codes = [\"S056.4.3\", \"S056.4.1\", \"S044.14\", \"S056.4.4\", \"S044.9\"]\n",
    "\n",
    "bp_gc = lib.bp_gc_by(Fragment).set_index(\"Name\")"
   ]
  },
  {
   "cell_type": "code",
   "execution_count": 9,
   "metadata": {},
   "outputs": [
    {
     "name": "stdout",
     "output_type": "stream",
     "text": [
      "Saving fig_S2B__bright_lizard in /home/john/projects/can-manuscript/fig_S2__sharp_jellyfish/graphics: [.svg] [.png] done\n"
     ]
    }
   ],
   "source": [
    "endpoints = pd.concat(\n",
    "    [\n",
    "        (\n",
    "            JG063A.endpoints[\n",
    "                (\n",
    "                    (JG063A.endpoints.SYN_Copies == 5)\n",
    "                    & (JG063A.endpoints.Sample == \"S056.4.2_vs_S056.4.12\")\n",
    "                )\n",
    "                | (\n",
    "                    (JG063A.endpoints.SYN_Copies == 5)\n",
    "                    & (JG063A.endpoints.Sample == \"S056.4.4_vs_S056.4.12\")\n",
    "                )\n",
    "            ].assign(Target=lambda df: df.Target.str.split(\"_\").str[0])\n",
    "        ),\n",
    "        (\n",
    "            JG063B.endpoints[\n",
    "                (\n",
    "                    (JG063B.endpoints.SYN_Copies == 4)\n",
    "                    & (JG063B.endpoints.Sample == \"S056.4.1_vs_S056.4.12\")\n",
    "                )\n",
    "                | (\n",
    "                    (JG063B.endpoints.SYN_Copies == 6)\n",
    "                    & (JG063B.endpoints.Sample == \"S056.4.3_vs_S056.4.12\")\n",
    "                )\n",
    "            ].assign(Target=lambda df: df.Target.str.split(\"_\").str[0])\n",
    "        ),\n",
    "        JG034.endpoints,\n",
    "    ]\n",
    ")\n",
    "\n",
    "endpoints = endpoints[endpoints[\"Target\"].isin(targets) & (endpoints[\"WT_Copies\"] > 1)]\n",
    "\n",
    "for target in targets:\n",
    "    this_data = endpoints[\"Target\"] == target\n",
    "    mn = endpoints.loc[this_data, \"FAM-HEX\"].min()\n",
    "    mx = endpoints.loc[this_data, \"FAM-HEX\"].max()\n",
    "    endpoints.loc[this_data, \"FAM-HEX\"] = (endpoints.loc[this_data, \"FAM-HEX\"] - mn) / (\n",
    "        mx - mn\n",
    "    ) * 2 - 1\n",
    "\n",
    "\n",
    "g = sns.relplot(\n",
    "    data=endpoints,\n",
    "    x=\"WT_Copies\",\n",
    "    y=\"FAM-HEX\",\n",
    "    col=\"Target\",\n",
    "    col_order=targets,\n",
    "    hue=\"FAM-HEX\",\n",
    "    palette=palette,\n",
    "    legend=False,\n",
    "    kind=\"scatter\",\n",
    "    s=spotsize,\n",
    "    facet_kws={\"margin_titles\": False, \"despine\": False},\n",
    ")\n",
    "\n",
    "format_sns_axes(g)\n",
    "\n",
    "for code, (target, ax) in zip(target_codes, g.axes_dict.items()):\n",
    "    bp, gc = bp_gc.loc[code][[\"BP\", \"GC\"]]\n",
    "    title = f\"{int(bp)} bp, {int(np.round(gc*100))}%\"\n",
    "    ax.set_title(\"\")\n",
    "    # ax.set_title(title, fontsize=labelsize, pad=2)\n",
    "\n",
    "savefig(plt.gcf(), alias=\"bright_lizard\")"
   ]
  },
  {
   "cell_type": "markdown",
   "metadata": {},
   "source": [
    "## Primer Concentration"
   ]
  },
  {
   "cell_type": "code",
   "execution_count": 10,
   "metadata": {},
   "outputs": [
    {
     "name": "stdout",
     "output_type": "stream",
     "text": [
      "Saving fig_S2C__dim_mongoose in /home/john/projects/can-manuscript/fig_S2__sharp_jellyfish/graphics: [.svg] [.png] done\n"
     ]
    }
   ],
   "source": [
    "this = JG063I.endpoints[\n",
    "    (JG063I.endpoints[\"Probe nM\"] == \"200\") & (JG063I.endpoints[\"WT_Copies\"] > 1)\n",
    "]\n",
    "\n",
    "g = sns.relplot(\n",
    "    data=this,\n",
    "    x=\"WT_Copies\",\n",
    "    y=\"FAM-HEX\",\n",
    "    col=\"Primer nM\",\n",
    "    hue=\"FAM-HEX\",\n",
    "    legend=False,\n",
    "    palette=palette,\n",
    "    hue_norm=norm,\n",
    "    kind=\"scatter\",\n",
    "    s=spotsize,\n",
    "    facet_kws={\"margin_titles\": True, \"despine\": False},\n",
    ")\n",
    "\n",
    "format_sns_axes(g)\n",
    "\n",
    "for nM, ax in g.axes_dict.items():\n",
    "    ax.set_xticklabels(xticks)\n",
    "    ax.set_xlabel(\"log$_{10}$ Copies\", fontsize=labelsize, labelpad=2)\n",
    "    ax.set_title(\"\")\n",
    "    # ax.set_title(f'{int(nM)}', fontsize=labelsize, pad=2)\n",
    "\n",
    "savefig(plt.gcf(), \"dim_mongoose\")"
   ]
  }
 ],
 "metadata": {
  "jupytext": {
   "formats": "py,ipynb"
  },
  "kernelspec": {
   "display_name": "can_manuscript",
   "language": "python",
   "name": "python3"
  },
  "language_info": {
   "codemirror_mode": {
    "name": "ipython",
    "version": 3
   },
   "file_extension": ".py",
   "mimetype": "text/x-python",
   "name": "python",
   "nbconvert_exporter": "python",
   "pygments_lexer": "ipython3",
   "version": "3.9.16"
  }
 },
 "nbformat": 4,
 "nbformat_minor": 2
}
