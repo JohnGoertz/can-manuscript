{
 "cells": [
  {
   "cell_type": "code",
   "execution_count": 1,
   "metadata": {},
   "outputs": [],
   "source": [
    "import numpy as np\n",
    "import pandas as pd\n",
    "import matplotlib as mpl\n",
    "mpl.use('Cairo')  # for saving SVGs that Affinity Designer can parse\n",
    "import matplotlib.pyplot as plt\n",
    "import seaborn as sns\n",
    "import dill\n",
    "\n",
    "from candas.utils import setup_paths\n",
    "from candas.style import breve\n",
    "from candas.learn import ParameterSet\n",
    "import gumbi as gmb\n",
    "import pathlib as pl\n",
    "\n",
    "code_pth = pl.Path.cwd()  # for running in Jupyter\n",
    "# code_pth = pl.Path(__file__)  # for running in terminal\n",
    "fig_pth = code_pth.parent\n",
    "data_pth = fig_pth / 'data'\n",
    "graph_pth = fig_pth / 'graphics'\n",
    "graph_pth.mkdir(exist_ok=True)\n",
    "\n",
    "gen_pth = fig_pth / 'generated'\n",
    "gen_pth.mkdir(exist_ok=True)\n",
    "plt.style.use(str(breve))\n",
    "\n",
    "%config InlineBackend.figure_format = 'retina'"
   ]
  },
  {
   "cell_type": "code",
   "execution_count": 2,
   "metadata": {},
   "outputs": [],
   "source": [
    "fig_num = 2\n",
    "\n",
    "\n",
    "def savefig(fig, title):\n",
    "    print(f\"Saving {title} in {graph_pth}:\", end=\"\")\n",
    "    for ext in [\"svg\", \"png\"]:\n",
    "        try:\n",
    "            fig.savefig(graph_pth / f\"{title}.{ext}\", dpi=600, transparent=True)\n",
    "            print(f\" [.{ext}]\", end=\"\")\n",
    "        except AttributeError:\n",
    "            print(f\" [.{ext} failed]\", end=\"\")\n",
    "    print(\" done\")"
   ]
  },
  {
   "cell_type": "code",
   "execution_count": 3,
   "metadata": {},
   "outputs": [],
   "source": [
    "with open(gen_pth / \"Model_Avg_predictions.pkl\", \"rb\") as f:\n",
    "    avg_model_r = dill.load(f)[\"r\"]"
   ]
  },
  {
   "cell_type": "code",
   "execution_count": 4,
   "metadata": {},
   "outputs": [
    {
     "name": "stderr",
     "output_type": "stream",
     "text": [
      "/tmp/ipykernel_8713/3371070553.py:9: FutureWarning: The default value of numeric_only in DataFrameGroupBy.mean is deprecated. In a future version, numeric_only will default to False. Either specify numeric_only or select only columns which should be valid for the function.\n",
      "  ps.wide.query('Metric == \"mean\"')\n"
     ]
    }
   ],
   "source": [
    "ps = ParameterSet.load(data_pth / \"ADVI_ParameterSets_220528.pkl\")\n",
    "\n",
    "\n",
    "def make_pair(row):\n",
    "    return \"-\".join(sorted([row.FPrimer, row.RPrimer]))\n",
    "\n",
    "\n",
    "data = (\n",
    "    ps.wide.query('Metric == \"mean\"')\n",
    "    .astype({\"BP\": float})\n",
    "    .assign(PrimerPair=lambda df: df.apply(make_pair, axis=1))\n",
    "    .groupby([\"Target\", \"PrimerPair\", \"Reporter\"])\n",
    "    .mean()\n",
    "    .reset_index()\n",
    ")\n",
    "\n",
    "ds = gmb.DataSet(\n",
    "    data=data,\n",
    "    outputs=[\"F0_lg\", \"r\", \"K\", \"m\"],\n",
    "    log_vars=[\"BP\", \"K\", \"m\", \"r\"],\n",
    "    logit_vars=[\"GC\"],\n",
    ")\n",
    "\n",
    "selected = (\n",
    "    data.groupby([\"PrimerPair\", \"Reporter\"])\n",
    "    .size()\n",
    "    .reset_index()\n",
    "    .rename(columns={0: \"Observations\"})\n",
    "    .sort_values(\"Observations\", ascending=False)\n",
    "    .reset_index(drop=True)\n",
    ").iloc[[0, 1, 4, 5, 6, 8, 38, 39, 42]]"
   ]
  },
  {
   "cell_type": "code",
   "execution_count": 5,
   "metadata": {},
   "outputs": [],
   "source": [
    "with open(gen_pth / \"Model_LMC_predictions.pkl\", \"rb\") as f:\n",
    "    predictions_dict = dill.load(f)\n",
    "\n",
    "all_r = [predictions_dict[f\"r{i}\"] for i in range(9)]\n",
    "BP = predictions_dict[\"BP\"]\n",
    "GC = predictions_dict[\"GC\"]\n",
    "\n",
    "limits = BP.parray(GC=[0.2, 0.8], BP=[10, 600])"
   ]
  },
  {
   "cell_type": "code",
   "execution_count": 6,
   "metadata": {
    "lines_to_next_cell": 2
   },
   "outputs": [
    {
     "name": "stdout",
     "output_type": "stream",
     "text": [
      "Saving Fig_2_D in /home/john/projects/CAN_paper/fig_2/graphics: [.svg] [.png] done\n"
     ]
    }
   ],
   "source": [
    "width = 3.45\n",
    "height = 3.31\n",
    "figsize = (width, height)\n",
    "spotsize = 20\n",
    "linewidth = 2\n",
    "ticklabelsize = 8\n",
    "labelsize = 10\n",
    "titlesize = labelsize + 2\n",
    "\n",
    "# Set rcParams for plotting\n",
    "mpl.rc(\"xtick\", labelsize=ticklabelsize)\n",
    "mpl.rc(\"ytick\", labelsize=ticklabelsize)\n",
    "mpl.rc(\"axes\", labelsize=labelsize, titlesize=titlesize, linewidth=1)\n",
    "\n",
    "fig, axs = plt.subplots(3, 3, figsize=figsize, sharey=True, sharex=True)\n",
    "\n",
    "rnorm = mpl.colors.Normalize(vmin=0.23, vmax=1.03)\n",
    "\n",
    "for i, (r, ax, row) in enumerate(zip(all_r, axs.flat, selected.itertuples())):\n",
    "    plt.sca(ax)\n",
    "    pp = gmb.ParrayPlotter(\n",
    "        x=GC,\n",
    "        y=BP,\n",
    "        z=r,\n",
    "        #    x_scale='standardized',\n",
    "        y_scale=\"standardized\",\n",
    "    )\n",
    "\n",
    "    step = 0.05\n",
    "    levels = (\n",
    "        np.arange(np.floor(rnorm.vmin / step), np.ceil(rnorm.vmax / step) + 1) * step\n",
    "    )\n",
    "    cs = pp(plt.contourf, levels=levels, cmap=\"flare_r\", norm=rnorm)\n",
    "    # pp.colorbar(cs)\n",
    "\n",
    "    yticks = BP.parray(BP=[10, 30, 100, 300])\n",
    "    ax.set_yticks(yticks[\"BP\"].z.values())\n",
    "    ax.set_yticklabels(map(int, yticks.values()))\n",
    "\n",
    "    xticks = GC.parray(GC=[0.25, 0.5, 0.75])\n",
    "    ax.set_xticks(xticks[\"GC\"].values())\n",
    "    ax.set_xticklabels(map(int, 100 * xticks.values()))\n",
    "\n",
    "    # if i%3 != 0:\n",
    "    #     ax.set_ylabel('')\n",
    "    # if i//3 != 2:\n",
    "    #     ax.set_xlabel('')\n",
    "    ax.set_ylabel(\"\")\n",
    "    ax.set_xlabel(\"\")\n",
    "\n",
    "    gc = ds.wide.query(\"Reporter == @row.Reporter and PrimerPair == @row.PrimerPair\").GC\n",
    "    bp = ds.wide.z.query(\n",
    "        \"Reporter == @row.Reporter and PrimerPair == @row.PrimerPair\"\n",
    "    ).BP\n",
    "    rs = ds.wide.query(\"Reporter == @row.Reporter and PrimerPair == @row.PrimerPair\").r\n",
    "\n",
    "    ax.scatter(\n",
    "        gc,\n",
    "        bp,\n",
    "        #    c='0.5', s=1,\n",
    "        c=rs,\n",
    "        edgecolor=\"0.8\",\n",
    "        linewidths=0.5,\n",
    "        s=spotsize,\n",
    "        cmap=\"flare_r\",\n",
    "        norm=rnorm,\n",
    "    )\n",
    "\n",
    "    ax.set_xlim([0.2, 0.8])\n",
    "\n",
    "    cs = ax.contour(\n",
    "        GC.values(),\n",
    "        BP.z.values(),\n",
    "        r.σ,\n",
    "        levels=[0.05, 0.10, 0.15, 0.20, 0.25],\n",
    "        colors=\"0.2\",\n",
    "        linestyles=\"--\",\n",
    "        linewidths=1,\n",
    "    )\n",
    "    ax.clabel(cs, fontsize=ticklabelsize)\n",
    "\n",
    "\n",
    "axs[1, 0].set_ylabel(\"Length (bp)\")\n",
    "axs[-1, 1].set_xlabel(\"GC content (%)\")\n",
    "\n",
    "\n",
    "mar_l = 0.55\n",
    "mar_r = 0.1\n",
    "mar_t = 0.22\n",
    "mar_b = 0.48\n",
    "\n",
    "plt.subplots_adjust(\n",
    "    left=mar_l / width,\n",
    "    right=1 - mar_r / width,\n",
    "    top=1 - mar_t / height,\n",
    "    bottom=mar_b / height,\n",
    ")\n",
    "\n",
    "panel = \"D\"\n",
    "\n",
    "savefig(fig, f\"Fig_{fig_num}_{panel}\")"
   ]
  }
 ],
 "metadata": {
  "jupytext": {
   "formats": "py,ipynb"
  },
  "kernelspec": {
   "display_name": "manuscript_venv",
   "language": "python",
   "name": "python3"
  },
  "language_info": {
   "codemirror_mode": {
    "name": "ipython",
    "version": 3
   },
   "file_extension": ".py",
   "mimetype": "text/x-python",
   "name": "python",
   "nbconvert_exporter": "python",
   "pygments_lexer": "ipython3",
   "version": "3.9.16"
  },
  "vscode": {
   "interpreter": {
    "hash": "3db5140dc9ab6e43a95aad46deb2a20dad4234c77fa3b10e712a0ca16b540fb8"
   }
  }
 },
 "nbformat": 4,
 "nbformat_minor": 2
}
