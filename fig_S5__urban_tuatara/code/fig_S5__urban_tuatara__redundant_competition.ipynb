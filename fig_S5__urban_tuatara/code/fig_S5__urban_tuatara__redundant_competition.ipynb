{
 "cells": [
  {
   "cell_type": "markdown",
   "metadata": {},
   "source": [
    "# Imports"
   ]
  },
  {
   "cell_type": "code",
   "execution_count": 1,
   "metadata": {},
   "outputs": [],
   "source": [
    "import numpy as np\n",
    "import pandas as pd\n",
    "import matplotlib as mpl\n",
    "mpl.use('Cairo')  # for saving SVGs that Affinity Designer can parse\n",
    "import matplotlib.pyplot as plt\n",
    "import seaborn as sns\n",
    "\n",
    "from candas.test import QuantStudio     \n",
    "from candas.lims import Librarian, library\n",
    "\n",
    "from tinydb import TinyDB\n",
    "lib = Librarian().load(library).open()"
   ]
  },
  {
   "cell_type": "code",
   "execution_count": 2,
   "metadata": {},
   "outputs": [],
   "source": [
    "import pathlib as pl\n",
    "\n",
    "code_pth = pl.Path.cwd()  # for running in Jupyter\n",
    "# code_pth = pl.Path(__file__)  # for running in terminal\n",
    "fig_pth = code_pth.parent\n",
    "data_pth = fig_pth / 'data'\n",
    "graph_pth = fig_pth / 'graphics'\n",
    "graph_pth.mkdir(exist_ok=True)"
   ]
  },
  {
   "cell_type": "markdown",
   "metadata": {},
   "source": [
    "# Figure formatting"
   ]
  },
  {
   "cell_type": "code",
   "execution_count": 4,
   "metadata": {},
   "outputs": [],
   "source": [
    "fig_num = 6\n",
    "plt.style.use('style.mplstyle')\n",
    "\n",
    "%config InlineBackend.figure_format = 'retina'\n",
    "\n",
    "panel = None\n",
    "subpanel = None\n",
    "\n",
    "def savefig(fig=None, title=None):\n",
    "    fig = fig or plt.gcf()\n",
    "    title = title or 'Fig_'+'_'.join([str(el) for el in [fig_num, panel, subpanel] if el is not None])\n",
    "    print(f'Saving {title} in {graph_pth}:', end='')\n",
    "    for ext in ['svg', 'png']:\n",
    "        print(f' [.{ext}]', end='')\n",
    "        fig.savefig(graph_pth / f'{title}.{ext}', dpi=600, transparent=True)\n",
    "    print(' done')"
   ]
  },
  {
   "cell_type": "code",
   "execution_count": 5,
   "metadata": {},
   "outputs": [],
   "source": [
    "width = 3.45\n",
    "height = 2.75\n",
    "figsize = (width, height)\n",
    "spotsize = 4**2\n",
    "ticklabelsize = 5\n",
    "labelsize = 6\n",
    "linewidth = 1\n",
    "\n",
    "palette = sns.diverging_palette(20, 220, as_cmap=True)\n",
    "\n",
    "mar_l = 0.3\n",
    "mar_r = 0.3\n",
    "mar_t = 0.22\n",
    "mar_b = 0.275\n",
    "ax_space = 0.075\n",
    "\n",
    "def format_sns_axes(g, xticks, xlim, ylim=None):\n",
    "    fig = g.figure\n",
    "    fig.set_size_inches(figsize)\n",
    "    \n",
    "    # g.set_titles('')\n",
    "\n",
    "    ylim = ylim or [-1.1, 1.1]\n",
    "\n",
    "    plt.setp(\n",
    "        g.axes,\n",
    "        ylim=ylim,\n",
    "        yticks=[-1, -0.5, 0, 0.5, 1],\n",
    "        xticks=xticks,\n",
    "        xlim=xlim,\n",
    "        title=\"\",\n",
    "    )\n",
    "    for i, ax in enumerate(g.axes.flat):\n",
    "        ax.tick_params(axis=\"both\", labelsize=ticklabelsize, length=1, width=0.6)\n",
    "        ax.set_ylabel(ax.get_ylabel(), fontsize=labelsize, labelpad=0)\n",
    "        ax.set_xlabel(ax.get_xlabel(), fontsize=labelsize, labelpad=2)\n",
    "        # if i > 0:\n",
    "        #     ax.yaxis.set_tick_params(length=0)\n",
    "        ax.axhline(0, color=\"k\", linestyle=\"-\", linewidth=0.5, zorder=-1)\n",
    "\n",
    "\n",
    "    for (row, col), ax in g.axes_dict.items():\n",
    "        ax.set_title('')\n",
    "            \n",
    "        if col==8.0:\n",
    "            ax2 = ax.twinx()\n",
    "            ax2.set_yticks([])\n",
    "            ax2.set_ylabel(f'{row:.1f}', va='bottom', fontsize=labelsize, rotation=270, labelpad=1)\n",
    "            if row==5.0:\n",
    "                ax2.set_ylabel(f'log$_1$$_0$ Copies Competitor 2\\n{row:.1f}', va='bottom', fontsize=labelsize, rotation=270, labelpad=1)\n",
    "        \n",
    "        if row==8.0:\n",
    "            ax.set_title(f'{col:.1f}', fontsize=labelsize, pad=2)\n",
    "            if col==5.0:\n",
    "                ax.set_title(f'log$_1$$_0$ Copies Competitor 1\\n{col:.1f}', fontsize=labelsize, pad=2)\n",
    "                \n",
    "        if ax != g.axes[-1, 0]:\n",
    "            ax.set_xlabel('')\n",
    "            ax.set_ylabel('')\n",
    "\n",
    "\n",
    "    bbox = ax.get_window_extent().transformed(ax.figure.dpi_scale_trans.inverted())\n",
    "    ax_width, ax_height = bbox.width, bbox.height\n",
    "\n",
    "    plt.subplots_adjust(\n",
    "        left=mar_l / width,\n",
    "        right=1 - mar_r / width,\n",
    "        top=1 - mar_t / height,\n",
    "        bottom=mar_b / height,\n",
    "        wspace=ax_space/ax_width,\n",
    "        hspace=ax_space/ax_height,\n",
    "    )"
   ]
  },
  {
   "cell_type": "markdown",
   "metadata": {},
   "source": [
    "# Import Data"
   ]
  },
  {
   "cell_type": "markdown",
   "metadata": {},
   "source": [
    "## JG074C - Antiparallel"
   ]
  },
  {
   "cell_type": "code",
   "execution_count": 6,
   "metadata": {},
   "outputs": [],
   "source": [
    "db_file = data_pth / 'JG074C Reaction Specifications.json'\n",
    "rxn_db = TinyDB(db_file)\n",
    "JG074C_rxns = pd.DataFrame([rxn['oligos'] | {'Sample': rxn['name']} for rxn in rxn_db.all()])\n",
    "\n",
    "cmax = 50\n",
    "\n",
    "file = data_pth / 'JG074C_L2_500_competitor_sweep.xlsx'\n",
    "JG074C = (\n",
    "    QuantStudio(file, 'JG074C')\n",
    "    .import_data()\n",
    "    .format_reactions()\n",
    "    .index_reactions()\n",
    "    .subtract_background()\n",
    "    .normalize_reactions(cmax=cmax)  # , method='min-max')\n",
    "    .invert_fluorophore('HEX')\n",
    ")\n",
    "\n",
    "JG074C.reactions.data = JG074C.reactions.data.merge(JG074C_rxns)\n",
    "for oligo in ['L2_500', 'S037.01.01b', 'S036.1b']:\n",
    "    JG074C.reactions.data['lg10 ' + oligo] = np.log10(JG074C.reactions.data[oligo])\n",
    "\n",
    "# One competitor was clearly missing from this mastermix\n",
    "JG074C.reactions.wide = JG074C.reactions.wide[~(\n",
    "    (JG074C.reactions.wide['lg10 S037.01.01b'] == 8.0) &\n",
    "    (JG074C.reactions.wide['lg10 S036.1b'] == 2.0)\n",
    ")]\n",
    "\n",
    "JG074C.extract_endpoints(cmax=cmax, name='FAM-HEX');"
   ]
  },
  {
   "cell_type": "markdown",
   "metadata": {},
   "source": [
    "## JG074D - Parallel"
   ]
  },
  {
   "cell_type": "code",
   "execution_count": 7,
   "metadata": {},
   "outputs": [],
   "source": [
    "db_file = data_pth / 'JG074D Reaction Specifications.json'\n",
    "rxn_db = TinyDB(db_file)\n",
    "JG074D_rxns = pd.DataFrame([rxn['oligos'] | {'Sample': rxn['name']} for rxn in rxn_db.all()])\n",
    "\n",
    "cmax = 50\n",
    "\n",
    "file = data_pth / 'JG074D_L2_500_like_competitor_sweep.xlsx'\n",
    "JG074D = (\n",
    "    QuantStudio(file, 'JG074D')\n",
    "    .import_data()\n",
    "    .format_reactions()\n",
    "    .index_reactions()\n",
    "    .subtract_background()\n",
    "    .normalize_reactions(cmax=cmax)\n",
    "    .invert_fluorophore('HEX')\n",
    ")\n",
    "\n",
    "JG074D.reactions.data = JG074D.reactions.data.merge(JG074D_rxns)\n",
    "for oligo in ['L2_500_like', 'S037.01.01b', 'S036.0']:\n",
    "    JG074D.reactions.data['lg10 ' + oligo] = np.log10(JG074D.reactions.data[oligo])\n",
    "\n",
    "JG074D.extract_endpoints(cmax=cmax, name='FAM-HEX');"
   ]
  },
  {
   "cell_type": "markdown",
   "metadata": {},
   "source": [
    "# Plotting"
   ]
  },
  {
   "cell_type": "markdown",
   "metadata": {},
   "source": [
    "## Antiparallel"
   ]
  },
  {
   "cell_type": "markdown",
   "metadata": {},
   "source": [
    "### Curves"
   ]
  },
  {
   "cell_type": "code",
   "execution_count": 8,
   "metadata": {},
   "outputs": [
    {
     "name": "stdout",
     "output_type": "stream",
     "text": [
      "Saving Fig_6_A in /home/john/projects/CAN_paper/fig_6/graphics: [.svg] [.png] done\n"
     ]
    }
   ],
   "source": [
    "hue = 'lg10 L2_500'\n",
    "extent = np.max(np.abs(JG074C.reactions.wide[hue]))\n",
    "norm = mpl.colors.Normalize(vmin=JG074C.reactions.wide[hue].min(), vmax=JG074C.reactions.wide[hue].max())\n",
    "\n",
    "g = sns.relplot(data = JG074C.reactions.data.query('Cycle<=@cmax'),\n",
    "                x='Cycle', y='Fluorescence', col='lg10 S037.01.01b', row='lg10 S036.1b', units='Reaction', hue = hue,\n",
    "                legend = False, palette='ch:0_r', hue_norm=norm, kind='line', estimator=None, linewidth=linewidth,\n",
    "                row_order = JG074C.reactions.data['lg10 S036.1b'].unique()[::-1],\n",
    "                facet_kws={\n",
    "                    'margin_titles': False,\n",
    "                    'despine': False})\n",
    "\n",
    "g.set_ylabels(r'$\\leftarrow$ HEX    FAM $\\rightarrow$')\n",
    "g.refline(y=0, color='k', linestyle='-', linewidth=0.5)\n",
    "format_sns_axes(g, xticks=[0, 10, 20, 30, 40, 50], xlim=[-2.5, 52.5])\n",
    "\n",
    "g.set_yticklabels([1.0, 0.5, 0.0, 0.5, 1.0])\n",
    "\n",
    "panel = 'A'\n",
    "savefig()"
   ]
  },
  {
   "cell_type": "markdown",
   "metadata": {},
   "source": [
    "### Endpoints"
   ]
  },
  {
   "cell_type": "code",
   "execution_count": 9,
   "metadata": {},
   "outputs": [
    {
     "name": "stdout",
     "output_type": "stream",
     "text": [
      "Saving Fig_6_B in /home/john/projects/CAN_paper/fig_6/graphics: [.svg] [.png] done\n"
     ]
    }
   ],
   "source": [
    "endpoints = JG074C.endpoints\n",
    "\n",
    "hue = 'FAM-HEX'\n",
    "extent = np.max(np.abs(endpoints[hue]))\n",
    "norm = mpl.colors.Normalize(vmin=-extent, vmax=+extent)\n",
    "\n",
    "g = sns.relplot(data = endpoints[endpoints.Reporter=='FAM'],\n",
    "                x='lg10 L2_500', y=hue, col='lg10 S037.01.01b', row='lg10 S036.1b',hue=hue, hue_norm=norm,\n",
    "                legend = False, palette=palette, kind='scatter', s=spotsize,\n",
    "                row_order = endpoints['lg10 S036.1b'].unique()[::-1],\n",
    "                facet_kws={\n",
    "                    'margin_titles': False,\n",
    "                    'despine': False})\n",
    "\n",
    "g.refline(y=0, color='k', linestyle='-', linewidth=0.5)\n",
    "format_sns_axes(g, xticks=[2, 4, 6, 8], xlim=[0.5, 8.5])\n",
    "g.axes[-1, 0].set_xlabel('log$_1$$_0$ Copies Target')\n",
    "\n",
    "panel = 'B'\n",
    "savefig()"
   ]
  },
  {
   "cell_type": "markdown",
   "metadata": {},
   "source": [
    "## Parallel"
   ]
  },
  {
   "cell_type": "markdown",
   "metadata": {},
   "source": [
    "### Curves"
   ]
  },
  {
   "cell_type": "code",
   "execution_count": 10,
   "metadata": {},
   "outputs": [
    {
     "name": "stdout",
     "output_type": "stream",
     "text": [
      "Saving Fig_6_C in /home/john/projects/CAN_paper/fig_6/graphics: [.svg] [.png] done\n"
     ]
    }
   ],
   "source": [
    "hue = 'lg10 L2_500_like'\n",
    "extent = np.max(np.abs(JG074D.reactions.wide[hue]))\n",
    "norm = mpl.colors.Normalize(vmin=JG074D.reactions.wide[hue].min(), vmax=JG074D.reactions.wide[hue].max())\n",
    "\n",
    "g = sns.relplot(data = JG074D.reactions.data.query('Cycle<=@cmax'),\n",
    "                x='Cycle', y='Fluorescence', col='lg10 S037.01.01b', row='lg10 S036.0', units='Reaction', hue = hue,\n",
    "                legend = False, palette='ch:0_r', hue_norm=norm, kind='line', estimator=None, linewidth=linewidth,\n",
    "                row_order = JG074D.reactions.data['lg10 S036.0'].unique()[::-1],\n",
    "                facet_kws={\n",
    "                    'margin_titles': False,\n",
    "                    'despine': False})\n",
    "\n",
    "g.set_ylabels(r'$\\leftarrow$ HEX    FAM $\\rightarrow$')\n",
    "g.refline(y=0, color='k', linestyle='-', linewidth=0.5)\n",
    "format_sns_axes(g, xticks=[0, 10, 20, 30, 40, 50], xlim=[-2.5, 52.5])\n",
    "\n",
    "g.set_yticklabels([1.0, 0.5, 0.0, 0.5, 1.0])\n",
    "\n",
    "panel = 'C'\n",
    "savefig()"
   ]
  },
  {
   "cell_type": "markdown",
   "metadata": {},
   "source": [
    "### Endpoints"
   ]
  },
  {
   "cell_type": "code",
   "execution_count": 11,
   "metadata": {},
   "outputs": [
    {
     "name": "stdout",
     "output_type": "stream",
     "text": [
      "Saving Fig_6_D in /home/john/projects/CAN_paper/fig_6/graphics: [.svg] [.png] done\n"
     ]
    }
   ],
   "source": [
    "endpoints = JG074D.endpoints\n",
    "\n",
    "hue = 'FAM-HEX'\n",
    "extent = np.max(np.abs(endpoints[hue]))\n",
    "norm = mpl.colors.Normalize(vmin=-extent, vmax=+extent)\n",
    "\n",
    "g = sns.relplot(data = endpoints[endpoints.Reporter=='FAM'],\n",
    "                x='lg10 L2_500_like', y=hue, col='lg10 S037.01.01b', row='lg10 S036.0', hue=hue, hue_norm=norm,\n",
    "                legend = False, palette=palette, kind='scatter', s=spotsize,\n",
    "                row_order = endpoints['lg10 S036.0'].unique()[::-1],\n",
    "                facet_kws={\n",
    "                    'margin_titles': False,\n",
    "                    'despine': False})\n",
    "\n",
    "g.refline(y=0, color='k', linestyle='-', linewidth=0.5)\n",
    "format_sns_axes(g, xticks=[2, 4, 6, 8], xlim=[0.5, 8.5])\n",
    "g.axes[-1, 0].set_xlabel('log$_1$$_0$ Copies Target')\n",
    "\n",
    "panel = 'D'\n",
    "savefig()"
   ]
  },
  {
   "cell_type": "code",
   "execution_count": null,
   "metadata": {},
   "outputs": [],
   "source": []
  }
 ],
 "metadata": {
  "jupytext": {
   "formats": "py,ipynb"
  },
  "kernelspec": {
   "display_name": "manuscript_venv",
   "language": "python",
   "name": "python3"
  },
  "language_info": {
   "codemirror_mode": {
    "name": "ipython",
    "version": 3
   },
   "file_extension": ".py",
   "mimetype": "text/x-python",
   "name": "python",
   "nbconvert_exporter": "python",
   "pygments_lexer": "ipython3",
   "version": "3.10.6"
  }
 },
 "nbformat": 4,
 "nbformat_minor": 2
}
