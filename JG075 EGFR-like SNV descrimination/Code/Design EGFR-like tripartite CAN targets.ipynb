{
 "cells": [
  {
   "cell_type": "code",
   "execution_count": 1,
   "id": "4ac30719",
   "metadata": {},
   "outputs": [],
   "source": [
    "import numpy as np\n",
    "import pandas as pd\n",
    "\n",
    "import candas as can\n",
    "from candas.lims import *\n",
    "\n",
    "from tinydb import TinyDB, Query\n",
    "\n",
    "lib = Librarian().load(library).open()"
   ]
  },
  {
   "cell_type": "markdown",
   "id": "b0bf385a",
   "metadata": {},
   "source": [
    "# Existing sequences"
   ]
  },
  {
   "cell_type": "markdown",
   "id": "fd23ef1c",
   "metadata": {},
   "source": [
    "## Successfull GBP6 tripartite sequences"
   ]
  },
  {
   "cell_type": "markdown",
   "id": "813d341c",
   "metadata": {},
   "source": [
    "FP001 shared with competitor, so we'll replace RP001 with the EGFR graft"
   ]
  },
  {
   "cell_type": "code",
   "execution_count": 2,
   "id": "4be9b3b2",
   "metadata": {},
   "outputs": [
    {
     "data": {
      "text/plain": [
       "[<Amplicon(id=82, name=A036.5, CoreBP=74, CoreGC=0.527, primers=['FP001', 'RP001'], probe=Pr001, sequence=GCAAGAACCAAGACCCTCAGGGAGGGAATCACAGTCACTGGGAATCGTCTGGGAACTCTGGCAGTGACTTATGTAGAGGCCATCAACAGTGGAGCAGTGCCTTGTCTGGAGAAT>,\n",
       " <Amplicon(id=80, name=A057.3.2, CoreBP=115, CoreGC=0.522, primers=['FP001', 'RP005'], probe=Pr002, sequence=GCAAGAACCAAGACCCTCAGCCCCGACACAAAATAAAACCACACCAAACACCCAACAACCCCACATCCCACCACCTCCCTACCCACTACCACTCCTCTCTAAACCCGCATGAAGCCTTCGTCTCACAGCTCTTTTCCCCTTAATTTCCGCACCTATT>,\n",
       " <Amplicon(id=24, name=A057.4.2, CoreBP=221, CoreGC=0.502, primers=['FP005', 'RP005'], probe=Pr003, sequence=TCTCTGATCGGTCCCTTTACTCGCCTCCCTACTCTTCATTCTATTCTCCTTCTCGTTCTTGTTTCTTCTTTTGTCTCTTTGCTTCCCTCGTATCTGTTCCTTTCCCGTCTCCCCATTCCCCGCCCCACTACCCAACACCCACCAATCAACCAAAACCTACAACCCATCCACACACCACCTCACTAACTCCTACCTCGCTCCTCTACACTTCACTGGCAACGCTCTGGTAACCTCTCTATCTCACCCCTTAATTTCCGCACCTATT>]"
      ]
     },
     "execution_count": 2,
     "metadata": {},
     "output_type": "execute_result"
    }
   ],
   "source": [
    "lib.Session().query(Amplicon).filter(Amplicon.name.in_(['A036.5','A057.4.2', 'A057.3.2'])).all()"
   ]
  },
  {
   "cell_type": "markdown",
   "id": "8be7b73b",
   "metadata": {},
   "source": [
    "## EGFR components"
   ]
  },
  {
   "cell_type": "markdown",
   "id": "b458e83c",
   "metadata": {},
   "source": [
    "### Primers"
   ]
  },
  {
   "cell_type": "markdown",
   "id": "72196cf7",
   "metadata": {},
   "source": [
    "There are two forward (blocked) primer variations for EGFR. FP0013 displayed more consistent behavior, so we'll use that one."
   ]
  },
  {
   "cell_type": "code",
   "execution_count": 3,
   "id": "12511a09",
   "metadata": {},
   "outputs": [
    {
     "data": {
      "text/plain": [
       "[<Primer(id=37, name=FP0012, BP=23, GC=0.435, sequence=GCAGCATGTCAAGATCACAGATT>,\n",
       " <Primer(id=39, name=FP0013, BP=26, GC=0.423, sequence=GCAGCATGTCAAGATCACAGATTTTG>]"
      ]
     },
     "execution_count": 3,
     "metadata": {},
     "output_type": "execute_result"
    }
   ],
   "source": [
    "lib.Session().query(Primer).filter(Primer._sequence.contains('GCAGCATGTCAAGATCACAGATT')).all()"
   ]
  },
  {
   "cell_type": "markdown",
   "id": "cf7f8bcb",
   "metadata": {},
   "source": [
    "### EGFR L858R SNP site"
   ]
  },
  {
   "cell_type": "markdown",
   "id": "2b507189",
   "metadata": {},
   "source": [
    "SNP downstream from FP0013, up to (mismatched) 3' end of blocker"
   ]
  },
  {
   "cell_type": "code",
   "execution_count": 4,
   "id": "00d33819",
   "metadata": {},
   "outputs": [],
   "source": [
    "WT_graft = Snippet(name='WT_graft', sequence='GGCTGGCCAAACTGCT')\n",
    "SNV_graft = Snippet(name='SNV_graft', sequence='GGCGGGCCAAACTGCT')"
   ]
  },
  {
   "cell_type": "markdown",
   "id": "068fe5c8",
   "metadata": {},
   "source": [
    "# Grafted sequences"
   ]
  },
  {
   "cell_type": "code",
   "execution_count": 43,
   "id": "5e401d02",
   "metadata": {},
   "outputs": [
    {
     "name": "stdout",
     "output_type": "stream",
     "text": [
      "S075_WT: GTTGAAGTGGTAGGGATTGCGTTTGTGTGTTCTGCTGTTCATGTGTCGTGCTTCTTTCCTCTAGTTTCCGTCATTGCAAGAACCAAGACCCTCAGGGAGGGAATCACAGTCACTGGGAATCGTCTGGGAACTCTGGCAGTGACTTATGTAGAGAGCAGTTTGGCCAGCCCAAAATCTGTGATCTTGACATGCTGCGATTCGTAACTGGACCGTACTAAAGCAGGATTCAGATTATTGGCCGTTCGTTCTTGTTAGCTCCGTCATTCAAATACCTTACCACATATCCAACCAAAGAGGCAAGTCTCATCAAAGCCCTCCCG \n",
      "\n",
      "S075_SNV: GTTGAAGTGGTAGGGATTGCGTTTGTGTGTTCTGCTGTTCATGTGTCGTGCTTCTTTCCTCTAGTTTCCGTCATTGCAAGAACCAAGACCCTCAGGGAGGGAATCACAGTCACTGGGAATCGTCTGGGAACTCTGGCAGTGACTTATGTAGAGAGCAGTTTGGCCCGCCCAAAATCTGTGATCTTGACATGCTGCGATTCGTAACTGGACCGTACTAAAGCAGGATTCAGATTATTGGCCGTTCGTTCTTGTTAGCTCCGTCATTCAAATACCTTACCACATATCCAACCAAAGAGGCAAGTCTCATCAAAGCCCTCCCG \n",
      "\n"
     ]
    }
   ],
   "source": [
    "lib.Session().rollback()\n",
    "\n",
    "GBP6 = lib.Session().query(Amplicon).filter(Amplicon.name=='A036.5').one()\n",
    "flanks = [lib.get_by_name('Snippet', 'Flank75_50a'), lib.get_by_name('Snippet', 'Flank125_50b')]\n",
    "\n",
    "FP = lib.Session().query(Primer).filter(Primer.name=='FP001').one()\n",
    "RP = lib.Session().query(Primer).filter(Primer.name=='FP0013').one()\n",
    "\n",
    "old_core = GBP6.core\n",
    "preserved_core_seq = old_core.sequence[:-len(WT_graft.sequence)]\n",
    "\n",
    "WT_core = Core(name='C075_WT',\n",
    "               description='WT EGFR-like tripartite target', \n",
    "               sequence=(preserved_core_seq + WT_graft.reverse_complement))\n",
    "SNV_core = Core(name='C075_SNV',\n",
    "                description='SNV EGFR-like tripartite target', \n",
    "                sequence=(preserved_core_seq + SNV_graft.reverse_complement))\n",
    "\n",
    "WT_amplicon = Amplicon(name='A075_WT',\n",
    "                       description='WT EGFR-like tripartite target', \n",
    "                       core=WT_core,\n",
    "                       primers=[FP,RP], \n",
    "                       sequence=(FP.sequence + WT_core.sequence + RP.reverse_complement))\n",
    "SNV_amplicon = Amplicon(name='A075_SNV',\n",
    "                        description='SNV EGFR-like tripartite target', \n",
    "                        core=SNV_core,\n",
    "                        primers=[FP,RP], \n",
    "                        sequence=(FP.sequence + SNV_core.sequence + RP.reverse_complement))\n",
    "\n",
    "WT_fragment = Fragment(name='S075_WT',\n",
    "                       description='WT EGFR-like tripartite target', \n",
    "                       amplicon=WT_amplicon,\n",
    "                       flanks=flanks, \n",
    "                       sequence=(flanks[0].sequence + WT_amplicon.sequence + flanks[1].sequence))\n",
    "SNV_fragment = Fragment(name='S075_SNV',\n",
    "                        description='SNV EGFR-like tripartite target', \n",
    "                        amplicon=SNV_amplicon,\n",
    "                        flanks=flanks, \n",
    "                        sequence=(flanks[0].sequence + SNV_amplicon.sequence + flanks[1].sequence))\n",
    "\n",
    "print('S075_WT:', WT_fragment.sequence, '\\n')\n",
    "print('S075_SNV:', SNV_fragment.sequence, '\\n')"
   ]
  },
  {
   "cell_type": "code",
   "execution_count": 50,
   "id": "7b801ae6",
   "metadata": {},
   "outputs": [],
   "source": [
    "from candas.utils import getGC\n",
    "import matplotlib.pyplot as plt\n",
    "\n",
    "\n",
    "def profile_GC_content(sequence, window=100):    \n",
    "    return [getGC(sequence[i:i+window]) for i in range(len(sequence)-window)]\n",
    "    \n",
    "def plot_GC_profile(sequence, window=100, ax=None):\n",
    "    \n",
    "    profile = profile_GC_content(sequence, window=window)\n",
    "    \n",
    "    ax = plt.gca() if ax is None else ax\n",
    "    ax.plot(profile, label='Profile')\n",
    "    ax.set_ylabel(f'GC Content\\n{window}-base window')\n",
    "    ax.set_xlabel('Window Start Position')\n",
    "    \n",
    "    ax.axhline(0.3, color='k', ls=':', label='Soft Limit')\n",
    "    ax.axhline(0.2, color='k', ls='--', label='Hard Limit')\n",
    "    \n",
    "    ax.axhline(0.6, color='k', ls=':')\n",
    "    ax.axhline(0.7, color='k', ls='--')\n",
    "    \n",
    "    ax.legend()"
   ]
  },
  {
   "cell_type": "code",
   "execution_count": 51,
   "id": "b80e5a91",
   "metadata": {},
   "outputs": [
    {
     "data": {
      "image/png": "[encoded data removed]",
      "text/plain": [
       "<Figure size 432x288 with 1 Axes>"
      ]
     },
     "metadata": {
      "needs_background": "light"
     },
     "output_type": "display_data"
    }
   ],
   "source": [
    "plot_GC_profile(WT_fragment.sequence)"
   ]
  },
  {
   "cell_type": "code",
   "execution_count": 52,
   "id": "cb4e8651",
   "metadata": {},
   "outputs": [
    {
     "data": {
      "image/png": "[encoded data removed]",
      "text/plain": [
       "<Figure size 432x288 with 1 Axes>"
      ]
     },
     "metadata": {
      "needs_background": "light"
     },
     "output_type": "display_data"
    }
   ],
   "source": [
    "plot_GC_profile(SNV_fragment.sequence)"
   ]
  },
  {
   "cell_type": "code",
   "execution_count": 97,
   "id": "b0078400",
   "metadata": {},
   "outputs": [
    {
     "data": {
      "text/plain": [
       "<Probe(id=1, name=Pr003, fluor=HEX, BP=24, GC=0.542, sequence=TAGAGAGGTTACCAGAGCGTTGCC>"
      ]
     },
     "execution_count": 97,
     "metadata": {},
     "output_type": "execute_result"
    }
   ],
   "source": [
    "lib.Session().query(Fragment).filter(Fragment.name=='S056.1.1').one().amplicon.core.probe"
   ]
  },
  {
   "cell_type": "code",
   "execution_count": null,
   "id": "2d7e7602",
   "metadata": {},
   "outputs": [],
   "source": []
  }
 ],
 "metadata": {
  "kernelspec": {
   "display_name": "Python [conda env:candas]",
   "language": "python",
   "name": "conda-env-candas-py"
  },
  "language_info": {
   "codemirror_mode": {
    "name": "ipython",
    "version": 3
   },
   "file_extension": ".py",
   "mimetype": "text/x-python",
   "name": "python",
   "nbconvert_exporter": "python",
   "pygments_lexer": "ipython3",
   "version": "3.9.6"
  }
 },
 "nbformat": 4,
 "nbformat_minor": 5
}
