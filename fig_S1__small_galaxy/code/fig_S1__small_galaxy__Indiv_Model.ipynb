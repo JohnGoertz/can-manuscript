{
 "cells": [
  {
   "cell_type": "code",
   "execution_count": 1,
   "metadata": {},
   "outputs": [],
   "source": [
    "import numpy as np\n",
    "import matplotlib as mpl\n",
    "\n",
    "mpl.use(\"Cairo\")  # for saving SVGs that Affinity Designer can parse\n",
    "import matplotlib.pyplot as plt\n",
    "import pathlib as pl\n",
    "import dill\n",
    "\n",
    "import candas as can\n",
    "import gumbi as gmb\n",
    "from candas.learn import ParameterSet\n",
    "\n",
    "from tqdm.auto import tqdm\n",
    "\n",
    "code_pth = pl.Path.cwd()  # for running in Jupyter\n",
    "# code_pth = pl.Path(__file__)  # for running in terminal\n",
    "fig_pth = code_pth.parent\n",
    "data_pth = fig_pth / \"data\"\n",
    "graph_pth = fig_pth / \"graphics\"\n",
    "graph_pth.mkdir(exist_ok=True)\n",
    "\n",
    "gen_pth = fig_pth / \"generated\"\n",
    "gen_pth.mkdir(exist_ok=True)\n",
    "\n",
    "plt.style.use(str(can.style.breve))"
   ]
  },
  {
   "cell_type": "code",
   "execution_count": 2,
   "metadata": {},
   "outputs": [],
   "source": [
    "with open(data_pth / \"Model_Avg_predictions.pkl\", \"rb\") as f:\n",
    "    avg_model_r = dill.load(f)[\"r\"]"
   ]
  },
  {
   "cell_type": "code",
   "execution_count": 3,
   "metadata": {},
   "outputs": [],
   "source": [
    "fig_num = 'S1'\n",
    "# plt.style.use('style.mplstyle')\n",
    "\n",
    "%config InlineBackend.figure_format = 'retina'\n",
    "\n",
    "panel = None\n",
    "subpanel = None\n",
    "\n",
    "def savefig(fig=None, title=None):\n",
    "    fig = fig or plt.gcf()\n",
    "    title = title or 'Fig_'+'_'.join([str(el) for el in [fig_num, panel, subpanel] if el is not None])\n",
    "    print(f'Saving {title} in {graph_pth}:', end='')\n",
    "    for ext in ['svg', 'png']:\n",
    "        try:\n",
    "            fig.savefig(graph_pth / f'{title}.{ext}', dpi=600, transparent=True)\n",
    "            print(f' [.{ext}]', end='')\n",
    "        except AttributeError:\n",
    "            print(f' [.{ext} failed]', end='')\n",
    "    print(' done')"
   ]
  },
  {
   "cell_type": "code",
   "execution_count": 4,
   "metadata": {},
   "outputs": [],
   "source": [
    "ps = ParameterSet.load(data_pth / \"ADVI_ParameterSets_220528.pkl\")\n",
    "\n",
    "\n",
    "def make_pair(row):\n",
    "    return \"-\".join(sorted([row.FPrimer, row.RPrimer]))\n",
    "\n",
    "\n",
    "data = (\n",
    "    ps.wide.query('Metric == \"mean\"')\n",
    "    .astype({\"BP\": float})\n",
    "    .assign(PrimerPair=lambda df: df.apply(make_pair, axis=1))\n",
    "    .groupby([\"Target\", \"PrimerPair\", \"Reporter\"])\n",
    "    .mean(numeric_only=True)\n",
    "    .reset_index()\n",
    ")\n",
    "\n",
    "selected = (\n",
    "    data.groupby([\"PrimerPair\", \"Reporter\"])\n",
    "    .size()\n",
    "    .reset_index()\n",
    "    .rename(columns={0: \"Observations\"})\n",
    "    .sort_values(\"Observations\", ascending=False)\n",
    "    .reset_index(drop=True)\n",
    ").iloc[[0, 1, 4, 5, 6, 8, 38, 39, 42]]"
   ]
  },
  {
   "cell_type": "code",
   "execution_count": 5,
   "metadata": {},
   "outputs": [],
   "source": [
    "ds_full = gmb.DataSet(\n",
    "    data=data,\n",
    "    outputs=[\"F0_lg\", \"r\", \"K\", \"m\"],\n",
    "    log_vars=[\"BP\", \"K\", \"m\", \"r\"],\n",
    "    logit_vars=[\"GC\"],\n",
    ")\n",
    "stdzr = ds_full.stdzr"
   ]
  },
  {
   "cell_type": "code",
   "execution_count": 6,
   "metadata": {},
   "outputs": [
    {
     "data": {
      "application/vnd.jupyter.widget-view+json": {
       "model_id": "1870a1cebf754fd0a584079f7cb4228c",
       "version_major": 2,
       "version_minor": 0
      },
      "text/plain": [
       "  0%|          | 0/9 [00:00<?, ?it/s]"
      ]
     },
     "metadata": {},
     "output_type": "display_data"
    },
    {
     "data": {
      "text/html": [
       "\n",
       "<style>\n",
       "    /* Turns off some styling */\n",
       "    progress {\n",
       "        /* gets rid of default border in Firefox and Opera. */\n",
       "        border: none;\n",
       "        /* Needs to be in here for Safari polyfill so background images work as expected. */\n",
       "        background-size: auto;\n",
       "    }\n",
       "    progress:not([value]), progress:not([value])::-webkit-progress-bar {\n",
       "        background: repeating-linear-gradient(45deg, #7e7e7e, #7e7e7e 10px, #5c5c5c 10px, #5c5c5c 20px);\n",
       "    }\n",
       "    .progress-bar-interrupted, .progress-bar-interrupted::-webkit-progress-bar {\n",
       "        background: #F44336;\n",
       "    }\n",
       "</style>\n"
      ],
      "text/plain": [
       "<IPython.core.display.HTML object>"
      ]
     },
     "metadata": {},
     "output_type": "display_data"
    },
    {
     "data": {
      "text/html": [
       "\n",
       "    <div>\n",
       "      <progress value='120' class='' max='120' style='width:300px; height:20px; vertical-align: middle;'></progress>\n",
       "      100.00% [120/120 00:02&lt;00:00 logp = -147.35, ||grad|| = 0.0075829]\n",
       "    </div>\n",
       "    "
      ],
      "text/plain": [
       "<IPython.core.display.HTML object>"
      ]
     },
     "metadata": {},
     "output_type": "display_data"
    },
    {
     "name": "stdout",
     "output_type": "stream",
     "text": [
      "\n"
     ]
    },
    {
     "data": {
      "text/html": [
       "\n",
       "<style>\n",
       "    /* Turns off some styling */\n",
       "    progress {\n",
       "        /* gets rid of default border in Firefox and Opera. */\n",
       "        border: none;\n",
       "        /* Needs to be in here for Safari polyfill so background images work as expected. */\n",
       "        background-size: auto;\n",
       "    }\n",
       "    progress:not([value]), progress:not([value])::-webkit-progress-bar {\n",
       "        background: repeating-linear-gradient(45deg, #7e7e7e, #7e7e7e 10px, #5c5c5c 10px, #5c5c5c 20px);\n",
       "    }\n",
       "    .progress-bar-interrupted, .progress-bar-interrupted::-webkit-progress-bar {\n",
       "        background: #F44336;\n",
       "    }\n",
       "</style>\n"
      ],
      "text/plain": [
       "<IPython.core.display.HTML object>"
      ]
     },
     "metadata": {},
     "output_type": "display_data"
    },
    {
     "data": {
      "text/html": [
       "\n",
       "    <div>\n",
       "      <progress value='134' class='' max='134' style='width:300px; height:20px; vertical-align: middle;'></progress>\n",
       "      100.00% [134/134 00:01&lt;00:00 logp = -156.72, ||grad|| = 0.0040135]\n",
       "    </div>\n",
       "    "
      ],
      "text/plain": [
       "<IPython.core.display.HTML object>"
      ]
     },
     "metadata": {},
     "output_type": "display_data"
    },
    {
     "name": "stdout",
     "output_type": "stream",
     "text": [
      "\n"
     ]
    },
    {
     "data": {
      "text/html": [
       "\n",
       "<style>\n",
       "    /* Turns off some styling */\n",
       "    progress {\n",
       "        /* gets rid of default border in Firefox and Opera. */\n",
       "        border: none;\n",
       "        /* Needs to be in here for Safari polyfill so background images work as expected. */\n",
       "        background-size: auto;\n",
       "    }\n",
       "    progress:not([value]), progress:not([value])::-webkit-progress-bar {\n",
       "        background: repeating-linear-gradient(45deg, #7e7e7e, #7e7e7e 10px, #5c5c5c 10px, #5c5c5c 20px);\n",
       "    }\n",
       "    .progress-bar-interrupted, .progress-bar-interrupted::-webkit-progress-bar {\n",
       "        background: #F44336;\n",
       "    }\n",
       "</style>\n"
      ],
      "text/plain": [
       "<IPython.core.display.HTML object>"
      ]
     },
     "metadata": {},
     "output_type": "display_data"
    },
    {
     "data": {
      "text/html": [
       "\n",
       "    <div>\n",
       "      <progress value='64' class='' max='64' style='width:300px; height:20px; vertical-align: middle;'></progress>\n",
       "      100.00% [64/64 00:00&lt;00:00 logp = -103.88, ||grad|| = 0.0021722]\n",
       "    </div>\n",
       "    "
      ],
      "text/plain": [
       "<IPython.core.display.HTML object>"
      ]
     },
     "metadata": {},
     "output_type": "display_data"
    },
    {
     "name": "stdout",
     "output_type": "stream",
     "text": [
      "\n"
     ]
    },
    {
     "data": {
      "text/html": [
       "\n",
       "<style>\n",
       "    /* Turns off some styling */\n",
       "    progress {\n",
       "        /* gets rid of default border in Firefox and Opera. */\n",
       "        border: none;\n",
       "        /* Needs to be in here for Safari polyfill so background images work as expected. */\n",
       "        background-size: auto;\n",
       "    }\n",
       "    progress:not([value]), progress:not([value])::-webkit-progress-bar {\n",
       "        background: repeating-linear-gradient(45deg, #7e7e7e, #7e7e7e 10px, #5c5c5c 10px, #5c5c5c 20px);\n",
       "    }\n",
       "    .progress-bar-interrupted, .progress-bar-interrupted::-webkit-progress-bar {\n",
       "        background: #F44336;\n",
       "    }\n",
       "</style>\n"
      ],
      "text/plain": [
       "<IPython.core.display.HTML object>"
      ]
     },
     "metadata": {},
     "output_type": "display_data"
    },
    {
     "data": {
      "text/html": [
       "\n",
       "    <div>\n",
       "      <progress value='63' class='' max='63' style='width:300px; height:20px; vertical-align: middle;'></progress>\n",
       "      100.00% [63/63 00:00&lt;00:00 logp = -59.593, ||grad|| = 0.001706]\n",
       "    </div>\n",
       "    "
      ],
      "text/plain": [
       "<IPython.core.display.HTML object>"
      ]
     },
     "metadata": {},
     "output_type": "display_data"
    },
    {
     "name": "stdout",
     "output_type": "stream",
     "text": [
      "\n"
     ]
    },
    {
     "data": {
      "text/html": [
       "\n",
       "<style>\n",
       "    /* Turns off some styling */\n",
       "    progress {\n",
       "        /* gets rid of default border in Firefox and Opera. */\n",
       "        border: none;\n",
       "        /* Needs to be in here for Safari polyfill so background images work as expected. */\n",
       "        background-size: auto;\n",
       "    }\n",
       "    progress:not([value]), progress:not([value])::-webkit-progress-bar {\n",
       "        background: repeating-linear-gradient(45deg, #7e7e7e, #7e7e7e 10px, #5c5c5c 10px, #5c5c5c 20px);\n",
       "    }\n",
       "    .progress-bar-interrupted, .progress-bar-interrupted::-webkit-progress-bar {\n",
       "        background: #F44336;\n",
       "    }\n",
       "</style>\n"
      ],
      "text/plain": [
       "<IPython.core.display.HTML object>"
      ]
     },
     "metadata": {},
     "output_type": "display_data"
    },
    {
     "data": {
      "text/html": [
       "\n",
       "    <div>\n",
       "      <progress value='58' class='' max='58' style='width:300px; height:20px; vertical-align: middle;'></progress>\n",
       "      100.00% [58/58 00:00&lt;00:00 logp = -65.686, ||grad|| = 0.0069052]\n",
       "    </div>\n",
       "    "
      ],
      "text/plain": [
       "<IPython.core.display.HTML object>"
      ]
     },
     "metadata": {},
     "output_type": "display_data"
    },
    {
     "name": "stdout",
     "output_type": "stream",
     "text": [
      "\n"
     ]
    },
    {
     "data": {
      "text/html": [
       "\n",
       "<style>\n",
       "    /* Turns off some styling */\n",
       "    progress {\n",
       "        /* gets rid of default border in Firefox and Opera. */\n",
       "        border: none;\n",
       "        /* Needs to be in here for Safari polyfill so background images work as expected. */\n",
       "        background-size: auto;\n",
       "    }\n",
       "    progress:not([value]), progress:not([value])::-webkit-progress-bar {\n",
       "        background: repeating-linear-gradient(45deg, #7e7e7e, #7e7e7e 10px, #5c5c5c 10px, #5c5c5c 20px);\n",
       "    }\n",
       "    .progress-bar-interrupted, .progress-bar-interrupted::-webkit-progress-bar {\n",
       "        background: #F44336;\n",
       "    }\n",
       "</style>\n"
      ],
      "text/plain": [
       "<IPython.core.display.HTML object>"
      ]
     },
     "metadata": {},
     "output_type": "display_data"
    },
    {
     "data": {
      "text/html": [
       "\n",
       "    <div>\n",
       "      <progress value='81' class='' max='81' style='width:300px; height:20px; vertical-align: middle;'></progress>\n",
       "      100.00% [81/81 00:00&lt;00:00 logp = -52.928, ||grad|| = 0.0031282]\n",
       "    </div>\n",
       "    "
      ],
      "text/plain": [
       "<IPython.core.display.HTML object>"
      ]
     },
     "metadata": {},
     "output_type": "display_data"
    },
    {
     "name": "stdout",
     "output_type": "stream",
     "text": [
      "\n"
     ]
    },
    {
     "data": {
      "text/html": [
       "\n",
       "<style>\n",
       "    /* Turns off some styling */\n",
       "    progress {\n",
       "        /* gets rid of default border in Firefox and Opera. */\n",
       "        border: none;\n",
       "        /* Needs to be in here for Safari polyfill so background images work as expected. */\n",
       "        background-size: auto;\n",
       "    }\n",
       "    progress:not([value]), progress:not([value])::-webkit-progress-bar {\n",
       "        background: repeating-linear-gradient(45deg, #7e7e7e, #7e7e7e 10px, #5c5c5c 10px, #5c5c5c 20px);\n",
       "    }\n",
       "    .progress-bar-interrupted, .progress-bar-interrupted::-webkit-progress-bar {\n",
       "        background: #F44336;\n",
       "    }\n",
       "</style>\n"
      ],
      "text/plain": [
       "<IPython.core.display.HTML object>"
      ]
     },
     "metadata": {},
     "output_type": "display_data"
    },
    {
     "data": {
      "text/html": [
       "\n",
       "    <div>\n",
       "      <progress value='102' class='' max='102' style='width:300px; height:20px; vertical-align: middle;'></progress>\n",
       "      100.00% [102/102 00:00&lt;00:00 logp = -32.548, ||grad|| = 0.01027]\n",
       "    </div>\n",
       "    "
      ],
      "text/plain": [
       "<IPython.core.display.HTML object>"
      ]
     },
     "metadata": {},
     "output_type": "display_data"
    },
    {
     "name": "stdout",
     "output_type": "stream",
     "text": [
      "\n"
     ]
    },
    {
     "data": {
      "text/html": [
       "\n",
       "<style>\n",
       "    /* Turns off some styling */\n",
       "    progress {\n",
       "        /* gets rid of default border in Firefox and Opera. */\n",
       "        border: none;\n",
       "        /* Needs to be in here for Safari polyfill so background images work as expected. */\n",
       "        background-size: auto;\n",
       "    }\n",
       "    progress:not([value]), progress:not([value])::-webkit-progress-bar {\n",
       "        background: repeating-linear-gradient(45deg, #7e7e7e, #7e7e7e 10px, #5c5c5c 10px, #5c5c5c 20px);\n",
       "    }\n",
       "    .progress-bar-interrupted, .progress-bar-interrupted::-webkit-progress-bar {\n",
       "        background: #F44336;\n",
       "    }\n",
       "</style>\n"
      ],
      "text/plain": [
       "<IPython.core.display.HTML object>"
      ]
     },
     "metadata": {},
     "output_type": "display_data"
    },
    {
     "data": {
      "text/html": [
       "\n",
       "    <div>\n",
       "      <progress value='548' class='' max='548' style='width:300px; height:20px; vertical-align: middle;'></progress>\n",
       "      100.00% [548/548 00:02&lt;00:00 logp = -37.659, ||grad|| = 0.050336]\n",
       "    </div>\n",
       "    "
      ],
      "text/plain": [
       "<IPython.core.display.HTML object>"
      ]
     },
     "metadata": {},
     "output_type": "display_data"
    },
    {
     "name": "stdout",
     "output_type": "stream",
     "text": [
      "\n"
     ]
    },
    {
     "data": {
      "text/html": [
       "\n",
       "<style>\n",
       "    /* Turns off some styling */\n",
       "    progress {\n",
       "        /* gets rid of default border in Firefox and Opera. */\n",
       "        border: none;\n",
       "        /* Needs to be in here for Safari polyfill so background images work as expected. */\n",
       "        background-size: auto;\n",
       "    }\n",
       "    progress:not([value]), progress:not([value])::-webkit-progress-bar {\n",
       "        background: repeating-linear-gradient(45deg, #7e7e7e, #7e7e7e 10px, #5c5c5c 10px, #5c5c5c 20px);\n",
       "    }\n",
       "    .progress-bar-interrupted, .progress-bar-interrupted::-webkit-progress-bar {\n",
       "        background: #F44336;\n",
       "    }\n",
       "</style>\n"
      ],
      "text/plain": [
       "<IPython.core.display.HTML object>"
      ]
     },
     "metadata": {},
     "output_type": "display_data"
    },
    {
     "data": {
      "text/html": [
       "\n",
       "    <div>\n",
       "      <progress value='168' class='' max='168' style='width:300px; height:20px; vertical-align: middle;'></progress>\n",
       "      100.00% [168/168 00:00&lt;00:00 logp = -41.15, ||grad|| = 0.0011179]\n",
       "    </div>\n",
       "    "
      ],
      "text/plain": [
       "<IPython.core.display.HTML object>"
      ]
     },
     "metadata": {},
     "output_type": "display_data"
    },
    {
     "name": "stdout",
     "output_type": "stream",
     "text": [
      "\n"
     ]
    }
   ],
   "source": [
    "datasets = []\n",
    "gps = []\n",
    "\n",
    "for row in tqdm(selected.itertuples(), total=selected.shape[0]):\n",
    "    ds = gmb.DataSet(\n",
    "        data=data[\n",
    "            (data.PrimerPair == row.PrimerPair) & (data.Reporter == row.Reporter)\n",
    "        ],\n",
    "        outputs=[\"F0_lg\", \"r\", \"K\", \"m\"],\n",
    "        log_vars=[\"BP\", \"K\", \"m\", \"r\"],\n",
    "        logit_vars=[\"GC\"],\n",
    "        stdzr=stdzr,\n",
    "    )\n",
    "\n",
    "    if ds.wide.shape[0] > 1:\n",
    "        gp = gmb.GP(ds).fit(\n",
    "            continuous_dims=[\"BP\", \"GC\"],\n",
    "        )\n",
    "    else:\n",
    "        gp = gmb.GP(ds)\n",
    "        gp.specify_model(continuous_dims=[\"BP\", \"GC\"])\n",
    "        gp.filter_dims = {}\n",
    "        gp.continuous_dims = [\"BP\", \"GC\"]\n",
    "        gp.continuous_levels = gp._parse_levels(gp.continuous_dims, None)\n",
    "        gp.continuous_coords = gp._parse_coordinates(\n",
    "            gp.continuous_dims, gp.continuous_levels, None\n",
    "        )\n",
    "        gp.build_model()\n",
    "        gp.find_MAP()\n",
    "\n",
    "    datasets.append(ds)\n",
    "    gps.append(gp)"
   ]
  },
  {
   "cell_type": "code",
   "execution_count": 7,
   "metadata": {},
   "outputs": [],
   "source": [
    "limits = gmb.parray(GC=[0.2, 0.8], BP=[10, 600], stdzr=stdzr)\n",
    "\n",
    "all_r = []\n",
    "\n",
    "for gp in gps:\n",
    "    XY = gp.prepare_grid(limits=limits)\n",
    "    r = gp.predict_grid(output=\"r\", with_noise=False)\n",
    "\n",
    "    all_r.append(r)\n",
    "\n",
    "BP, GC = XY[\"BP\"], XY[\"GC\"]\n",
    "BP_vec = gp.grid_vectors[\"BP\"].squeeze()\n",
    "GC_vec = gp.grid_vectors[\"GC\"].squeeze()\n",
    "BP_idx = 0\n",
    "GC_idx = 1\n",
    "BP_ticks = BP.parray(BP=[10, 30, 100, 300])\n",
    "GC_ticks = GC.parray(GC=[0.25, 0.5, 0.75])\n",
    "\n",
    "rlim = rmin, rmax = 0.23, 1.03\n",
    "r_ticks = gmb.parray(r=[0.25, 0.5, 0.75, 1.0], stdzr=stdzr)"
   ]
  },
  {
   "cell_type": "code",
   "execution_count": 8,
   "metadata": {},
   "outputs": [
    {
     "name": "stdout",
     "output_type": "stream",
     "text": [
      "Saving Fig_S1_ABC in /home/john/projects/CAN_paper/fig_s1/graphics: [.svg] [.png] done\n"
     ]
    }
   ],
   "source": [
    "figsize = width, height = 7.083, 3\n",
    "linewidth = 0.5\n",
    "ticklabelsize = 6\n",
    "labelsize = 8\n",
    "titlesize = labelsize + 2\n",
    "\n",
    "# Set rcParams for plotting\n",
    "mpl.rc(\"xtick\", labelsize=ticklabelsize)\n",
    "mpl.rc(\"ytick\", labelsize=ticklabelsize)\n",
    "mpl.rc(\"axes\", labelsize=labelsize, titlesize=titlesize, linewidth=linewidth)\n",
    "\n",
    "# rnorm = mpl.colors.Normalize()\n",
    "# rnorm(np.stack([r.μ for r in all_r]));\n",
    "rnorm = mpl.colors.Normalize(vmin=0.23, vmax=1.03)\n",
    "\n",
    "fig, axs = plt.subplots(3, 10, figsize=figsize)\n",
    "\n",
    "for i, (r, row, ds) in enumerate(zip(all_r, axs.T, datasets)):\n",
    "    ax = row[0]\n",
    "    plt.sca(ax)\n",
    "    pp = gmb.ParrayPlotter(\n",
    "        x=GC,\n",
    "        y=BP,\n",
    "        z=r,\n",
    "        #    x_scale='standardized',\n",
    "        y_scale=\"standardized\",\n",
    "    )\n",
    "\n",
    "    step = 0.05\n",
    "    levels = (\n",
    "        np.arange(np.floor(rnorm.vmin / step), np.ceil(rnorm.vmax / step) + 1) * step\n",
    "    )\n",
    "    cs = pp(plt.contourf, levels=levels, cmap=\"flare_r\", norm=rnorm)\n",
    "\n",
    "    ax.set_yticks(BP_ticks.z.values())\n",
    "    ax.set_xticks(GC_ticks.values())\n",
    "    ax.set_xticklabels(map(int, 100 * GC_ticks.values()))\n",
    "\n",
    "    gc = ds.wide.GC\n",
    "    bp = ds.wide.z.BP\n",
    "    rs = ds.wide.r\n",
    "\n",
    "    # ax.plot(gc, bp, ls='none', marker='.', mfc='0.5', mec='none', ms=5) #, cmap='flare_r', norm=rnorm)\n",
    "    ax.scatter(\n",
    "        gc, bp, c=rs, edgecolor=\"0.8\", linewidths=0.5, s=10, cmap=\"flare_r\", norm=rnorm\n",
    "    )\n",
    "\n",
    "    ax.set_xlim(limits[\"GC\"].values())\n",
    "\n",
    "    cs = ax.contour(\n",
    "        GC.values(),\n",
    "        BP.z.values(),\n",
    "        r.σ,\n",
    "        levels=[0.05, 0.10, 0.15, 0.20, 0.25],\n",
    "        colors=\"0.2\",\n",
    "        linestyles=\"--\",\n",
    "        linewidths=0.5,\n",
    "    )\n",
    "    ax.clabel(cs, fontsize=ticklabelsize - 2)\n",
    "\n",
    "    ax = row[1]\n",
    "    plt.sca(ax)\n",
    "    marginal = r.mean(axis=BP_idx)\n",
    "    # ax.plot(gc, ds.wide.r, ls='none', marker='.', mfc='0.5', mec='none', ms=5, zorder=-10)\n",
    "    ax.scatter(\n",
    "        gc,\n",
    "        rs,\n",
    "        c=rs,\n",
    "        edgecolor=\"0.8\",\n",
    "        linewidths=0.5,\n",
    "        s=10,\n",
    "        cmap=\"flare_r\",\n",
    "        norm=rnorm,\n",
    "        zorder=-10,\n",
    "    )\n",
    "    gmb.ParrayPlotter(GC_vec, marginal).plot(line_kws={\"lw\": 0.5})\n",
    "    gmb.ParrayPlotter(GC_vec, avg_model_r.mean(axis=1).μ).plot(\n",
    "        line_kws={\"lw\": 0.5, \"ls\": \"--\", \"color\": \"0.4\", \"zorder\": -20}\n",
    "    )\n",
    "    ax.set_xlim(limits[\"GC\"].values())\n",
    "    ax.set_ylim(rlim)\n",
    "    ax.set_yticks(r_ticks.values())\n",
    "    ax.set_xticks(GC_ticks.values())\n",
    "    ax.set_xticklabels(map(int, 100 * GC_ticks.values()))\n",
    "\n",
    "    ax = row[2]\n",
    "    plt.sca(ax)\n",
    "    marginal = r.mean(axis=GC_idx)\n",
    "    # ax.plot(bp, ds.wide.r, ls='none', marker='.', mfc='0.5', mec='none', ms=5, zorder=-10)\n",
    "    ax.scatter(\n",
    "        bp,\n",
    "        rs,\n",
    "        c=rs,\n",
    "        edgecolor=\"0.8\",\n",
    "        linewidths=0.5,\n",
    "        s=10,\n",
    "        cmap=\"flare_r\",\n",
    "        norm=rnorm,\n",
    "        zorder=-10,\n",
    "    )\n",
    "    ax = gmb.ParrayPlotter(BP_vec.z, marginal).plot(line_kws={\"lw\": 0.5})\n",
    "    gmb.ParrayPlotter(BP_vec.z, avg_model_r.mean(axis=0).μ).plot(\n",
    "        line_kws={\"lw\": 0.5, \"ls\": \"--\", \"color\": \"0.4\", \"zorder\": -20}\n",
    "    )\n",
    "    ax.set_xlim(limits[\"BP\"].z.values())\n",
    "    ax.set_ylim(rlim)\n",
    "    ax.set_yticks(r_ticks.values())\n",
    "    ax.set_xticks(BP_ticks.z.values())\n",
    "    ax.set_xticklabels(map(int, BP_ticks.values()))\n",
    "\n",
    "for ax in axs.flat:\n",
    "    ax.tick_params(axis=\"both\", which=\"both\", length=2, width=0.5)\n",
    "    ax.set_yticklabels([])\n",
    "    ax.set_xlabel(\"\")\n",
    "    ax.set_ylabel(\"\")\n",
    "\n",
    "axs[0, 0].set_ylabel(\"Length (bp)\", labelpad=1)\n",
    "axs[0, 0].set_xlabel(\"GC content (%)\", labelpad=1)\n",
    "axs[0, 0].set_yticklabels(map(int, BP_ticks.values()))\n",
    "\n",
    "axs[1, 0].set_ylabel(\"Rate\", labelpad=1)\n",
    "axs[1, 0].set_yticklabels(map(\"{:.2f}\".format, r_ticks.values()))\n",
    "axs[1, 0].set_xlabel(\"GC content (%)\", labelpad=1)\n",
    "\n",
    "axs[2, 0].set_ylabel(\"Rate\", labelpad=1)\n",
    "axs[2, 0].set_yticklabels(map(\"{:.2f}\".format, r_ticks.values()))\n",
    "axs[2, 0].set_xlabel(\"Length (bp)\", labelpad=1)\n",
    "\n",
    "\"\"\"Add fake colorbar\"\"\"\n",
    "\n",
    "y = np.linspace(*rlim, 100)\n",
    "x = np.zeros_like(y)\n",
    "cax = axs[0, -1]\n",
    "cax.imshow(\n",
    "    y[::-1, None],\n",
    "    cmap=\"flare_r\",\n",
    "    norm=rnorm,\n",
    "    aspect=15,\n",
    "    extent=[0, 1, rlim[0], rlim[1]],\n",
    ")\n",
    "cax.yaxis.tick_right()\n",
    "cax.yaxis.set_label_position(\"right\")\n",
    "cax.set_yticks(r_ticks.values())\n",
    "cax.set_yticklabels(map(\"{:.2f}\".format, r_ticks.values()))\n",
    "cax.set_ylabel(\"Rate\")\n",
    "cax.set_xticks([])\n",
    "\n",
    "mar_l = 0.4\n",
    "mar_r = -0.15\n",
    "mar_t = 0.05\n",
    "mar_b = 0.35\n",
    "\n",
    "plt.subplots_adjust(\n",
    "    hspace=1,\n",
    "    left=mar_l / width,\n",
    "    right=1 - mar_r / width,\n",
    "    top=1 - mar_t / height,\n",
    "    bottom=mar_b / height,\n",
    ")\n",
    "\n",
    "pos = cax.get_position()\n",
    "x0 = axs[1, -1].get_position().x0\n",
    "cax.set_position((x0, pos.y0, pos.width, pos.height))\n",
    "for ax in axs[1:, -1]:\n",
    "    ax.remove()\n",
    "\n",
    "panel = \"ABC\"\n",
    "savefig()"
   ]
  },
  {
   "cell_type": "code",
   "execution_count": null,
   "metadata": {},
   "outputs": [],
   "source": []
  }
 ],
 "metadata": {
  "jupytext": {
   "formats": "py,ipynb"
  },
  "kernelspec": {
   "display_name": "manuscript_venv",
   "language": "python",
   "name": "python3"
  },
  "language_info": {
   "codemirror_mode": {
    "name": "ipython",
    "version": 3
   },
   "file_extension": ".py",
   "mimetype": "text/x-python",
   "name": "python",
   "nbconvert_exporter": "python",
   "pygments_lexer": "ipython3",
   "version": "3.9.16"
  },
  "vscode": {
   "interpreter": {
    "hash": "3db5140dc9ab6e43a95aad46deb2a20dad4234c77fa3b10e712a0ca16b540fb8"
   }
  }
 },
 "nbformat": 4,
 "nbformat_minor": 4
}
